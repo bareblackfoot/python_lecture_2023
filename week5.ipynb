{
 "cells": [
  {
   "attachments": {},
   "cell_type": "markdown",
   "id": "23d34826",
   "metadata": {},
   "source": [
    "# 5주차: 객체지향 프로그래밍"
   ]
  },
  {
   "attachments": {},
   "cell_type": "markdown",
   "id": "c8203478",
   "metadata": {},
   "source": [
    "### * 오늘의 커리큘럼 *\n",
    "\n",
    "#### 수업1: 객체 지향 프로그래밍\n",
    "- 클래스와 객체 이해하기  \n",
    "- 클래스 정의와 작업하기 \n",
    "\n",
    "#### 수업2: 상속, 다형성, 캡슐화, 추상화\n",
    "- 상속과 다형성 이해하기  \n",
    "- 캡슐화와 추상화 이해하기  "
   ]
  },
  {
   "attachments": {},
   "cell_type": "markdown",
   "id": "8128a224",
   "metadata": {},
   "source": [
    "### ================================="
   ]
  },
  {
   "attachments": {},
   "cell_type": "markdown",
   "id": "db8d7a62",
   "metadata": {},
   "source": [
    "### 수업1: 객체 지향 프로그래밍\n",
    "\n",
    "교재 190페이지\n",
    "\n",
    "혹은 https://wikidocs.net/28"
   ]
  },
  {
   "cell_type": "code",
   "execution_count": 3,
   "id": "57c9571c",
   "metadata": {
    "scrolled": true
   },
   "outputs": [],
   "source": [
    "# 클래스\n",
    "# class : 똑같은 무엇인가를 계속해서 만들어 낼 수 있는 설계 도면\n",
    "# object : 클래스로 만든 피조물로써, 객체마다 고유한 성격을 가진다.\n",
    "# 즉 동일한 클래스로 만든 객체들은 서로 전혀 영향을 주지 않는다.\n",
    "class Calculator:\n",
    "    def __init__(self):\n",
    "        self.result = 0\n",
    "    \n",
    "    def add(self, num):\n",
    "        self.result += num\n",
    "        return self.result\n",
    "\n",
    "cal1 = Calculator()\n",
    "cal2 = Calculator()\n",
    "\n",
    "# print(cal1.add(3))\n",
    "# print(cal1.add(4))\n",
    "# print(cal2.add(3))\n",
    "# print(cal2.add(7))\n",
    "\n",
    "# 객체와 인스턴스의 차이\n",
    "\"\"\"\n",
    "클래스로 만든 객체를 인스턴스라고도 한다. 따라서 인스턴스라는 말은 특정 객체가 어떤 클래스의 객체인지를 관계 위주로 설명할 때 사용.\n",
    "ex) a는 객체 / a는 Cookie의 인스턴스\n",
    "\"\"\"\n",
    "# self: 첫 번째 매개변수 self에는 setData메서드를 호출한 객체 a가 자동으로 전달.\n",
    "# 파이썬 매서드의 첫 번째 매개변수 이름은 관례적으로 self를 사용한다. 객체를 호출할 때 호출한 객체 자신이 전달되기 때문. \n",
    "# self말고 다른 이름을 사용해도 상관없음.\n",
    "class FourCal:\n",
    "    def setData(self, first, second):\n",
    "        self.first = first\n",
    "        self.second = second\n",
    "    # 더하기\n",
    "    def add(self):\n",
    "        result = self.first + self.second\n",
    "        return result\n",
    "    # 곱하기\n",
    "    def mul(self):\n",
    "        result = self.first * self.second\n",
    "        return result\n",
    "    # 빼기\n",
    "    def sub(self):\n",
    "        result = self.first - self.second\n",
    "        return result\n",
    "    # 나누기\n",
    "    def div(self):\n",
    "        result = self.first / self.second\n",
    "        return result\n",
    "     \n",
    "a = FourCal()\n",
    "a.setData(4, 2)\n",
    "# print(type(a))\n",
    "# print(a.first)\n",
    "# print(a.second)\n",
    "# print(a.add())\n",
    "# print(a.mul())\n",
    "# print(a.sub())\n",
    "# print(a.div())\n",
    "\n",
    "# 클래스로 만든 객체의 객체변수는 다른 객체의 객체변수에 상관없이 독립적인 값을 유지한다.\n",
    "\n",
    "# 생성자(Constructor) : 객체가 생성될 때 자동으로 호출되는 메서드를 의미\n",
    "# 초깃값을 설정해야 할 필요가 있을 때는 생성자를 구현하는 것이 안전한 방법.\n",
    "class ConFourCal:\n",
    "    # __init__ : 생성자로 인식되어 객체가 생성되는 시점에 자동으로 호출\n",
    "    def __init__(self, first, second):\n",
    "        self.first = first\n",
    "        self.second = second\n",
    "    def setData(self, first, second):\n",
    "        self.first = first\n",
    "        self.second = second\n",
    "    # 더하기\n",
    "    def add(self):\n",
    "        result = self.first + self.second\n",
    "        return result\n",
    "    # 곱하기\n",
    "    def mul(self):\n",
    "        result = self.first * self.second\n",
    "        return result\n",
    "    # 빼기\n",
    "    def sub(self):\n",
    "        result = self.first - self.second\n",
    "        return result\n",
    "    # 나누기\n",
    "    def div(self):\n",
    "        result = self.first / self.second\n",
    "        return result\n",
    "\n",
    "b = ConFourCal(4, 2)\n",
    "# print(b.first)\n",
    "# print(b.second)\n",
    "# print(b.add())\n",
    "# print(b.div())"
   ]
  },
  {
   "attachments": {},
   "cell_type": "markdown",
   "id": "f018c82d",
   "metadata": {},
   "source": [
    "### 수업 2: 상속, 다형성, 캡슐화, 추상화\n",
    "\n",
    "교재 207페이지\n",
    "\n",
    "혹은 https://wikidocs.net/28"
   ]
  },
  {
   "cell_type": "code",
   "execution_count": 2,
   "id": "53da4681",
   "metadata": {},
   "outputs": [
    {
     "name": "stdout",
     "output_type": "stream",
     "text": [
      "김\n",
      "박\n"
     ]
    }
   ],
   "source": [
    "# 클래스의 상속 : 어떤 클래스를 만들 때 다른 클래스의 기능을 물려받을 수 있게 만드는 것.\n",
    "# 보통 상속은 기존 클래스를 변경하지 않고 기능을 추가하거나 기존 기능을 변경하려고 할 때 사용.\n",
    "\"\"\"\n",
    "class 클래스 이름(상속할 클래스 이름)\n",
    "\"\"\"\n",
    "class MoreFourCal(ConFourCal):\n",
    "    def pow(self):\n",
    "        result = self.first ** self.second\n",
    "        return result\n",
    "\n",
    "a = MoreFourCal(4, 2)\n",
    "# print(a.add())\n",
    "# print(a.pow())\n",
    "\n",
    "# 매서드 오버라이딩\n",
    "class SafeFourCal(ConFourCal):\n",
    "    def div(self): # div매서드는 ConFourCal에 존재, 기존 것을 사용하여 second부분을 0인채 실행을 하면 ZeroDivisionError가 발생!\n",
    "        if self.second == 0:\n",
    "            return 0\n",
    "        else:\n",
    "            return self.first / self.second\n",
    "\n",
    "a = SafeFourCal(4, 0)\n",
    "# print(a.div())\n",
    "\n",
    "# 클래스 변수 : 클래스 변수는 클래스 안에 함수를 선언하는 것과 마찬가지로 클래스 안에 변수를 선언하여 생성.\n",
    "class Family:\n",
    "    lastName = '김'\n",
    "\n",
    "print(Family.lastName)\n",
    "Family.lastName = '박'\n",
    "print(Family.lastName)"
   ]
  }
 ],
 "metadata": {
  "kernelspec": {
   "display_name": "Python 3 (ipykernel)",
   "language": "python",
   "name": "python3"
  }
 },
 "nbformat": 4,
 "nbformat_minor": 5
}
