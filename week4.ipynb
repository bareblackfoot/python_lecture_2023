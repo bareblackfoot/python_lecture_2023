{
 "cells": [
  {
   "attachments": {},
   "cell_type": "markdown",
   "id": "23d34826",
   "metadata": {},
   "source": [
    "# 4주차: 파일 입출력, 예외처리"
   ]
  },
  {
   "attachments": {},
   "cell_type": "markdown",
   "id": "c8203478",
   "metadata": {},
   "source": [
    "### * 오늘의 커리큘럼 *\n",
    "\n",
    "#### 수업1: 함수\n",
    "- 함수 정의와 호출\n",
    "\n",
    "#### 수업2: 입출력 \n",
    "- 사용자 입출력\n",
    "- 파일에서 읽기및쓰기\n",
    "- 다른 파일 형식과 작업 "
   ]
  },
  {
   "attachments": {},
   "cell_type": "markdown",
   "id": "8128a224",
   "metadata": {},
   "source": [
    "### ================================="
   ]
  },
  {
   "attachments": {},
   "cell_type": "markdown",
   "id": "8258b960",
   "metadata": {},
   "source": [
    "### 수업1: 함수\n",
    "\n",
    "교재 153페이지\n",
    "\n",
    "혹은 https://wikidocs.net/24"
   ]
  },
  {
   "cell_type": "code",
   "execution_count": null,
   "id": "2e3c77e4",
   "metadata": {},
   "outputs": [
    {
     "name": "stdout",
     "output_type": "stream",
     "text": [
      "7\n",
      "7\n"
     ]
    }
   ],
   "source": [
    "# 함수\n",
    "\"\"\"\n",
    "def 함수 이름(매개변수):\n",
    "    수행할 문장1\n",
    "    수행할 문장2\n",
    "    ...\n",
    "\"\"\"\n",
    "\n",
    "def add(a, b):\n",
    "    return a + b\n",
    "a = 3\n",
    "b = 4\n",
    "c = add(a, b)\n",
    "print(c)\n",
    "print(add(a, b))"
   ]
  },
  {
   "cell_type": "code",
   "execution_count": null,
   "id": "73b5d4a6",
   "metadata": {},
   "outputs": [],
   "source": [
    "# 입력값이 없는 함수\n",
    "def say():\n",
    "    return 'Hi'\n",
    "a = say()\n",
    "print(a)"
   ]
  },
  {
   "cell_type": "code",
   "execution_count": null,
   "id": "69229b1c",
   "metadata": {},
   "outputs": [],
   "source": [
    "# 결괏값이 없는 함수\n",
    "def add(a, b):\n",
    "    print(\"%d, %d의 합은 %d입니다.\" % (a, b, a + b))"
   ]
  },
  {
   "cell_type": "code",
   "execution_count": 53,
   "id": "d18df681",
   "metadata": {},
   "outputs": [
    {
     "name": "stdout",
     "output_type": "stream",
     "text": [
      "6\n",
      "15\n"
     ]
    }
   ],
   "source": [
    "# 여러개의 입력값을 받는 함수\n",
    "# 매개변수 이름 앞에 *을 붙이면 전부 모아서 튜플로 만들어줌\n",
    "def add_many(*args):\n",
    "    result = 0\n",
    "    for i in args:\n",
    "        result = result + i\n",
    "    return result\n",
    "\n",
    "\n",
    "result = add_many(1, 2, 3)\n",
    "print(result)\n",
    "result = add_many(1, 2, 3, 4, 5)\n",
    "print(result)\n"
   ]
  },
  {
   "cell_type": "code",
   "execution_count": 54,
   "id": "4058f59a",
   "metadata": {},
   "outputs": [
    {
     "name": "stdout",
     "output_type": "stream",
     "text": [
      "15\n",
      "120\n"
     ]
    }
   ],
   "source": [
    "def add_mul(choice, *args):\n",
    "    if choice == \"add\":\n",
    "        result = 0\n",
    "        for i in args:\n",
    "            result = result + i\n",
    "    elif choice == \"mul\":\n",
    "        result = 1\n",
    "        for i in args:\n",
    "            result = result * i\n",
    "    return result\n",
    "result = add_mul('add', 1, 2, 3, 4, 5)\n",
    "print(result)\n",
    "result = add_mul('mul', 1, 2, 3, 4, 5)\n",
    "print(result)"
   ]
  },
  {
   "cell_type": "code",
   "execution_count": null,
   "id": "9e7c73c0",
   "metadata": {},
   "outputs": [],
   "source": [
    "# **키워드 파라미터 : 매개변수가 딕셔너리가 되고 모든 key = value 형태의 결괏값이 그 딕셔너리에 저장된다.\n",
    "def print_kwargs(**kwargs):\n",
    "    print(kwargs)\n",
    "print_kwargs(a = 1)\n",
    "print_kwargs(name = 'foo', age = 3)"
   ]
  },
  {
   "cell_type": "code",
   "execution_count": null,
   "id": "ced97c04",
   "metadata": {},
   "outputs": [],
   "source": [
    "# 결괏값은 언제나 하나로 리턴된다.\n",
    "def add_and_mul(a, b):\n",
    "    return a + b, a * b\n",
    "result = add_and_mul(3, 4)\n",
    "print(result) # 튜플 형태로 리턴\n",
    "# 두개로 리턴 받고 싶으면?\n",
    "result1, result2 = add_and_mul(3, 4)\n",
    "print(result1)\n",
    "print(result2)"
   ]
  },
  {
   "cell_type": "code",
   "execution_count": 1,
   "id": "6c38a98d",
   "metadata": {},
   "outputs": [
    {
     "name": "stdout",
     "output_type": "stream",
     "text": [
      "나의 이름은 이름입니다.\n",
      "나이는 29살입니다.\n",
      "여자입니다.\n"
     ]
    }
   ],
   "source": [
    "# 매개변수에 초깃값 미리 설정\n",
    "def say_myself(name, old, man=True):\n",
    "    print(f\"나의 이름은 {name}입니다.\")\n",
    "    print(f\"나이는 {old}살입니다.\")\n",
    "    if man:\n",
    "        print(\"남자입니다.\")\n",
    "    else:\n",
    "        print(\"여자입니다.\")\n",
    "say_myself(\"이름\", \"29\", man=False)"
   ]
  },
  {
   "cell_type": "code",
   "execution_count": null,
   "id": "dfeca46c",
   "metadata": {},
   "outputs": [],
   "source": [
    "# global 명령어\n",
    "a = 1\n",
    "def vartest():\n",
    "    global a\n",
    "    a = a + 1\n",
    "\n",
    "vartest()\n",
    "print(a)"
   ]
  },
  {
   "cell_type": "code",
   "execution_count": null,
   "id": "1fc64f38",
   "metadata": {},
   "outputs": [],
   "source": [
    "# lambda : 함수를 생성할 때 사용하는 예약어로 def와 동일한 역할을 한다. 보통 함수를 한줄로 간결하게 만들 때 사용한다. \n",
    "# lambda 매개변수1, 매개변수2, ...: 매개변수를 사용한 표현식\n",
    "# lambda 예약어로 만든 함수는 return 명령어가 없어도 결괏값을 돌려준다.\n",
    "add = lambda a, b: a + b\n",
    "result = add(3, 4)\n",
    "print(result)"
   ]
  },
  {
   "cell_type": "code",
   "execution_count": 62,
   "id": "22bc12bb",
   "metadata": {},
   "outputs": [],
   "source": [
    "a = input(\"맞으면 True, 틀리면 False를  입력해주세요    : \")"
   ]
  },
  {
   "cell_type": "code",
   "execution_count": 60,
   "id": "0fb86b7d",
   "metadata": {},
   "outputs": [],
   "source": [
    "if (a == \"True\"): \n",
    "    a = True\n",
    "else: \n",
    "    a = False"
   ]
  },
  {
   "cell_type": "code",
   "execution_count": 61,
   "id": "cadd6e08",
   "metadata": {},
   "outputs": [
    {
     "data": {
      "text/plain": [
       "True"
      ]
     },
     "execution_count": 61,
     "metadata": {},
     "output_type": "execute_result"
    }
   ],
   "source": [
    "a"
   ]
  },
  {
   "cell_type": "code",
   "execution_count": 67,
   "id": "7169c381",
   "metadata": {},
   "outputs": [
    {
     "name": "stdout",
     "output_type": "stream",
     "text": [
      "name:  누리 나이:  1\n"
     ]
    }
   ],
   "source": [
    "print(\"name: \", \"누리\", \"나이: \", 1)"
   ]
  },
  {
   "cell_type": "code",
   "execution_count": 70,
   "id": "10f25b7c",
   "metadata": {},
   "outputs": [
    {
     "name": "stdout",
     "output_type": "stream",
     "text": [
      "0 1 2 3 4 5 6 7 8 9 "
     ]
    }
   ],
   "source": [
    "for i in range(10):\n",
    "    # print(i, end='\\n')\n",
    "    print(i, end = \" \")"
   ]
  },
  {
   "attachments": {},
   "cell_type": "markdown",
   "id": "db8d7a62",
   "metadata": {},
   "source": [
    "### 수업2: 사용자/파일 입출력 \n",
    "\n",
    "(사용자 입출력)\n",
    "교재 171페이지\n",
    "\n",
    "혹은 https://wikidocs.net/25"
   ]
  },
  {
   "cell_type": "code",
   "execution_count": 3,
   "id": "57c9571c",
   "metadata": {},
   "outputs": [
    {
     "name": "stdout",
     "output_type": "stream",
     "text": [
      "Lifeistoo short\n",
      "Life is too short\n",
      "0 1 2 3 4 5 6 7 8 9 \n"
     ]
    }
   ],
   "source": [
    "# 사용자 입력과 출력\n",
    "# input\n",
    "# a = input()\n",
    "# print(a)\n",
    "# number = input(\"숫자를 입력하세요: \")\n",
    "# print(number)\n",
    "\n",
    "# print\n",
    "# ,를 안붙이면 띄어쓰지 않음\n",
    "print(\"Life\" \"is\" \"too short\")\n",
    "# ,를 쓰면 띄어씀\n",
    "print(\"Life\", \"is\", \"too short\")\n",
    "# 한 줄에 결괏값 출력하기\n",
    "for i in range(10):\n",
    "    print(i, end = ' ')\n",
    "print(\"\")\n"
   ]
  },
  {
   "attachments": {},
   "cell_type": "markdown",
   "id": "373b3a2d",
   "metadata": {},
   "source": [
    "(파일 입출력)\n",
    "교재 175페이지\n",
    "\n",
    "혹은 https://wikidocs.net/26"
   ]
  },
  {
   "cell_type": "code",
   "execution_count": null,
   "id": "329c0b87",
   "metadata": {},
   "outputs": [],
   "source": [
    "# 파일 생성\n",
    "# 파일 객체 = open(파일이름, 파일 열기 모드)\n",
    "# r = 읽기 모드\n",
    "# w = 쓰기 모드\n",
    "# a = 추가 모드 : 파일의 마지막에 새로운 내용을 추가할 때 사용\n",
    "# 디렉토리는 없으면 만들어야 함. 안그러면 에러남!\n",
    "f = open(\"새파일.txt\", 'w')\n",
    "for i in range(1, 11):\n",
    "    data = f\"{i}번째 줄입니다.\\n\"\n",
    "    f.write(data)\n",
    "f.close()\n",
    "\n",
    "# 프로그램의 외부에 저장된 파일을 읽는 여러가지 방법\n",
    "# readline : 한 줄 출력\n",
    "f = open('새파일.txt', 'r')\n",
    "while True:\n",
    "    line = f.readline()\n",
    "    if not line: break\n",
    "    print(line)\n",
    "f.close()\n",
    "# readlines : 모든 줄을 리스트로 돌려준다.\n",
    "f = open('새파일.txt', 'r')\n",
    "lines = f.readlines()\n",
    "for line in lines:\n",
    "    print(line)\n",
    "f.close()\n",
    "# read\n",
    "f = open('새파일.txt', 'r')\n",
    "data = f.read()\n",
    "print(data)\n",
    "f.close()\n",
    "\n",
    "# 파일에 새로운 내용 추가(a)\n",
    "f = open('새파일.txt', 'a')\n",
    "for i in range(11, 20):\n",
    "    data = f\"{i}번째 줄입니다.\\n\"\n",
    "    f.write(data)\n",
    "f.close()\n",
    "\n",
    "# with : 파일을 열고 닫는 것을 자동으로 처리\n",
    "with open('새파일.txt', 'a') as f:\n",
    "    f.write(\"Life is too short, you need python\")"
   ]
  },
  {
   "attachments": {},
   "cell_type": "markdown",
   "id": "885df482",
   "metadata": {},
   "source": [
    "(프로그램 입출력)\n",
    "교재 183페이지\n",
    "\n",
    "혹은 https://wikidocs.net/180507"
   ]
  },
  {
   "cell_type": "code",
   "execution_count": 6,
   "id": "eada76fc",
   "metadata": {},
   "outputs": [
    {
     "name": "stdout",
     "output_type": "stream",
     "text": [
      "-f\n",
      "/home/blackfoot/.local/share/jupyter/runtime/kernel-2caa86fe-6cb4-43c2-82d8-36500ad7deb6.json\n"
     ]
    }
   ],
   "source": [
    "# sys1.py\n",
    "import sys\n",
    "\n",
    "args = sys.argv[1:]\n",
    "for i in args:\n",
    "    print(i)"
   ]
  },
  {
   "cell_type": "code",
   "execution_count": 7,
   "id": "f42ea16d",
   "metadata": {},
   "outputs": [
    {
     "name": "stdout",
     "output_type": "stream",
     "text": [
      "-F /HOME/BLACKFOOT/.LOCAL/SHARE/JUPYTER/RUNTIME/KERNEL-2CAA86FE-6CB4-43C2-82D8-36500AD7DEB6.JSON "
     ]
    }
   ],
   "source": [
    "# sys2.py\n",
    "import sys\n",
    "args = sys.argv[1:]\n",
    "for i in args:\n",
    "    print(i.upper(), end=' ')"
   ]
  }
 ],
 "metadata": {
  "kernelspec": {
   "display_name": "Python 3 (ipykernel)",
   "language": "python",
   "name": "python3"
  },
  "language_info": {
   "codemirror_mode": {
    "name": "ipython",
    "version": 3
   },
   "file_extension": ".py",
   "mimetype": "text/x-python",
   "name": "python",
   "nbconvert_exporter": "python",
   "pygments_lexer": "ipython3",
   "version": "3.9.7"
  }
 },
 "nbformat": 4,
 "nbformat_minor": 5
}
