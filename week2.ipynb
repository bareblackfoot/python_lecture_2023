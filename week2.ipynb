{
 "cells": [
  {
   "cell_type": "markdown",
   "id": "837b6dfa",
   "metadata": {},
   "source": [
    "# 2주차: 데이터 구조, 제어구조 및 함수"
   ]
  },
  {
   "cell_type": "markdown",
   "id": "13d1394a",
   "metadata": {},
   "source": [
    "### * 오늘의 커리큘럼 *\n",
    "\n",
    "#### 수업1: 데이터 구조\n",
    "- 숫자\n",
    "- 문자열\n",
    "- 리스트  \n",
    "- 튜플  \n",
    "- 세트  \n",
    "- 딕셔너리\n",
    "- 집합\n",
    "- 불\n",
    "\n",
    "#### 수업2: 제어 구조 \n",
    "- 조건문: if, else, elif \n",
    "- 반복문: while, for  \n",
    "\n",
    "#### 수업3: 함수와 모듈 \n",
    "- 함수 정의와 호출"
   ]
  },
  {
   "cell_type": "markdown",
   "id": "cce8b65b",
   "metadata": {},
   "source": [
    "### =================================\n"
   ]
  },
  {
   "cell_type": "markdown",
   "id": "db8d7a62",
   "metadata": {},
   "source": [
    "### 수업1: 데이터 구조\n",
    "\n",
    "교재 46페이지\n",
    "\n",
    "혹은 https://wikidocs.net/11"
   ]
  },
  {
   "cell_type": "markdown",
   "id": "911ffbc7",
   "metadata": {},
   "source": [
    "#### 숫자 (Numbers)"
   ]
  },
  {
   "cell_type": "markdown",
   "id": "9698268b",
   "metadata": {},
   "source": [
    "Integers and floats work as you would expect from other languages:"
   ]
  },
  {
   "cell_type": "code",
   "execution_count": 3,
   "id": "94c5a4a5",
   "metadata": {},
   "outputs": [
    {
     "name": "stdout",
     "output_type": "stream",
     "text": [
      "3 <class 'int'>\n"
     ]
    }
   ],
   "source": [
    "x = 3\n",
    "print(x, type(x))"
   ]
  },
  {
   "cell_type": "code",
   "execution_count": 41,
   "id": "2043932b",
   "metadata": {},
   "outputs": [
    {
     "name": "stdout",
     "output_type": "stream",
     "text": [
      "2\n",
      "0\n",
      "2\n",
      "1\n",
      "0.5\n"
     ]
    }
   ],
   "source": [
    "print(x + 1)   # Addition;\n",
    "print(x - 1)   # Subtraction;\n",
    "print(x * 2)  # Multiplication;\n",
    "print(x ** 2)  # Exponentiation;\n",
    "print(x / 2)  # Devision;"
   ]
  },
  {
   "cell_type": "code",
   "execution_count": 65,
   "id": "2a3f58fe",
   "metadata": {},
   "outputs": [],
   "source": [
    "# 정수형\n",
    "a = 123\n",
    "a = -178\n",
    "a = 0"
   ]
  },
  {
   "cell_type": "code",
   "execution_count": 66,
   "id": "1e213157",
   "metadata": {},
   "outputs": [],
   "source": [
    "# 실수형\n",
    "a = 1.2\n",
    "a = -3.45\n",
    "a = 4.24E10\n",
    "a = 4.24e-10"
   ]
  },
  {
   "cell_type": "code",
   "execution_count": 67,
   "id": "85693e27",
   "metadata": {},
   "outputs": [],
   "source": [
    "# 8진수\n",
    "a = 0o177\n",
    "\n",
    "# 16진수\n",
    "a = 0x8ff\n",
    "a = 0xABC"
   ]
  },
  {
   "cell_type": "code",
   "execution_count": 68,
   "id": "52840d4d",
   "metadata": {},
   "outputs": [
    {
     "data": {
      "text/plain": [
       "2.23606797749979"
      ]
     },
     "execution_count": 68,
     "metadata": {},
     "output_type": "execute_result"
    }
   ],
   "source": [
    "# 복소수\n",
    "a = 1 + 2j\n",
    "b = 3 - 4J\n",
    "\n",
    "a.real # 1.0\n",
    "a.imag # 2.0\n",
    "a.conjugate() # (1 - 2j) 켤레 복소수 리턴\n",
    "abs(a) # 2.2360679664997898 복소수의 절댓값 리턴"
   ]
  },
  {
   "cell_type": "code",
   "execution_count": 69,
   "id": "3df159d8",
   "metadata": {},
   "outputs": [
    {
     "data": {
      "text/plain": [
       "0.75"
      ]
     },
     "execution_count": 69,
     "metadata": {},
     "output_type": "execute_result"
    }
   ],
   "source": [
    "# 사칙 연산\n",
    "a = 3\n",
    "b = 4\n",
    "a + b # 7\n",
    "a * b # 12\n",
    "a / b # 0.75"
   ]
  },
  {
   "cell_type": "code",
   "execution_count": 70,
   "id": "29a24f55",
   "metadata": {},
   "outputs": [
    {
     "data": {
      "text/plain": [
       "81"
      ]
     },
     "execution_count": 70,
     "metadata": {},
     "output_type": "execute_result"
    }
   ],
   "source": [
    "# x의 y제곱을 나타내는 ** 연산자\n",
    "a = 3\n",
    "b = 4\n",
    "a ** b # 81"
   ]
  },
  {
   "cell_type": "code",
   "execution_count": 71,
   "id": "b3c32a6b",
   "metadata": {},
   "outputs": [
    {
     "data": {
      "text/plain": [
       "3"
      ]
     },
     "execution_count": 71,
     "metadata": {},
     "output_type": "execute_result"
    }
   ],
   "source": [
    "# 나눗셈후 나머지를 반환하는 % 연산\n",
    "7 % 3 # 1\n",
    "3 % 7 # 3"
   ]
  },
  {
   "cell_type": "code",
   "execution_count": 72,
   "id": "17323b13",
   "metadata": {},
   "outputs": [
    {
     "data": {
      "text/plain": [
       "1"
      ]
     },
     "execution_count": 72,
     "metadata": {},
     "output_type": "execute_result"
    }
   ],
   "source": [
    "# 나눗셈 후 소수점 아랫자리를 버리는 // 연산자\n",
    "7 / 4 # 1.75\n",
    "7 // 4 # 1"
   ]
  },
  {
   "cell_type": "markdown",
   "id": "95df2eb1",
   "metadata": {},
   "source": [
    "Note that unlike many languages, Python does not have unary increment (x++) or decrement (x--) operators.\n",
    "\n",
    "Python also has built-in types for long integers and complex numbers; you can find all of the details in the [documentation](https://docs.python.org/2/library/stdtypes.html#numeric-types-int-float-long-complex)."
   ]
  },
  {
   "cell_type": "markdown",
   "id": "71babfeb",
   "metadata": {},
   "source": [
    "#### 문자열 (Strings)"
   ]
  },
  {
   "cell_type": "markdown",
   "id": "580f39c4",
   "metadata": {},
   "source": []
  },
  {
   "cell_type": "code",
   "execution_count": 2,
   "id": "320d45c3",
   "metadata": {},
   "outputs": [
    {
     "name": "stdout",
     "output_type": "stream",
     "text": [
      "hello world\n"
     ]
    }
   ],
   "source": [
    "hello = 'hello'   # String literals can use single quotes\n",
    "world = \" world\"   # or double quotes; it does not matter.\n",
    "print(hello + world)\n",
    "# print(hello, len(hello))"
   ]
  },
  {
   "cell_type": "code",
   "execution_count": 3,
   "id": "b3b2b259",
   "metadata": {},
   "outputs": [
    {
     "data": {
      "text/plain": [
       "5"
      ]
     },
     "execution_count": 3,
     "metadata": {},
     "output_type": "execute_result"
    }
   ],
   "source": [
    "len(hello)"
   ]
  },
  {
   "cell_type": "markdown",
   "id": "1731c897",
   "metadata": {},
   "source": [
    "String objects have a bunch of useful methods; for example:"
   ]
  },
  {
   "cell_type": "markdown",
   "id": "c3cad46e",
   "metadata": {},
   "source": [
    "You can find a list of all string methods in the [documentation](https://docs.python.org/2/library/stdtypes.html#string-methods)."
   ]
  },
  {
   "cell_type": "code",
   "execution_count": null,
   "id": "09fcc545",
   "metadata": {},
   "outputs": [],
   "source": [
    "# 문자열\n",
    "\"Life is too short, You need Python\"\n",
    "\"a\"\n",
    "\"123\"\n",
    "\n",
    "# 큰따옴표(\")로 양쪽 둘러싸기\n",
    "\"Hello World\"\n",
    "\n",
    "# 작은따옴표(')로 양쪽 둘러싸기\n",
    "'Python is fun'\n",
    "\n",
    "# 큰따옴표 3개를 연속(\"\"\")으로 써서 양쪽 둘러싸기\n",
    "\"\"\"Life is too short, You need python\"\"\"\n",
    "\n",
    "# 작은따옴표 3개를 연속(''')으로 써서 양쪽 둘러싸기\n",
    "'''Life is too short, You need python'''"
   ]
  },
  {
   "cell_type": "code",
   "execution_count": null,
   "id": "e85e58e4",
   "metadata": {},
   "outputs": [],
   "source": [
    "# 문자열에 작은따옴표(')포함시키기\n",
    "food = \"Python's favorite food is perl\"\n",
    "\n",
    "# 문자열에 큰따옴표(\")포함시키기\n",
    "say = '\"Python is very easy.\" he says.'\n",
    "\n",
    "# \\(백슬래시)를 이용해서 작은따옴표(')와 큰따옴표(\")를 문자열에 포함시키기\n",
    "food = 'Python\\'s favorite food is perl'\n",
    "say = \"\\\"Python is very easy.\\\"he says.\""
   ]
  },
  {
   "cell_type": "code",
   "execution_count": null,
   "id": "51d75d62",
   "metadata": {},
   "outputs": [],
   "source": [
    "# 여러 줄인 문자열을 변수에 대입하고 싶을 때\n",
    "# 줄을 바꾸기 위한 이스케이프 코드 '\\n' 삽입하기\n",
    "multiline = \"Life is too short\\nYou need python\"\n",
    "\n",
    "# 연속된 작은 따옴표 3개(''') 또는 큰따옴표 3개(\"\"\")이용\n",
    "multiline = '''\n",
    "Life is too short\n",
    "You need python\n",
    "'''\n",
    "\n",
    "multiline = \"\"\"\n",
    "Life is too short\n",
    "You need python\n",
    "\"\"\"\n",
    "\n",
    "print(multiline)"
   ]
  },
  {
   "cell_type": "code",
   "execution_count": null,
   "id": "ecc6aac2",
   "metadata": {},
   "outputs": [],
   "source": [
    "# 문자열 더해서 연결하기\n",
    "head = \"Python\"\n",
    "tail = \"is fun!\"\n",
    "head + tail"
   ]
  },
  {
   "cell_type": "code",
   "execution_count": null,
   "id": "6750d5aa",
   "metadata": {},
   "outputs": [],
   "source": [
    "# 문자열 곱하기\n",
    "a = \"python\"\n",
    "a * 2\n",
    "\n",
    "# multistring.py\n",
    "print(\"=\" * 50)\n",
    "print(\"My Program\")\n",
    "print(\"=\" * 50)"
   ]
  },
  {
   "cell_type": "code",
   "execution_count": null,
   "id": "e156a5b1",
   "metadata": {},
   "outputs": [],
   "source": [
    "# 문자열 인덱싱\n",
    "a = \"Life is too short, You need Python\"\n",
    "a[3] # 'e'\n",
    "a[0] # 'L'\n",
    "a[12] # 's'\n",
    "a[-1] # 'n'\n",
    "a[-0] # 'L' a[0]와 같다\n",
    "a[-2] # 'o' 뒤에서 두 번째 문자\n",
    "a[-5] # 'y' 뒤에서 다섯 번째 문자\n",
    "\n",
    "# 문자열 슬라이싱\n",
    "a = \"Life is too short, You need Python\"\n",
    "b = a[0] + a[1] + a[2] + a[3] # 'Life'\n",
    "a[0:4] # 'Life'\n",
    "a[0:3] # 'Lif'\n",
    "a[0:5] # 'Life '\n",
    "a[0:2] # 'Li'\n",
    "a[5:7] # 'is'\n",
    "a[12:17] # 'short'\n",
    "a[19:] # 'You need Python'\n",
    "a[:17] # 'Life is too short'\n",
    "a[:] # 'Life is too short, You need Python'\n",
    "a[19:-7] # 'You need'\n",
    "\n",
    "a = \"20010331Rainy\"\n",
    "data = a[:8] # 20010331\n",
    "weather = a[8:] # Rainy\n",
    "year = a[:4] # 2001\n",
    "day = a[4:8] # 0331\n",
    "weather = a[8:] # Rainy"
   ]
  },
  {
   "cell_type": "code",
   "execution_count": null,
   "id": "e5778e41",
   "metadata": {},
   "outputs": [],
   "source": [
    "# 문자열 포매팅\n",
    "# 숫자 바로 대입\n",
    "\"I eat %d apples.\" % 3 # 'I eat 3 apples.'\n",
    "\n",
    "# 문자열 바로 대입\n",
    "\"I eat %s apples.\" % \"five\" # 'I eat five apples.'\n",
    "\n",
    "# 숫자 값을 나타내는 변수로 대입\n",
    "number = 3\n",
    "\"I eat %d apples.\" % number # 'I eat 3 apples.'\n",
    "\n",
    "# 2개 이상의 값 넣기\n",
    "number = 10\n",
    "day = \"three\"\n",
    "\"I ate %d apples, so I was sick for %s days.\" % (number, day)\n",
    "# 'I ate 10 apples, so I was sick for three days.'\n",
    "\n",
    "# 어떤 형태의 값이든 변환해 넣을 수 있는 %s 포맷 코드\n",
    "\"I have %s apples\" % 3 # 'I have 3 apples'\n",
    "\"rate is %s\" % 3.234 # 'rate is 3.234'\n",
    "\n",
    "# 포맷 코드와 숫자 함께 사용하기\n",
    "# 정렬과 공백\n",
    "\"%10s\" % \"hi\" # '        hi'\n",
    "\"%-10sjane\" % \"hi\" # hi        jane\n",
    "\n",
    "# 소수점 표현하기\n",
    "\"%0.4f\" % 3.42134234 # '3.4213'\n",
    "\"%10.4f\" % 3.42134234 # '    3.4213'"
   ]
  },
  {
   "cell_type": "code",
   "execution_count": null,
   "id": "b38fdad1",
   "metadata": {},
   "outputs": [],
   "source": [
    "# 문자 개수 세기\n",
    "a = \"hobby\"\n",
    "a.count('b') # 2\n",
    "\n",
    "# 위치 알려주기 1\n",
    "a = \"Python is best choice\"\n",
    "a.find('b') # 10\n",
    "a.find('k') # -1\n",
    "\n",
    "# 위치 알려주기 2\n",
    "a = \"Life is too short\"\n",
    "a.index('t') # 8\n",
    "# a.index('k')\n",
    "\n",
    "# 문자열 삽입\n",
    "a = \",\"\n",
    "a.join('abcd') # 'a,b,c,d'"
   ]
  },
  {
   "cell_type": "code",
   "execution_count": null,
   "id": "953e1937",
   "metadata": {},
   "outputs": [],
   "source": [
    "# 소문자를 대문자로 바꾸기\n",
    "a = \"hi\"\n",
    "a.upper() # 'HI'\n",
    "\n",
    "# 대문자를 소문자로 바꾸기\n",
    "a = \"HI\"\n",
    "a.lower() # 'hi'\n",
    "\n",
    "# 왼쪽 공백 지우기\n",
    "a = \" hi \"\n",
    "a.lstrip() # 'hi '\n",
    "\n",
    "# 오른쪽 공백 지우기\n",
    "a = \" hi \"\n",
    "a.rstrip() # ' hi'\n",
    "\n",
    "# 양쪽 공백 지우기\n",
    "a = \" hi \"\n",
    "a.strip() # 'hi'\n",
    "\n",
    "# 문자열 바꾸기\n",
    "a = \"Life is too short\"\n",
    "a.replace(\"Life\", \"Your leg\") # 'Your leg is too short'\n",
    "\n",
    "# 문자열 나누기\n",
    "a = \"Life is too short\"\n",
    "a.split() # ['Life', 'is', 'too', 'short']\n",
    "a = \"a:b:c:d\"\n",
    "a.split(':') # ['a', 'b', 'c', 'd']"
   ]
  },
  {
   "cell_type": "code",
   "execution_count": null,
   "id": "f05f3660",
   "metadata": {},
   "outputs": [],
   "source": [
    "# 'Pithon'이라는 문자열을 'Python'으로 바꾸기\n",
    "a = \"Pithon\"\n",
    "a[1] = 'i'\n",
    "a[1] = 'y'\n",
    "\n",
    "a = \"Pithon\"\n",
    "a[:1] # 'P'\n",
    "a[2:] # 'thon'\n",
    "a[:1] + 'y' + a[2:] # 'Python'\n",
    "\n",
    "# \"Error is %d%\" % 98\n",
    "\"Error is %d%%.\" % 98 # 'Error is 98%.'"
   ]
  },
  {
   "cell_type": "code",
   "execution_count": null,
   "id": "67750055",
   "metadata": {},
   "outputs": [],
   "source": [
    "# 고급 문자열 포매팅\n",
    "# 숫자 바로 대입하기\n",
    "\"I eat {0} apples\".format(3) # 'I eat 3 apples'\n",
    "\n",
    "# 문자열 바로 대입하기\n",
    "\"I eat {0} apples\".format(\"five\") # 'I eat five apples'\n",
    "\n",
    "# 숫자 값을 가진 변수를 대입하기\n",
    "number =3\n",
    "\"I eat {0} apples\".format(number) # 'I eat 3 apples'\n",
    "\n",
    "# 2개 이상의 값 넣기\n",
    "number = 10\n",
    "day = \"three\"\n",
    "\"I ate {0} apples. so I was sick for {1} days.\".format(number, day)\n",
    "# 'I ate 10 apples. so I was for three days.'\n",
    "\n",
    "# 이름으로 넣기\n",
    "\"I ate {number} apples. so I was sick for {day} days.\".format(number = 10, day = 3)\n",
    "# 'I ate 10 apples. so I was for three days.'.\n",
    "\n",
    "# 인덱스와 이름을 혼용해서 넣기\n",
    "\"I ate {0} apples. so I was sick for {day} days.\".format(10, day = 3)\n",
    "# 'I ate 10 apples. so I was for three days.'"
   ]
  },
  {
   "cell_type": "markdown",
   "id": "85b3869a",
   "metadata": {},
   "source": [
    "#### 리스트 (Lists)"
   ]
  },
  {
   "cell_type": "markdown",
   "id": "ee83e69a",
   "metadata": {},
   "source": [
    "A list is the Python equivalent of an array, but is resizeable and can contain elements of different types. You can find all details about lists in the [documentation](https://docs.python.org/3.11/tutorial/datastructures.html#more-on-lists)."
   ]
  },
  {
   "cell_type": "code",
   "execution_count": null,
   "id": "8ce9851e",
   "metadata": {},
   "outputs": [],
   "source": [
    "# 리스트\n",
    "# 여러 가지 리스트의 표현\n",
    "odd = [1, 3, 5, 7, 9]\n",
    "a =[] # 비어있는 리스트\n",
    "b = [1, 2, 3]\n",
    "c = ['Life', 'is', 'too', 'short']\n",
    "d = [1, 2, 'Life', 'is']\n",
    "e = [1, 2, ['Life', 'is']]"
   ]
  },
  {
   "cell_type": "code",
   "execution_count": null,
   "id": "960fb22e",
   "metadata": {},
   "outputs": [],
   "source": [
    "# 리스트 인덱싱\n",
    "a = [1, 2, 3]\n",
    "a # [1, 2, 3]\n",
    "a[0] # 1\n",
    "a[0] + a[2] # 4\n",
    "a[-1] # 3\n",
    "a = [1, 2, 3, ['a', 'b', 'c']]\n",
    "a[0] # 1\n",
    "a[-1] # ['a', 'b', 'c']\n",
    "a[3] # ['a', 'b', 'c']\n",
    "a[-1][0] # 'a'\n",
    "a[-1][1] # 'b'\n",
    "a[-1][2] # 'c'\n",
    "\n",
    "# 삼중 리스트에서 인덱싱하기\n",
    "a = [1, 2, ['a', 'b', ['Life', 'is']]]\n",
    "a[2][2][0] # 'Life'\n"
   ]
  },
  {
   "cell_type": "code",
   "execution_count": null,
   "id": "9363074c",
   "metadata": {},
   "outputs": [],
   "source": [
    "# 리스트의 슬라이싱\n",
    "a = [1, 2, 3, 4, 5]\n",
    "a[0:2] # [1, 2]\n",
    "a = \"12345\"\n",
    "a[0:2] # '12'\n",
    "# 문자열에서 사용하는 슬라이싱 방법과 동일하다.\n",
    "\n",
    "a = [1, 2, 3, 4, 5]\n",
    "b = a[:2]\n",
    "c = a[2:]\n",
    "b # [1, 2]\n",
    "c # [3, 4, 5]\n",
    "\n",
    "# 중첩된 리스트에서 슬라이싱하기\n",
    "a = [1, 2, 3, ['a', 'b', 'c'], 4, 5]\n",
    "a[2:5] # [3, ['a', 'b', 'c'], 4]\n",
    "a[3][:2] # ['a', 'b']"
   ]
  },
  {
   "cell_type": "code",
   "execution_count": null,
   "id": "cea90e68",
   "metadata": {},
   "outputs": [],
   "source": [
    "# 리스트 더하기(+)\n",
    "a = [1, 2, 3]\n",
    "b = [4, 5, 6]\n",
    "a + b # [1, 2, 3, 4, 5, 6]\n",
    "\n",
    "# 리스트 반복하기(*)\n",
    "a = [1, 2, 3]\n",
    "a * 3 # [1, 2, 3, 1, 2, 3, 1, 2, 3]\n",
    "\n",
    "# 초보자가 범하기 쉬운 리스트 연산 오류\n",
    "a = [1, 2, 3]\n",
    "# a[2] + \"hi\" Error\n",
    "str(a[2]) + \"hi\"\n"
   ]
  },
  {
   "cell_type": "code",
   "execution_count": null,
   "id": "e34fe861",
   "metadata": {},
   "outputs": [],
   "source": [
    "# 리스트에서 하나의 값 수정하기\n",
    "a = [1, 2, 3]\n",
    "a[2] = 4\n",
    "a # [1, 2, 4]\n",
    "\n",
    "# 리스트에서 연속된 범위의 값 수정하기\n",
    "a = [1, 2, 4]\n",
    "a[1:2] # [2]\n",
    "a[1:2] = ['a', 'b', 'c']\n",
    "a # [1, 'a', 'b', 'c', 4]\n",
    "\n",
    "# [] 사용해 리스트 요소 삭제하기\n",
    "a[1:3] = []\n",
    "a # [1, 'c', 4]\n",
    "\n",
    "# del 함수 사용해 리스트 요소 삭제하기\n",
    "a = [1, 'c', 4]\n",
    "a # [1, 'c', 4]\n",
    "del a[1]\n",
    "a # [1,4]\n",
    "\n",
    "# 리스트에 요소 추가\n",
    "a = [1, 2, 3]\n",
    "a.append(4)\n",
    "a # [1, 2, 3, 4]\n",
    "a.append([5, 6])\n",
    "a # [1, 2, 3, 4, [5, 6]]"
   ]
  },
  {
   "cell_type": "code",
   "execution_count": null,
   "id": "e7907618",
   "metadata": {},
   "outputs": [],
   "source": [
    "# 리스트 정렬\n",
    "a = [1, 4, 3, 2]\n",
    "a.sort()\n",
    "a # [1, 2, 3, 4]\n",
    "a = ['a', 'c', 'b']\n",
    "a.sort()\n",
    "a # ['a', 'b', 'c']\n",
    "\n",
    "# 리스트 뒤집기\n",
    "a = ['a', 'c', 'b']\n",
    "a.reverse()\n",
    "a # ['b', 'c', 'a']\n",
    "\n",
    "# 위치 반환\n",
    "a = [1, 2, 3]\n",
    "a.index(3) # 2\n",
    "a.index(1) # 0\n",
    "# a.indxe(0) Error\n",
    "\n",
    "# 리스트에 요소 삽입\n",
    "a = [1, 2, 3]\n",
    "a.insert(0, 4) # [4, 1, 2, 3]\n",
    "a.insert(3, 5) # [4, 1, 2, 5, 3]\n",
    "\n",
    "# 리스트 요소 제거\n",
    "a = [1, 2, 3, 1, 2, 3]\n",
    "a.remove(3) # [1, 2, 1, 2, 3]\n",
    "a.remove(3) # [1, 2, 1, 2]\n",
    "\n",
    "# 리스트 요소 끄집어내기\n",
    "a = [1, 2, 3]\n",
    "a.pop() # 3\n",
    "a # [1, 2]\n",
    "a = [1, 2, 3]\n",
    "a.pop(1) # 2\n",
    "a # [1, 3]\n",
    "\n",
    "# 리스트에 포함된 요소 x의 개수 세기\n",
    "a = [1, 2, 3, 1]\n",
    "a.count(1) # 2\n",
    "\n",
    "# 리스트 확장\n",
    "a = [1, 2, 3]\n",
    "a.extend([4, 5])\n",
    "a # [1, 2, 3, 4, 5]\n",
    "b = [6, 7]\n",
    "a.extend(b)\n",
    "a # [1, 2, 3, 4, 5, 6, 7]"
   ]
  },
  {
   "cell_type": "markdown",
   "id": "8b8323a7",
   "metadata": {},
   "source": [
    "#### 튜플 (Tuples)"
   ]
  },
  {
   "cell_type": "markdown",
   "id": "92325374",
   "metadata": {},
   "source": [
    "A tuple is an (immutable) ordered list of values. A tuple is in many ways similar to a list; one of the most important differences is that tuples can be used as keys in dictionaries and as elements of sets, while lists cannot. Here is a trivial example:"
   ]
  },
  {
   "cell_type": "code",
   "execution_count": 36,
   "id": "c57b0cd9",
   "metadata": {},
   "outputs": [
    {
     "name": "stdout",
     "output_type": "stream",
     "text": [
      "{(0, 1): 0, (1, 2): 1, (2, 3): 2, (3, 4): 3, (4, 5): 4, (5, 6): 5, (6, 7): 6, (7, 8): 7, (8, 9): 8, (9, 10): 9}\n",
      "<class 'tuple'>\n",
      "5\n",
      "1\n"
     ]
    }
   ],
   "source": [
    "d = {(x, x + 1): x for x in range(10)}  # Create a dictionary with tuple keys\n",
    "print(d)\n",
    "t = (5, 6)       # Create a tuple\n",
    "print(type(t))\n",
    "print(d[t])       \n",
    "print(d[(1, 2)])"
   ]
  },
  {
   "cell_type": "code",
   "execution_count": 37,
   "id": "0f30b73f",
   "metadata": {
    "scrolled": true
   },
   "outputs": [
    {
     "ename": "TypeError",
     "evalue": "'tuple' object does not support item assignment",
     "output_type": "error",
     "traceback": [
      "\u001b[0;31m---------------------------------------------------------------------------\u001b[0m",
      "\u001b[0;31mTypeError\u001b[0m                                 Traceback (most recent call last)",
      "\u001b[0;32m/tmp/ipykernel_2793807/1253691622.py\u001b[0m in \u001b[0;36m<module>\u001b[0;34m\u001b[0m\n\u001b[0;32m----> 1\u001b[0;31m \u001b[0mt\u001b[0m\u001b[0;34m[\u001b[0m\u001b[0;36m0\u001b[0m\u001b[0;34m]\u001b[0m \u001b[0;34m=\u001b[0m \u001b[0;36m1\u001b[0m\u001b[0;34m\u001b[0m\u001b[0;34m\u001b[0m\u001b[0m\n\u001b[0m",
      "\u001b[0;31mTypeError\u001b[0m: 'tuple' object does not support item assignment"
     ]
    }
   ],
   "source": [
    "t[0] = 1"
   ]
  },
  {
   "cell_type": "code",
   "execution_count": null,
   "id": "2ce6839f",
   "metadata": {},
   "outputs": [],
   "source": [
    "# 튜플\n",
    "# 튜플의 표현\n",
    "t1 = ()\n",
    "t2 = (1,)\n",
    "t3 = (1,2, 3)\n",
    "t4 = 1, 2, 3\n",
    "t5 = ('a', 'b', ('ab', 'cd'))\n",
    "\n",
    "# 튜플 요소 값 삭제 시 오류\n",
    "t1 = (1, 2, 'a', 'b')\n",
    "# def t1[0] Error\n",
    "\n",
    "# 튜플 요소 값 변경 시 오류\n",
    "t1 = (1, 2, 'a', 'b')\n",
    "# t1[0] = 'c' Error\n",
    "\n",
    "# 튜플 인덱싱\n",
    "t1 = (1, 2, 'a', 'b')\n",
    "t1[0] # 1\n",
    "t1[3] # 'b'\n",
    "\n",
    "# 튜플 슬라이싱\n",
    "t1 = (1, 2, 'a', 'b')\n",
    "t1[1:] # (2, 'a', 'b')\n",
    "\n",
    "# 튜플 더하기\n",
    "t2 = (3, 4)\n",
    "t1 + t2 # (1, 2, 'a', 'b', 3, 4)\n",
    "\n",
    "# 튜플 곱하기\n",
    "t2 * 3 # (3, 4, 3, 4, 3, 4)"
   ]
  },
  {
   "cell_type": "markdown",
   "id": "61683466",
   "metadata": {},
   "source": [
    "#### 딕셔너리 (Dictionaries)"
   ]
  },
  {
   "cell_type": "markdown",
   "id": "9a8e919d",
   "metadata": {},
   "source": [
    "A dictionary stores (key, value) pairs, similar to a `Map` in Java or an object in Javascript. You can use it like this:"
   ]
  },
  {
   "cell_type": "code",
   "execution_count": 23,
   "id": "135fff9e",
   "metadata": {},
   "outputs": [
    {
     "name": "stdout",
     "output_type": "stream",
     "text": [
      "cute\n",
      "True\n"
     ]
    }
   ],
   "source": [
    "d = {'cat': 'cute', 'dog': 'furry'}  # Create a new dictionary with some data\n",
    "print(d['cat'])      # Get an entry from a dictionary; prints \"cute\"\n",
    "print('cat' in d)     # Check if a dictionary has a given key; prints \"True\""
   ]
  },
  {
   "cell_type": "code",
   "execution_count": 24,
   "id": "c0379983",
   "metadata": {},
   "outputs": [
    {
     "name": "stdout",
     "output_type": "stream",
     "text": [
      "wet\n"
     ]
    }
   ],
   "source": [
    "d['fish'] = 'wet'    # Set an entry in a dictionary\n",
    "print(d['fish'])     # Prints \"wet\""
   ]
  },
  {
   "cell_type": "code",
   "execution_count": 25,
   "id": "d4c895ad",
   "metadata": {},
   "outputs": [
    {
     "ename": "KeyError",
     "evalue": "'monkey'",
     "output_type": "error",
     "traceback": [
      "\u001b[0;31m---------------------------------------------------------------------------\u001b[0m",
      "\u001b[0;31mKeyError\u001b[0m                                  Traceback (most recent call last)",
      "\u001b[0;32m/tmp/ipykernel_2793807/3521650589.py\u001b[0m in \u001b[0;36m<module>\u001b[0;34m\u001b[0m\n\u001b[0;32m----> 1\u001b[0;31m \u001b[0mprint\u001b[0m\u001b[0;34m(\u001b[0m\u001b[0md\u001b[0m\u001b[0;34m[\u001b[0m\u001b[0;34m'monkey'\u001b[0m\u001b[0;34m]\u001b[0m\u001b[0;34m)\u001b[0m  \u001b[0;31m# KeyError: 'monkey' not a key of d\u001b[0m\u001b[0;34m\u001b[0m\u001b[0;34m\u001b[0m\u001b[0m\n\u001b[0m",
      "\u001b[0;31mKeyError\u001b[0m: 'monkey'"
     ]
    }
   ],
   "source": [
    "print(d['monkey'])  # KeyError: 'monkey' not a key of d"
   ]
  },
  {
   "cell_type": "code",
   "execution_count": 26,
   "id": "e93e6c26",
   "metadata": {},
   "outputs": [
    {
     "name": "stdout",
     "output_type": "stream",
     "text": [
      "N/A\n",
      "wet\n"
     ]
    }
   ],
   "source": [
    "print(d.get('monkey', 'N/A'))  # Get an element with a default; prints \"N/A\"\n",
    "print(d.get('fish', 'N/A'))    # Get an element with a default; prints \"wet\""
   ]
  },
  {
   "cell_type": "code",
   "execution_count": 27,
   "id": "712a635a",
   "metadata": {},
   "outputs": [
    {
     "name": "stdout",
     "output_type": "stream",
     "text": [
      "N/A\n"
     ]
    }
   ],
   "source": [
    "del d['fish']        # Remove an element from a dictionary\n",
    "print(d.get('fish', 'N/A')) # \"fish\" is no longer a key; prints \"N/A\""
   ]
  },
  {
   "cell_type": "markdown",
   "id": "303ae9b2",
   "metadata": {},
   "source": [
    "You can find all you need to know about dictionaries in the [documentation](https://docs.python.org/2/library/stdtypes.html#dict)."
   ]
  },
  {
   "cell_type": "code",
   "execution_count": 9,
   "id": "8e02a99f",
   "metadata": {},
   "outputs": [
    {
     "name": "stdout",
     "output_type": "stream",
     "text": [
      "name\n",
      "phone\n",
      "birth\n"
     ]
    },
    {
     "data": {
      "text/plain": [
       "False"
      ]
     },
     "execution_count": 9,
     "metadata": {},
     "output_type": "execute_result"
    }
   ],
   "source": [
    "# 딕셔녀리의 표현\n",
    "dic = { 'name' : 'pey', 'phone' : '0119993323', 'birth' : '1118' }\n",
    "'''\n",
    "Key     Value\n",
    "name    pey\n",
    "phone   0119993323\n",
    "birth   1118\n",
    "'''\n",
    "\n",
    "a = { 1 : 'hi' } # Key : 1, Value : 'hi'\n",
    "a = { 'a' : [1, 2, 3] } # Key : 'a', Value : [1, 2, 3]\n",
    "\n",
    "# 딕셔너리 쌍 추가하기\n",
    "a = { 1 : 'a' }\n",
    "a[2] = 'b'\n",
    "a # { 2 : 'b', 1 : 'a' }\n",
    "a['name'] = 'pey'\n",
    "a # { 'name' : 'pey', 2 : 'b', 1 : 'a' }\n",
    "a[3] = [1, 2, 3]\n",
    "a # { 'name' : 'pey', 3 : [1, 2, 3], 2 : 'b', 1 : 'a' }\n",
    "\n",
    "# 딕셔너리 요소 삭제하기\n",
    "del a[1]\n",
    "a # { 'name' : 'pey', 3 : [1, 2, 3], 2 : 'b' }\n",
    "\n",
    "# 딕셔너리에서 Key 사용해 Value 얻기\n",
    "grade = { 'pey' : 10, 'julliet' : 99 }\n",
    "grade['pey'] # 10\n",
    "grade['julliet'] # 99\n",
    "a = { 1 : 'a', 2 : 'b' }\n",
    "a[1] # 'a'\n",
    "a[2] # 'b'\n",
    "a = { 'a' : 1, 'b' : 2 }\n",
    "a['a'] # 1\n",
    "a['b'] # 2\n",
    "dic = { 'name' : 'pey', 'phone' : '0119993323', 'birth' : '1118' }\n",
    "dic['name'] # 'pey'\n",
    "dic['phone'] # '0119993323'\n",
    "dic['birth'] # '1118'\n",
    "\n",
    "\n",
    "# 딕셔너리 만들 때 주의할 사항\n",
    "a = { 1 : 'a', 1 : 'b' }\n",
    "a # { 1 : 'b' } 동일한 Key는 사용할 수 없음\n",
    "# a = { [1, 2] : 'hi' } 변하는 값은 Key로 사용할 수 없음\n",
    "\n",
    "# Key 리스트 만들기\n",
    "a = { 'name' : 'pey', 'phone' : '0119993323', 'birth' : '1118' }\n",
    "a.keys() # dic_keys(['name', 'phone', 'birth'])\n",
    "for k in a.keys() :\n",
    "    print(k)\n",
    "'''\n",
    "name\n",
    "phone\n",
    "birth\n",
    "'''\n",
    "\n",
    "# dict_keys 객체를 리스트로 반환\n",
    "list(a.keys()) # ['phone', 'birth', 'name']\n",
    "\n",
    "# Value 리스트 만들기\n",
    "a.values() # dic_values(['pey', '0119993323', '1118'])\n",
    "\n",
    "# Key, Value 쌍 얻기\n",
    "a.items() # dict_items([('name', 'pey'), ('phone', '0119993323'), ('birth', '1118')])\n",
    "\n",
    "# Key, Value 쌍 모두 지우기\n",
    "a.clear()\n",
    "a # ()\n",
    "\n",
    "# Key로 Value 얻기\n",
    "a = { 'name' : 'pey', 'phone' : '0119993323', 'birth' : '1118' }\n",
    "a.get('name') # 'pey'\n",
    "a.get('phone') # '0119993323'\n",
    "a.get('nokey') # None\n",
    "# a['nokey'] Error\n",
    "a.get('foo', 'bar') # default값인 'bar' 반환\n",
    "\n",
    "# Key가 딕셔너리 안에 있는지 조사하기\n",
    "a = { 'name' : 'pey', 'phone' : '0119993323', 'birth' : '1118' }\n",
    "'name' in a # True\n",
    "'email' in a # False"
   ]
  },
  {
   "cell_type": "markdown",
   "id": "7abd3db0",
   "metadata": {},
   "source": [
    "#### 세트 (Sets)"
   ]
  },
  {
   "cell_type": "markdown",
   "id": "60b59189",
   "metadata": {},
   "source": [
    "A set is an unordered collection of distinct elements. As a simple example, consider the following:"
   ]
  },
  {
   "cell_type": "code",
   "execution_count": 31,
   "id": "2b8f2581",
   "metadata": {},
   "outputs": [
    {
     "name": "stdout",
     "output_type": "stream",
     "text": [
      "True\n",
      "False\n"
     ]
    }
   ],
   "source": [
    "animals = {'cat', 'dog'}\n",
    "print('cat' in animals)  # Check if an element is in a set; prints \"True\"\n",
    "print('fish' in animals) # prints \"False\""
   ]
  },
  {
   "cell_type": "code",
   "execution_count": 32,
   "id": "8c673dad",
   "metadata": {},
   "outputs": [
    {
     "name": "stdout",
     "output_type": "stream",
     "text": [
      "True\n",
      "3\n"
     ]
    }
   ],
   "source": [
    "animals.add('fish')      # Add an element to a set\n",
    "print('fish' in animals)\n",
    "print(len(animals))       # Number of elements in a set;"
   ]
  },
  {
   "cell_type": "code",
   "execution_count": 33,
   "id": "f930f996",
   "metadata": {},
   "outputs": [
    {
     "name": "stdout",
     "output_type": "stream",
     "text": [
      "3\n",
      "2\n"
     ]
    }
   ],
   "source": [
    "animals.add('cat')       # Adding an element that is already in the set does nothing\n",
    "print(len(animals))       \n",
    "animals.remove('cat')    # Remove an element from a set\n",
    "print(len(animals))       "
   ]
  },
  {
   "cell_type": "code",
   "execution_count": 10,
   "id": "7036eace",
   "metadata": {
    "scrolled": true
   },
   "outputs": [
    {
     "data": {
      "text/plain": [
       "{1, 3}"
      ]
     },
     "execution_count": 10,
     "metadata": {},
     "output_type": "execute_result"
    }
   ],
   "source": [
    "# 집합의 표현\n",
    "s1 = set([1, 2, 3])\n",
    "s1 # {1, 2, 3}\n",
    "s2 = set('Hello')\n",
    "s2 # { 'e', 'l', 'o', 'H' }\n",
    "\n",
    "# 집합의 값을 인덱싱으로 접근\n",
    "s1 = set([1, 2, 3])\n",
    "l1 = list(s1) # [1, 2, 3]\n",
    "l1[0] # 1\n",
    "l1 = tuple(s1)\n",
    "l1 # (1, 2, 3)\n",
    "l1[0] # 1\n",
    "\n",
    "# 집합 자료형의 활용\n",
    "s1 = set([1, 2, 3, 4, 5, 6])\n",
    "s2 = set([4, 5, 6, 7, 8, 9])\n",
    "\n",
    "# 교집합\n",
    "s1 & s2 # { 4, 5, 6 }\n",
    "s1.intersection(s2) # { 4, 5, 6 }\n",
    "\n",
    "# 합집합\n",
    "s1 | s2 # { 1, 2, 3, 4, 5, 6, 7, 8, 9 }\n",
    "s1.union(s2) # { 1, 2, 3, 4, 5, 6, 7, 8, 9 }\n",
    "\n",
    "# 차집합\n",
    "s1 - s2 # { 1, 2, 3 }\n",
    "s2 - s1 # { 8, 9, 7 }\n",
    "s1.difference(s2) # { 1, 2, 3 }\n",
    "s2.difference(s1) # { 8, 9, 7 }\n",
    "\n",
    "# 값 1개 추가하기\n",
    "s1 = set([1, 2, 3])\n",
    "s1.add(4)\n",
    "s1 # { 1, 2, 3, 4 }\n",
    "\n",
    "# 값 여러 개 추가하기\n",
    "s1 = set([1, 2, 3])\n",
    "s1.update([4, 5, 6])\n",
    "s1 # { 1, 2, 3, 4, 5, 6 }\n",
    "\n",
    "# 특정 값 제거하기\n",
    "s1 = set([1, 2, 3])\n",
    "s1.remove(2)\n",
    "s1 # { 1, 3 }"
   ]
  },
  {
   "cell_type": "markdown",
   "id": "02d01674",
   "metadata": {},
   "source": [
    "#### 불 (Booleans)"
   ]
  },
  {
   "cell_type": "markdown",
   "id": "58e8c5cf",
   "metadata": {},
   "source": [
    "Python implements all of the usual operators for Boolean logic, but uses English words rather than symbols (`&&`, `||`, etc.):"
   ]
  },
  {
   "cell_type": "code",
   "execution_count": 11,
   "id": "dd30cbc0",
   "metadata": {},
   "outputs": [
    {
     "name": "stdout",
     "output_type": "stream",
     "text": [
      "<class 'bool'>\n"
     ]
    }
   ],
   "source": [
    "t, f = True, False\n",
    "print(type(t)) # Prints \"<type 'bool'>\""
   ]
  },
  {
   "cell_type": "markdown",
   "id": "a3572f49",
   "metadata": {},
   "source": [
    "Now we let's look at the operations:"
   ]
  },
  {
   "cell_type": "code",
   "execution_count": 8,
   "id": "5d1ce9be",
   "metadata": {
    "scrolled": true
   },
   "outputs": [
    {
     "name": "stdout",
     "output_type": "stream",
     "text": [
      "False\n",
      "True\n",
      "False\n",
      "True\n"
     ]
    }
   ],
   "source": [
    "print(t and f) # Logical AND;\n",
    "print(t or f)  # Logical OR;\n",
    "print(not t)   # Logical NOT;\n",
    "print(t != f)  # Logical XOR;"
   ]
  },
  {
   "cell_type": "markdown",
   "id": "3bf3e874",
   "metadata": {},
   "source": [
    "#### 변수"
   ]
  },
  {
   "cell_type": "code",
   "execution_count": null,
   "id": "daf9e1fe",
   "metadata": {},
   "outputs": [],
   "source": [
    "# 변수\n",
    "a = 1\n",
    "b = \"python\"\n",
    "c = [1, 2, 3]\n",
    "\n",
    "a = 3\n",
    "type(3) # <class 'int'>\n",
    "\n",
    "a = 3\n",
    "b = 3\n",
    "a is b # True\n",
    "\n",
    "# a, b, c는 정말 같은 객체를 가리키는 걸까?\n",
    "import sys\n",
    "sys.getrefcount(3) # 30\n",
    "a = 3\n",
    "sys.getrefcount(3) # 31\n",
    "b = 3\n",
    "sys.getrefcount(3) # 32\n",
    "c = 3\n",
    "sys.getrefcount(3) # 33\n",
    "\n",
    "# 변수를 만드는 여러 가지 방법\n",
    "a, b = ('python', 'life')\n",
    "(a, b) = 'python', 'life'\n",
    "[a, b] = ['python', 'life']\n",
    "a = b = 'python'\n",
    "\n",
    "a = 3\n",
    "b = 5\n",
    "a, b = b, a\n",
    "a # 5\n",
    "b # 3\n",
    "\n",
    "# 메모리에 생성된 변수 없애기\n",
    "a = 3\n",
    "b = 3\n",
    "del(a)\n",
    "del(b)\n",
    "\n",
    "# 리스트를 변수에 넣고 복사하고자 할 때\n",
    "a = [1, 2, 3]\n",
    "b = a\n",
    "a[1] = 4\n",
    "a # [1, 4, 3]\n",
    "b # [1, 4, 3]\n",
    "\n",
    "# 1. [:] 이용\n",
    "a = [1, 2, 3]\n",
    "b = a[:]\n",
    "a[1] = 4\n",
    "a # [1, 4, 3]\n",
    "b # [1, 2, 3]\n",
    "\n",
    "# 2. copy 모듈 이용\n",
    "from copy import copy\n",
    "b = copy(a)\n",
    "b is a # False"
   ]
  },
  {
   "cell_type": "markdown",
   "id": "7323c0a6",
   "metadata": {},
   "source": [
    "#### Loops"
   ]
  },
  {
   "cell_type": "markdown",
   "id": "3fd4eaa9",
   "metadata": {},
   "source": [
    "You can loop over the elements of a list like this:"
   ]
  },
  {
   "cell_type": "code",
   "execution_count": 18,
   "id": "25466d4b",
   "metadata": {},
   "outputs": [
    {
     "name": "stdout",
     "output_type": "stream",
     "text": [
      "cat\n",
      "dog\n",
      "monkey\n"
     ]
    }
   ],
   "source": [
    "animals = ['cat', 'dog', 'monkey']\n",
    "for animal in animals:\n",
    "    print(animal)"
   ]
  },
  {
   "cell_type": "markdown",
   "id": "3f4de5c2",
   "metadata": {},
   "source": [
    "If you want access to the index of each element within the body of a loop, use the built-in `enumerate` function:"
   ]
  },
  {
   "cell_type": "code",
   "execution_count": 19,
   "id": "72cd19e7",
   "metadata": {},
   "outputs": [
    {
     "name": "stdout",
     "output_type": "stream",
     "text": [
      "#1: cat\n",
      "#2: dog\n",
      "#3: monkey\n"
     ]
    }
   ],
   "source": [
    "animals = ['cat', 'dog', 'monkey']\n",
    "for idx, animal in enumerate(animals):\n",
    "    print('#%d: %s' % (idx + 1, animal))"
   ]
  },
  {
   "cell_type": "markdown",
   "id": "56725734",
   "metadata": {},
   "source": [
    "#### List comprehensions:"
   ]
  },
  {
   "cell_type": "markdown",
   "id": "786a8aa7",
   "metadata": {},
   "source": [
    "When programming, frequently we want to transform one type of data into another. As a simple example, consider the following code that computes square numbers:"
   ]
  },
  {
   "cell_type": "code",
   "execution_count": 20,
   "id": "41054645",
   "metadata": {},
   "outputs": [
    {
     "name": "stdout",
     "output_type": "stream",
     "text": [
      "[0, 1, 4, 9, 16]\n"
     ]
    }
   ],
   "source": [
    "nums = [0, 1, 2, 3, 4]\n",
    "squares = []\n",
    "for x in nums:\n",
    "    squares.append(x ** 2)\n",
    "print(squares)"
   ]
  },
  {
   "cell_type": "markdown",
   "id": "9dfe56f5",
   "metadata": {},
   "source": [
    "You can make this code simpler using a list comprehension:"
   ]
  },
  {
   "cell_type": "code",
   "execution_count": null,
   "id": "aad8b701",
   "metadata": {},
   "outputs": [],
   "source": [
    "a.sort()\n",
    "print()"
   ]
  },
  {
   "cell_type": "code",
   "execution_count": 21,
   "id": "fe0644be",
   "metadata": {},
   "outputs": [
    {
     "name": "stdout",
     "output_type": "stream",
     "text": [
      "[0, 1, 4, 9, 16]\n"
     ]
    }
   ],
   "source": [
    "nums = [0, 1, 2, 3, 4]\n",
    "squares = [x ** 2 for x in nums]\n",
    "print(squares)"
   ]
  },
  {
   "cell_type": "markdown",
   "id": "1809a01c",
   "metadata": {},
   "source": [
    "List comprehensions can also contain conditions:"
   ]
  },
  {
   "cell_type": "code",
   "execution_count": 22,
   "id": "1ec4d9b9",
   "metadata": {},
   "outputs": [
    {
     "name": "stdout",
     "output_type": "stream",
     "text": [
      "[0, 4, 16]\n"
     ]
    }
   ],
   "source": [
    "nums = [0, 1, 2, 3, 4]\n",
    "even_squares = [x ** 2 for x in nums if x % 2 == 0]\n",
    "print(even_squares)"
   ]
  },
  {
   "cell_type": "markdown",
   "id": "dbae7283",
   "metadata": {},
   "source": [
    "It is easy to iterate over the keys in a dictionary:"
   ]
  },
  {
   "cell_type": "code",
   "execution_count": 28,
   "id": "15e19062",
   "metadata": {},
   "outputs": [
    {
     "name": "stdout",
     "output_type": "stream",
     "text": [
      "A person has 2 legs\n",
      "A cat has 4 legs\n",
      "A spider has 8 legs\n"
     ]
    }
   ],
   "source": [
    "d = {'person': 2, 'cat': 4, 'spider': 8}\n",
    "for animal in d:\n",
    "    legs = d[animal]\n",
    "    print('A %s has %d legs' % (animal, legs))"
   ]
  },
  {
   "cell_type": "markdown",
   "id": "c3c04db5",
   "metadata": {},
   "source": [
    "If you want access to keys and their corresponding values, use the iteritems method:"
   ]
  },
  {
   "cell_type": "code",
   "execution_count": 29,
   "id": "e3068f54",
   "metadata": {},
   "outputs": [
    {
     "name": "stdout",
     "output_type": "stream",
     "text": [
      "A person has 2 legs\n",
      "A cat has 4 legs\n",
      "A spider has 8 legs\n"
     ]
    }
   ],
   "source": [
    "d = {'person': 2, 'cat': 4, 'spider': 8}\n",
    "for animal, legs in d.items():\n",
    "    print('A %s has %d legs' % (animal, legs))"
   ]
  },
  {
   "cell_type": "markdown",
   "id": "124fa98e",
   "metadata": {},
   "source": [
    "Dictionary comprehensions: These are similar to list comprehensions, but allow you to easily construct dictionaries. For example:"
   ]
  },
  {
   "cell_type": "code",
   "execution_count": 30,
   "id": "7cc86547",
   "metadata": {},
   "outputs": [
    {
     "name": "stdout",
     "output_type": "stream",
     "text": [
      "{0: 0, 2: 4, 4: 16}\n"
     ]
    }
   ],
   "source": [
    "nums = [0, 1, 2, 3, 4]\n",
    "even_num_to_square = {x: x ** 2 for x in nums if x % 2 == 0}\n",
    "print(even_num_to_square)"
   ]
  },
  {
   "cell_type": "markdown",
   "id": "98d89b26",
   "metadata": {},
   "source": [
    "_Loops_: Iterating over a set has the same syntax as iterating over a list; however since sets are unordered, you cannot make assumptions about the order in which you visit the elements of the set:"
   ]
  },
  {
   "cell_type": "code",
   "execution_count": 34,
   "id": "b9c028d5",
   "metadata": {},
   "outputs": [
    {
     "name": "stdout",
     "output_type": "stream",
     "text": [
      "#1: cat\n",
      "#2: fish\n",
      "#3: dog\n"
     ]
    }
   ],
   "source": [
    "animals = {'cat', 'dog', 'fish'}\n",
    "for idx, animal in enumerate(animals):\n",
    "    print('#%d: %s' % (idx + 1, animal))\n",
    "# Prints \"#1: fish\", \"#2: dog\", \"#3: cat\""
   ]
  },
  {
   "cell_type": "markdown",
   "id": "9be1c896",
   "metadata": {},
   "source": [
    "Set comprehensions: Like lists and dictionaries, we can easily construct sets using set comprehensions:"
   ]
  },
  {
   "cell_type": "code",
   "execution_count": 35,
   "id": "c02599e4",
   "metadata": {
    "scrolled": true
   },
   "outputs": [
    {
     "name": "stdout",
     "output_type": "stream",
     "text": [
      "{0, 1, 2, 3, 4, 5}\n"
     ]
    }
   ],
   "source": [
    "from math import sqrt\n",
    "print({int(sqrt(x)) for x in range(30)})"
   ]
  },
  {
   "cell_type": "markdown",
   "id": "c0dd5ff6",
   "metadata": {},
   "source": [
    "#### ================================\n",
    "### 되새김 문제\n",
    "#### ================================"
   ]
  },
  {
   "cell_type": "code",
   "execution_count": 9,
   "id": "8915f7eb",
   "metadata": {},
   "outputs": [
    {
     "data": {
      "text/plain": [
       "77.5"
      ]
     },
     "execution_count": 9,
     "metadata": {},
     "output_type": "execute_result"
    }
   ],
   "source": [
    "'''\n",
    "홍길동씨의 과목별 점수는 다음과 같다. 홍길동 씨의 평균 점수를 구해보자.\n",
    "국어 80점\n",
    "영어 75점\n",
    "수학 55점\n",
    "'''\n",
    "dict_a = {\"국어\": 80, \"영어\": 75, \"수학\": 55}\n",
    "sum(dict_a.values())/len(dict_a)\n",
    "a = [80, 75, 55, 100]\n",
    "sum(a) / len(a)"
   ]
  },
  {
   "cell_type": "code",
   "execution_count": 10,
   "id": "c46020b4",
   "metadata": {},
   "outputs": [
    {
     "name": "stdout",
     "output_type": "stream",
     "text": [
      "홀수\n"
     ]
    }
   ],
   "source": [
    "'''\n",
    "자연수 13이 홀수인지, 짝수인지 판별할 수 있는 방법에 대해 말해보자\n",
    "'''\n",
    "a = 13\n",
    "if (a % 2 == 1): # 나머지가 1이면 홀수\n",
    "    print(\"홀수\")\n",
    "else:# 나머지가 0이면 짝수\n",
    "    print(\"짝수\")\n",
    "    "
   ]
  },
  {
   "cell_type": "code",
   "execution_count": 13,
   "id": "22562bc3",
   "metadata": {},
   "outputs": [
    {
     "name": "stdout",
     "output_type": "stream",
     "text": [
      "881120\n",
      "1068234\n",
      "881120\n",
      "1068234\n"
     ]
    }
   ],
   "source": [
    "'''\n",
    "홍길동 씨의 주민등록번호는 881120-1068234이다.\n",
    "홍길동씨의 주민번호를 연월일(YYYYMMDD) 부분과\n",
    "그 뒤의 숫자 부분으로 나누어 출력해 보자.\n",
    "'''\n",
    "# 힌트 : \"-\"를 이용하기, 개수를 이용하기, 내장함수 이용하기 등등... split index \n",
    "pin = '881120-1068234'\n",
    "yyyymmdd = pin.split(\"-\")[0]\n",
    "num = pin.split(\"-\")[1]\n",
    "print(yyyymmdd) # 881120\n",
    "print(num) # 1068234\n",
    "\n",
    "index_ = pin.index(\"-\")\n",
    "yyyymmdd = pin[:index_]\n",
    "num = pin[index_+1:]\n",
    "print(yyyymmdd) # 881120\n",
    "print(num) # 1068234"
   ]
  },
  {
   "cell_type": "code",
   "execution_count": null,
   "id": "9843fb0f",
   "metadata": {},
   "outputs": [],
   "source": [
    "str(aa)"
   ]
  },
  {
   "cell_type": "code",
   "execution_count": 6,
   "id": "122b10d8",
   "metadata": {},
   "outputs": [
    {
     "name": "stdout",
     "output_type": "stream",
     "text": [
      "\n"
     ]
    }
   ],
   "source": [
    "'''\n",
    "주민등록번호 뒷자리의 맨 첫 번째 숫자는 성별을 나타낸다.\n",
    "주민등록번호에서 성별을 나타내는 숫자를 출력해보자.\n",
    "'''\n",
    "\n",
    "pin = '881120-1068234'\n",
    "print()"
   ]
  },
  {
   "cell_type": "code",
   "execution_count": 12,
   "id": "2b3b4b1c",
   "metadata": {},
   "outputs": [
    {
     "name": "stdout",
     "output_type": "stream",
     "text": [
      "a#b#c#d\n"
     ]
    }
   ],
   "source": [
    "'''\n",
    "다음과 같은 문자열 a:b:c:d 가 있다. 문자열의 replace 함수를 사용하여 a#b#c#d로 바꿔 출력해 보자. \n",
    "'''\n",
    "a = \"a:b:c:d\"\n",
    "b = \n",
    "print(b)"
   ]
  },
  {
   "cell_type": "code",
   "execution_count": 15,
   "id": "700d16f2",
   "metadata": {},
   "outputs": [
    {
     "name": "stdout",
     "output_type": "stream",
     "text": [
      "[5, 4, 3, 2, 1]\n"
     ]
    }
   ],
   "source": [
    "'''\n",
    "[1, 3, 5, 4, 2]라는 리스트를 [5, 4, 3, 2, 1]로 만들어보자.\n",
    "'''\n",
    "\n",
    "a = [1, 3, 5, 4, 2]\n",
    "a.\n",
    "a.\n",
    "print()"
   ]
  },
  {
   "cell_type": "code",
   "execution_count": null,
   "id": "44bc60ae",
   "metadata": {},
   "outputs": [],
   "source": [
    "'''\n",
    "Q7. 리스트를 문자열로 만들기\n",
    "['Life', 'is', 'too', 'short'] 리스트를 Life is too short 문자열로 만들어 출력해보자.\n",
    "\n",
    "'''\n",
    " \n",
    "\n",
    "a = ['Life', 'is', 'too', 'short']\n",
    "result = \n",
    "print(result)"
   ]
  },
  {
   "cell_type": "code",
   "execution_count": null,
   "id": "67b876ca",
   "metadata": {},
   "outputs": [],
   "source": [
    "'''\n",
    "Q8. 튜플 더하기\n",
    "(1,2,3) 튜플에 값 4를 추가하여 (1,2,3,4)를 만들어 출력해보자.\n",
    "\n",
    "'''\n",
    "\n",
    "a = (1,2,3)\n",
    "a = \n",
    "print(a)"
   ]
  },
  {
   "cell_type": "code",
   "execution_count": 16,
   "id": "6b92ce7e",
   "metadata": {},
   "outputs": [
    {
     "data": {
      "text/plain": [
       "\"\\nQ9. 딕셔너리의 키\\n다음과 같은 딕셔너리 a가 있다.\\n>>> a = dict()\\n>>> a\\n{}\\n\\n다음 중 오류가 발생하는 경우를 고르고, 그 이유를 설명해보자.\\na['name'] = 'python'\\na[('a',)] = 'python'\\na[[1]] = 'python'\\na[250] = 'python'\\n\""
      ]
     },
     "execution_count": 16,
     "metadata": {},
     "output_type": "execute_result"
    }
   ],
   "source": [
    "'''\n",
    "Q9. 딕셔너리의 키\n",
    "다음과 같은 딕셔너리 a가 있다.\n",
    ">>> a = dict()\n",
    ">>> a\n",
    "{}\n",
    "\n",
    "다음 중 오류가 발생하는 경우를 고르고, 그 이유를 설명해보자.\n",
    "a['name'] = 'python'\n",
    "a[('a',)] = 'python'\n",
    "a[[1]] = 'python'\n",
    "a[250] = 'python'\n",
    "'''"
   ]
  },
  {
   "cell_type": "code",
   "execution_count": null,
   "id": "68a71e87",
   "metadata": {},
   "outputs": [],
   "source": [
    "'''\n",
    "Q10. 딕셔너리 값 추출하기\n",
    "딕셔너리 a에서 'B'에 해당하는 값을 추출해 보자. \n",
    "'''\n",
    "\n",
    "a = {'A': 90, 'B': 80, 'C': 70}\n",
    "result = \n",
    "print(a)\n",
    "print(result)"
   ]
  },
  {
   "cell_type": "code",
   "execution_count": 18,
   "id": "9455579e",
   "metadata": {},
   "outputs": [
    {
     "ename": "SyntaxError",
     "evalue": "invalid syntax (570580459.py, line 7)",
     "output_type": "error",
     "traceback": [
      "\u001b[0;36m  File \u001b[0;32m\"/tmp/ipykernel_3483882/570580459.py\"\u001b[0;36m, line \u001b[0;32m7\u001b[0m\n\u001b[0;31m    aSet =\u001b[0m\n\u001b[0m          ^\u001b[0m\n\u001b[0;31mSyntaxError\u001b[0m\u001b[0;31m:\u001b[0m invalid syntax\n"
     ]
    }
   ],
   "source": [
    "'''\n",
    "Q11. 리스트에서 중복 제거하기\n",
    "리스트에서 중복 숫자를 제거해보자.\n",
    "'''\n",
    "\n",
    "a = [1,1,1,2,2,3,3,3,4,4,5]\n",
    "aSet =\n",
    "b = \n",
    "print(b)"
   ]
  },
  {
   "cell_type": "code",
   "execution_count": 21,
   "id": "984a20a6",
   "metadata": {},
   "outputs": [
    {
     "name": "stdout",
     "output_type": "stream",
     "text": [
      "[1, 4, 3]\n"
     ]
    }
   ],
   "source": [
    "'''\n",
    "Q12. 파이썬 변수\n",
    "파이썬은 다음처럼 동일한 값에 여러 개의 변수를 선언할 수 있다. \n",
    "다음과 같이 a,b 변수를 선언한 후 a의 두번째 요솟값을 변경하면 b 값은 어떻게 될까? \n",
    "그리고 이런 결과가 나오는 이유에 대해 설명해보자.\n",
    "'''\n",
    "\n",
    "a=b=[1,2,3] \n",
    "a[1] = 4 \n",
    "print(b)"
   ]
  },
  {
   "cell_type": "code",
   "execution_count": 27,
   "id": "a64b97d8",
   "metadata": {
    "scrolled": false
   },
   "outputs": [
    {
     "data": {
      "text/plain": [
       "139686381999120"
      ]
     },
     "execution_count": 27,
     "metadata": {},
     "output_type": "execute_result"
    }
   ],
   "source": [
    "id(a)"
   ]
  },
  {
   "cell_type": "code",
   "execution_count": 29,
   "id": "9042af89",
   "metadata": {},
   "outputs": [
    {
     "data": {
      "text/plain": [
       "139686381999120"
      ]
     },
     "execution_count": 29,
     "metadata": {},
     "output_type": "execute_result"
    }
   ],
   "source": [
    "id(b)"
   ]
  },
  {
   "cell_type": "code",
   "execution_count": 33,
   "id": "7db1a0c0",
   "metadata": {},
   "outputs": [
    {
     "name": "stdout",
     "output_type": "stream",
     "text": [
      "[1, 4, 3] [1, 2, 3]\n"
     ]
    }
   ],
   "source": [
    "a=[1,2,3] \n",
    "b=[1,2,3]\n",
    "a[1] = 4 \n",
    "print(a,b)"
   ]
  },
  {
   "cell_type": "code",
   "execution_count": 34,
   "id": "f0850938",
   "metadata": {
    "scrolled": true
   },
   "outputs": [
    {
     "data": {
      "text/plain": [
       "139686382059920"
      ]
     },
     "execution_count": 34,
     "metadata": {},
     "output_type": "execute_result"
    }
   ],
   "source": [
    "id(a)"
   ]
  },
  {
   "cell_type": "code",
   "execution_count": 35,
   "id": "c40e1bf6",
   "metadata": {},
   "outputs": [
    {
     "data": {
      "text/plain": [
       "139686382060080"
      ]
     },
     "execution_count": 35,
     "metadata": {},
     "output_type": "execute_result"
    }
   ],
   "source": [
    "id(b)"
   ]
  },
  {
   "cell_type": "code",
   "execution_count": 30,
   "id": "270bc77a",
   "metadata": {},
   "outputs": [
    {
     "name": "stdout",
     "output_type": "stream",
     "text": [
      "2\n"
     ]
    }
   ],
   "source": [
    "a=b=2\n",
    "a += 2 \n",
    "print(b)"
   ]
  },
  {
   "cell_type": "code",
   "execution_count": 31,
   "id": "0499387b",
   "metadata": {},
   "outputs": [
    {
     "data": {
      "text/plain": [
       "94323159753760"
      ]
     },
     "execution_count": 31,
     "metadata": {},
     "output_type": "execute_result"
    }
   ],
   "source": [
    "id(a)"
   ]
  },
  {
   "cell_type": "code",
   "execution_count": 32,
   "id": "386cb354",
   "metadata": {},
   "outputs": [
    {
     "data": {
      "text/plain": [
       "94323159753696"
      ]
     },
     "execution_count": 32,
     "metadata": {},
     "output_type": "execute_result"
    }
   ],
   "source": [
    "id(b)"
   ]
  },
  {
   "cell_type": "code",
   "execution_count": 38,
   "id": "34fdaf58",
   "metadata": {
    "scrolled": true
   },
   "outputs": [
    {
     "name": "stdout",
     "output_type": "stream",
     "text": [
      "0\n",
      "1\n",
      "1\n",
      "2\n",
      "2\n",
      "3\n"
     ]
    }
   ],
   "source": [
    "import numpy as np\n",
    "a = 0\n",
    "for i in range(3):\n",
    "    prev_a = a;\n",
    "    a += 1\n",
    "    print(prev_a)\n",
    "    print(a)"
   ]
  },
  {
   "cell_type": "code",
   "execution_count": 40,
   "id": "fd8cca47",
   "metadata": {},
   "outputs": [
    {
     "name": "stdout",
     "output_type": "stream",
     "text": [
      "[0]\n",
      "[0, 0]\n",
      "[0, 0]\n",
      "[0, 0, 1]\n",
      "[0, 0, 1]\n",
      "[0, 0, 1, 2]\n"
     ]
    }
   ],
   "source": [
    "import numpy as np\n",
    "a = [0]\n",
    "for i in range(3):\n",
    "    prev_a = a;\n",
    "    a += [i]\n",
    "    print(prev_a)\n",
    "    print(a)"
   ]
  },
  {
   "cell_type": "markdown",
   "id": "41076991",
   "metadata": {},
   "source": [
    "### 수업2: 제어 구조\n",
    "\n",
    "교재 121페이지\n",
    "\n",
    "혹은 https://wikidocs.net/19"
   ]
  },
  {
   "cell_type": "markdown",
   "id": "0558301b",
   "metadata": {},
   "source": [
    "#### If 문"
   ]
  },
  {
   "cell_type": "code",
   "execution_count": null,
   "id": "ff084878",
   "metadata": {},
   "outputs": [],
   "source": [
    "# if 문\n",
    "money = True\n",
    "if money:\n",
    "    print(\"택시를 타고 가라\")\n",
    "else:\n",
    "    print(\"걸어 가라\")\n",
    "\"\"\"\n",
    "    비교연산자\n",
    "    <\n",
    "    >\n",
    "    ==\n",
    "    !=\n",
    "    >=\n",
    "    <=\n",
    "\"\"\"\n",
    "money = 2000\n",
    "if money >= 3000:\n",
    "    print(\"택시를 타고 가라\")\n",
    "else:\n",
    "    print(\"걸어 가라\")\n",
    "\n",
    "# or(x or y) : x와 y 둘 중에 하나만 참이면 참\n",
    "# and(x and y) : x와 y 모두 참이어야 참\n",
    "# not(not x) : x가 거짓이면 참\n",
    "money = 2000\n",
    "card = True\n",
    "if money >= 3000 or card:\n",
    "    print('택시를 타고 가라')\n",
    "else:\n",
    "    print('걸어가라')\n",
    "\n",
    "# in, not in : 리스트, 튜플, 문자열에 사용 가능\n",
    "print(1 in [1, 2, 3])\n",
    "print(1 not in [1, 2, 3])\n",
    "print('a' in ('a', 'b', 'c'))\n",
    "print('j' not in 'python')\n",
    "pocket = ['paper', 'cellphone', 'money']\n",
    "if 'money' in pocket:\n",
    "    print('택시를 타고 가라')\n",
    "else: \n",
    "    print('걸어 가라')\n",
    "# pass\n",
    "if 'money' in pocket:\n",
    "    pass\n",
    "else:\n",
    "    print('카드를 꺼내라')\n",
    "\n",
    "# elif\n",
    "pocket = ['paper', 'cellphone']\n",
    "card = True\n",
    "if 'money' in pocket:\n",
    "    print('택시를 타고 가라')\n",
    "elif card:\n",
    "    print('택시를 타고 가라')\n",
    "else:\n",
    "    print('걸어 가라')\n",
    "\n",
    "# 조건부 표현식\n",
    "score = 60\n",
    "message = \"success\" if score >= 60 else \"failure\"\n",
    "print(message)"
   ]
  },
  {
   "cell_type": "markdown",
   "id": "e56a4f9f",
   "metadata": {},
   "source": [
    "#### While loop"
   ]
  },
  {
   "cell_type": "code",
   "execution_count": null,
   "id": "4cb65582",
   "metadata": {},
   "outputs": [],
   "source": [
    "# while\n",
    "\"\"\"\n",
    "while 조건문:\n",
    "    수행할 문장1\n",
    "    수행할 문장2\n",
    "    수행할 문장3\n",
    "    ...\n",
    "\"\"\"\n",
    "# exam1\n",
    "treeHit = 0\n",
    "while treeHit < 10:\n",
    "    treeHit = treeHit + 1\n",
    "    print(f\"나무를 {treeHit}번 찍었습니다.\")\n",
    "    if treeHit == 10:\n",
    "        print(\"나무 넘어갑니다.\")\n",
    "\n",
    "# exam2\n",
    "coffee = 10\n",
    "money = 300\n",
    "while money:\n",
    "    print(\"돈을 받았으니 커피를 줍니다.\")\n",
    "    coffee = coffee - 1\n",
    "    print(f\"남은 커피의 양은 {coffee}개 입니다.\")\n",
    "    if coffee == 0:\n",
    "        print(\"커피가 다 떨어졌습니다. 판매를 중지합니다.\")\n",
    "        break\n",
    "\n",
    "# while문의 맨 처음으로 돌아가기\n",
    "a = 0\n",
    "while a < 10:\n",
    "    a = a + 1\n",
    "    if a % 2 == 0: continue\n",
    "    print(a)\n",
    "#### If loop"
   ]
  },
  {
   "cell_type": "code",
   "execution_count": 47,
   "id": "3a6bc580",
   "metadata": {
    "scrolled": true
   },
   "outputs": [
    {
     "name": "stdout",
     "output_type": "stream",
     "text": [
      "돈을 넣어주세요: 10\n",
      "돈을 다시 돌려주고 커피를 주지 않습니다.\n",
      "남은 커피의 양은 10개 입니다.\n",
      "돈을 넣어주세요: 1000\n",
      "거스름돈 700를 주고 커피를 줍니다.\n"
     ]
    },
    {
     "ename": "KeyboardInterrupt",
     "evalue": "Interrupted by user",
     "output_type": "error",
     "traceback": [
      "\u001b[0;31m---------------------------------------------------------------------------\u001b[0m",
      "\u001b[0;31mKeyboardInterrupt\u001b[0m                         Traceback (most recent call last)",
      "\u001b[0;32m/tmp/ipykernel_3483882/3206158428.py\u001b[0m in \u001b[0;36m<module>\u001b[0;34m\u001b[0m\n\u001b[1;32m      1\u001b[0m \u001b[0mcoffee\u001b[0m \u001b[0;34m=\u001b[0m \u001b[0;36m10\u001b[0m\u001b[0;34m\u001b[0m\u001b[0;34m\u001b[0m\u001b[0m\n\u001b[1;32m      2\u001b[0m \u001b[0;32mwhile\u001b[0m \u001b[0;32mTrue\u001b[0m\u001b[0;34m:\u001b[0m\u001b[0;34m\u001b[0m\u001b[0;34m\u001b[0m\u001b[0m\n\u001b[0;32m----> 3\u001b[0;31m     \u001b[0mmoney\u001b[0m \u001b[0;34m=\u001b[0m \u001b[0mint\u001b[0m\u001b[0;34m(\u001b[0m\u001b[0minput\u001b[0m\u001b[0;34m(\u001b[0m\u001b[0;34m\"돈을 넣어주세요: \"\u001b[0m\u001b[0;34m)\u001b[0m\u001b[0;34m)\u001b[0m\u001b[0;34m\u001b[0m\u001b[0;34m\u001b[0m\u001b[0m\n\u001b[0m\u001b[1;32m      4\u001b[0m     \u001b[0;32mif\u001b[0m \u001b[0mmoney\u001b[0m \u001b[0;34m==\u001b[0m \u001b[0;36m300\u001b[0m\u001b[0;34m:\u001b[0m\u001b[0;34m\u001b[0m\u001b[0;34m\u001b[0m\u001b[0m\n\u001b[1;32m      5\u001b[0m         \u001b[0mprint\u001b[0m\u001b[0;34m(\u001b[0m\u001b[0;34m\"커피를 줍니다.\"\u001b[0m\u001b[0;34m)\u001b[0m\u001b[0;34m\u001b[0m\u001b[0;34m\u001b[0m\u001b[0m\n",
      "\u001b[0;32m~/anaconda3/envs/habitat021/lib/python3.7/site-packages/ipykernel/kernelbase.py\u001b[0m in \u001b[0;36mraw_input\u001b[0;34m(self, prompt)\u001b[0m\n\u001b[1;32m   1179\u001b[0m             \u001b[0mself\u001b[0m\u001b[0;34m.\u001b[0m\u001b[0m_parent_ident\u001b[0m\u001b[0;34m[\u001b[0m\u001b[0;34m\"shell\"\u001b[0m\u001b[0;34m]\u001b[0m\u001b[0;34m,\u001b[0m\u001b[0;34m\u001b[0m\u001b[0;34m\u001b[0m\u001b[0m\n\u001b[1;32m   1180\u001b[0m             \u001b[0mself\u001b[0m\u001b[0;34m.\u001b[0m\u001b[0mget_parent\u001b[0m\u001b[0;34m(\u001b[0m\u001b[0;34m\"shell\"\u001b[0m\u001b[0;34m)\u001b[0m\u001b[0;34m,\u001b[0m\u001b[0;34m\u001b[0m\u001b[0;34m\u001b[0m\u001b[0m\n\u001b[0;32m-> 1181\u001b[0;31m             \u001b[0mpassword\u001b[0m\u001b[0;34m=\u001b[0m\u001b[0;32mFalse\u001b[0m\u001b[0;34m,\u001b[0m\u001b[0;34m\u001b[0m\u001b[0;34m\u001b[0m\u001b[0m\n\u001b[0m\u001b[1;32m   1182\u001b[0m         )\n\u001b[1;32m   1183\u001b[0m \u001b[0;34m\u001b[0m\u001b[0m\n",
      "\u001b[0;32m~/anaconda3/envs/habitat021/lib/python3.7/site-packages/ipykernel/kernelbase.py\u001b[0m in \u001b[0;36m_input_request\u001b[0;34m(self, prompt, ident, parent, password)\u001b[0m\n\u001b[1;32m   1217\u001b[0m             \u001b[0;32mexcept\u001b[0m \u001b[0mKeyboardInterrupt\u001b[0m\u001b[0;34m:\u001b[0m\u001b[0;34m\u001b[0m\u001b[0;34m\u001b[0m\u001b[0m\n\u001b[1;32m   1218\u001b[0m                 \u001b[0;31m# re-raise KeyboardInterrupt, to truncate traceback\u001b[0m\u001b[0;34m\u001b[0m\u001b[0;34m\u001b[0m\u001b[0;34m\u001b[0m\u001b[0m\n\u001b[0;32m-> 1219\u001b[0;31m                 \u001b[0;32mraise\u001b[0m \u001b[0mKeyboardInterrupt\u001b[0m\u001b[0;34m(\u001b[0m\u001b[0;34m\"Interrupted by user\"\u001b[0m\u001b[0;34m)\u001b[0m \u001b[0;32mfrom\u001b[0m \u001b[0;32mNone\u001b[0m\u001b[0;34m\u001b[0m\u001b[0;34m\u001b[0m\u001b[0m\n\u001b[0m\u001b[1;32m   1220\u001b[0m             \u001b[0;32mexcept\u001b[0m \u001b[0mException\u001b[0m\u001b[0;34m:\u001b[0m\u001b[0;34m\u001b[0m\u001b[0;34m\u001b[0m\u001b[0m\n\u001b[1;32m   1221\u001b[0m                 \u001b[0mself\u001b[0m\u001b[0;34m.\u001b[0m\u001b[0mlog\u001b[0m\u001b[0;34m.\u001b[0m\u001b[0mwarning\u001b[0m\u001b[0;34m(\u001b[0m\u001b[0;34m\"Invalid Message:\"\u001b[0m\u001b[0;34m,\u001b[0m \u001b[0mexc_info\u001b[0m\u001b[0;34m=\u001b[0m\u001b[0;32mTrue\u001b[0m\u001b[0;34m)\u001b[0m\u001b[0;34m\u001b[0m\u001b[0;34m\u001b[0m\u001b[0m\n",
      "\u001b[0;31mKeyboardInterrupt\u001b[0m: Interrupted by user"
     ]
    }
   ],
   "source": [
    "coffee = 10\n",
    "while True:\n",
    "    money = int(input(\"돈을 넣어주세요: \"))\n",
    "    if money == 300:\n",
    "        print(\"커피를 줍니다.\")\n",
    "        coffee = coffee - 1\n",
    "    elif money > 300:\n",
    "        print(f\"거스름돈 {money - 300}를 주고 커피를 줍니다.\")\n",
    "        coffee = coffee - 1\n",
    "    else:\n",
    "        print(\"돈을 다시 돌려주고 커피를 주지 않습니다.\")\n",
    "        print(f\"남은 커피의 양은 {coffee}개 입니다.\")\n",
    "    if coffee == 0:\n",
    "        print(\"커피가 다 떨어졌습니다. 판매를 중지합니다.\")\n",
    "        break"
   ]
  },
  {
   "cell_type": "markdown",
   "id": "1f51bdd0",
   "metadata": {},
   "source": [
    "#### For loop"
   ]
  },
  {
   "cell_type": "code",
   "execution_count": null,
   "id": "6ccb4b6a",
   "metadata": {},
   "outputs": [],
   "source": [
    "# for\n",
    "\"\"\"\n",
    "for 변수 in 리스트(또는 튜플, 문자열)\n",
    "    수행할 문장1\n",
    "    수행할 문장2\n",
    "    ...\n",
    "\"\"\"\n",
    "# 기본 활용\n",
    "testList = ['one', 'two', 'three']\n",
    "for i in testList:\n",
    "    print(i)\n",
    "# 응용 활용1\n",
    "a = ((1, 2), (3, 4), (5, 6))\n",
    "for (first, last) in a:\n",
    "    print(first + last)\n",
    "# 응용 활용2\n",
    "marks = [90, 25, 67, 45, 80]\n",
    "number = 0\n",
    "for mark in marks:\n",
    "    number = number + 1\n",
    "    if mark >= 60:\n",
    "        print(f\"{number}번 학생은 합격입니다.\")\n",
    "    else:\n",
    "        print(f\"{number}번 학생은 불합격입니다.\")\n",
    "\n",
    "# for문과 continue문\n",
    "marks = [90, 25, 67, 45, 80]\n",
    "number = 0\n",
    "for mark in marks:\n",
    "    number = number + 1\n",
    "    if mark < 60: continue\n",
    "    print(f\"{number}번 학생 축하합니다. 합격입니다.\")\n",
    "\n",
    "# for문과 함께 자주 사용되는 range함수\n",
    "# range: 숫자 리스트를 자동으로 만들어 줌\n",
    "a = range(10)\n",
    "print(a)\n",
    "a = range(1, 11)\n",
    "print(a)\n",
    "add = 0\n",
    "for i in a:\n",
    "    add = add + i\n",
    "    print(add)\n",
    "\n",
    "marks = [90, 25, 67, 45, 80]\n",
    "for number in range(len(marks)):\n",
    "    if marks[number] < 60: continue\n",
    "    print(f\"{number + 1}번 학생 축하합니다. 합격입니다.\")\n",
    "# for와 range를 사용한 구구단 \n",
    "for i in range(2, 10):\n",
    "    for j in range(1, 10):\n",
    "        print(f\"{i} x {j} = {i * j}\")\n",
    "\n",
    "# 리스트 내포 사용\n",
    "a = [1, 2, 3, 4]\n",
    "result = []\n",
    "for num in a:\n",
    "    result.append(num * 3)\n",
    "print(result)\n",
    "# => 리스트 내포\n",
    "result = [num * 3 for num in a]\n",
    "print(result)\n",
    "# 리스트 내포를 사용하여 [1, 2, 3, 4]중에서 짝수에만 3을 곱하여 담기\n",
    "result = [num * 3 for num in a if num % 2 == 0]\n",
    "print(result)\n",
    "# 리스트 내포를 사용하여 구구단의 모든 결과를 리스트에 담기\n",
    "result = [x * y for x in range(2, 10) for y in range(1, 10)]\n",
    "print(result)\n",
    "\n"
   ]
  },
  {
   "cell_type": "markdown",
   "id": "6173ea07",
   "metadata": {},
   "source": [
    "#### ================================\n",
    "### 되새김 문제\n",
    "#### ================================"
   ]
  },
  {
   "cell_type": "code",
   "execution_count": null,
   "id": "256e377a",
   "metadata": {},
   "outputs": [],
   "source": [
    "'''\n",
    "Q1. 조건문의 참과 거짓\n",
    "다음 코드의 결과값은 무엇일까?\n",
    "\n",
    "a = \"Life is too short, you need python\"\n",
    "if \"wife\" in a: #wife는 a에 없다.\n",
    "    print(\"wife\")\n",
    "elif \"python\" in a and \"you\" not in a: #python은 a에 존재, you도 존재하지만 not in으로 표기하여 and연산에 맞지 않음(두 개 모두가 참)\n",
    "    print(\"python\")\n",
    "elif \"shirt\" not in a: #shirt는 a에 존재하지 않기 때문에 참\n",
    "    print(\"shirt\")\n",
    "elif \"need\" in a:\n",
    "    print(\"need\")\n",
    "else:\n",
    "    print(\"none\")\n",
    "'''"
   ]
  },
  {
   "cell_type": "code",
   "execution_count": null,
   "id": "89c9bde1",
   "metadata": {},
   "outputs": [],
   "source": [
    "'''\n",
    "Q2. 3의 배수의 합 구하기\n",
    "while문을 사용해 1부터 1000까지의 자연수 중 3의 배수의 합을 구해보자.\n",
    "'''\n",
    "result = 0\n",
    "i = 1\n",
    "while i <= 1000:\n",
    "    if #your code here\n",
    "        result += i\n",
    "    i += 1\n",
    "    \n",
    "print(result)"
   ]
  },
  {
   "cell_type": "code",
   "execution_count": null,
   "id": "dcc8e846",
   "metadata": {},
   "outputs": [],
   "source": [
    "'''\n",
    "Q3. 별 표시하기\n",
    "while문을 사용하여 다음과 같이 별(*)을 표시하는 프로그램을 작성해 보자.\n",
    "'''\n",
    "i = 0\n",
    "while True:\n",
    "    i += 1\n",
    "    if #your code here: break\n",
    "    print(#your code here)"
   ]
  },
  {
   "cell_type": "code",
   "execution_count": null,
   "id": "31efac42",
   "metadata": {},
   "outputs": [],
   "source": [
    "'''\n",
    "Q4. 1부터 100까지 출력하기\n",
    "for문을 사용해 1부터 100까지의 숫자를 출력해보자.\n",
    "'''\n",
    "for i in #your code here:\n",
    "    print(i)"
   ]
  },
  {
   "cell_type": "code",
   "execution_count": null,
   "id": "3bc4c714",
   "metadata": {},
   "outputs": [],
   "source": [
    "'''\n",
    "Q5. 평균 점수 구하기\n",
    "A 학급에 총 10명의 학생이 있다. 이 학생들의 중간고사 점수는 다음과 같다. \n",
    "[70, 60, 55, 75, 95, 90, 80, 80, 85, 100] \n",
    "\n",
    "for문을 사용하여 A 학급의 평균 점수를 구해보자.\n",
    "'''\n",
    "A = [70, 60, 55, 75, 95, 90, 80, 80, 85, 100]\n",
    "total = 0\n",
    "for score in A:\n",
    "    total += #your code here\n",
    "average = #your code here\n",
    "print(average)"
   ]
  },
  {
   "cell_type": "code",
   "execution_count": null,
   "id": "3512df31",
   "metadata": {},
   "outputs": [],
   "source": [
    "'''\n",
    "Q6. 리스트 컴프리헨션 사용하기\n",
    "리스트 중에서 홀수에만 2를 곱하여 저장하는 다음 코드가 있다. \n",
    "\"\"\"\n",
    "numbers = [1, 2, 3, 4, 5]\n",
    "result = []\n",
    "for n in numbers:\n",
    "    if n % 2 == 1:\n",
    "        result.append(n*2)\n",
    "\"\"\"\n",
    "\n",
    "이 코드를 리스트 컴프리헨션을 사용하여 표현해보자.\n",
    "''' \n",
    "\n",
    "numbers = [1, 2, 3, 4, 5]\n",
    "result = #your code here\n",
    "print(result)"
   ]
  },
  {
   "cell_type": "markdown",
   "id": "f6e4494d",
   "metadata": {},
   "source": [
    "### 수업3: 함수\n",
    "\n",
    "교재 153페이지\n",
    "\n",
    "혹은 https://wikidocs.net/24"
   ]
  },
  {
   "cell_type": "code",
   "execution_count": 50,
   "id": "086a3136",
   "metadata": {},
   "outputs": [
    {
     "name": "stdout",
     "output_type": "stream",
     "text": [
      "7\n",
      "7\n"
     ]
    }
   ],
   "source": [
    "# 함수\n",
    "\"\"\"\n",
    "def 함수 이름(매개변수):\n",
    "    수행할 문장1\n",
    "    수행할 문장2\n",
    "    ...\n",
    "\"\"\"\n",
    "\n",
    "def add(a, b):\n",
    "    return a + b\n",
    "a = 3\n",
    "b = 4\n",
    "c = add(a, b)\n",
    "print(c)\n",
    "print(add(a, b))"
   ]
  },
  {
   "cell_type": "code",
   "execution_count": null,
   "id": "49d0d6c9",
   "metadata": {},
   "outputs": [],
   "source": [
    "# 입력값이 없는 함수\n",
    "def say():\n",
    "    return 'Hi'\n",
    "a = say()\n",
    "print(a)"
   ]
  },
  {
   "cell_type": "code",
   "execution_count": null,
   "id": "c8c399ae",
   "metadata": {},
   "outputs": [],
   "source": [
    "# 결괏값이 없는 함수\n",
    "def add(a, b):\n",
    "    print(\"%d, %d의 합은 %d입니다.\" % (a, b, a + b))"
   ]
  },
  {
   "cell_type": "code",
   "execution_count": null,
   "id": "096b483e",
   "metadata": {},
   "outputs": [],
   "source": [
    "# 여러개의 입력값을 받는 함수\n",
    "# 매개변수 이름 앞에 *을 붙이면 전부 모아서 튜플로 만들어줌\n",
    "def add_many(*args):\n",
    "    result = 0\n",
    "    for i in args:\n",
    "        result = result + i\n",
    "    return result\n",
    "result = add_many(1, 2, 3)\n",
    "print(result)"
   ]
  },
  {
   "cell_type": "code",
   "execution_count": null,
   "id": "22b89b6b",
   "metadata": {},
   "outputs": [],
   "source": [
    "def add_mul(choice, *args):\n",
    "    if choice == \"add\":\n",
    "        result = 0\n",
    "        for i in args:\n",
    "            result = result + i\n",
    "    elif choice == \"mul\":\n",
    "        result = 1\n",
    "        for i in args:\n",
    "            result = result * i\n",
    "    return result\n",
    "result = add_mul('add', 1, 2, 3, 4, 5)\n",
    "print(result)\n",
    "result = add_mul('mul', 1, 2, 3, 4, 5)\n",
    "print(result)"
   ]
  },
  {
   "cell_type": "code",
   "execution_count": null,
   "id": "6561ccb0",
   "metadata": {},
   "outputs": [],
   "source": [
    "# **키워드 파라미터 : 매개변수가 딕셔너리가 되고 모든 key = value 형태의 결괏값이 그 딕셔너리에 저장된다.\n",
    "def print_kwargs(**kwargs):\n",
    "    print(kwargs)\n",
    "print_kwargs(a = 1)\n",
    "print_kwargs(name = 'foo', age = 3)"
   ]
  },
  {
   "cell_type": "code",
   "execution_count": null,
   "id": "73c85494",
   "metadata": {},
   "outputs": [],
   "source": [
    "# 결괏값은 언제나 하나로 리턴된다.\n",
    "def add_and_mul(a, b):\n",
    "    return a + b, a * b\n",
    "result = add_and_mul(3, 4)\n",
    "print(result) # 튜플 형태로 리턴\n",
    "# 두개로 리턴 받고 싶으면?\n",
    "result1, result2 = add_and_mul(3, 4)\n",
    "print(result1)\n",
    "print(result2)"
   ]
  },
  {
   "cell_type": "code",
   "execution_count": null,
   "id": "77c15b09",
   "metadata": {},
   "outputs": [],
   "source": [
    "# 매개변수에 초깃값 미리 설정\n",
    "def say_myself(name, old, man=True):\n",
    "    print(f\"나의 이름은 {name}입니다.\")\n",
    "    print(f\"나이는 {old}살입니다.\")\n",
    "    if man:\n",
    "        print(\"남자입니다.\")\n",
    "    else:\n",
    "        print(\"여자입니다.\")\n",
    "say_myself(\"박준석\", \"29\")"
   ]
  },
  {
   "cell_type": "code",
   "execution_count": null,
   "id": "10257913",
   "metadata": {},
   "outputs": [],
   "source": [
    "# global 명령어\n",
    "a = 1\n",
    "def vartest():\n",
    "    global a\n",
    "    a = a + 1\n",
    "\n",
    "vartest()\n",
    "print(a)"
   ]
  },
  {
   "cell_type": "code",
   "execution_count": null,
   "id": "20a253d5",
   "metadata": {},
   "outputs": [],
   "source": [
    "# lambda : 함수를 생성할 때 사용하는 예약어로 def와 동일한 역할을 한다. 보통 함수를 한줄로 간결하게 만들 때 사용한다. \n",
    "# lambda 매개변수1, 매개변수2, ...: 매개변수를 사용한 표현식\n",
    "# lambda 예약어로 만든 함수는 return 명령어가 없어도 결괏값을 돌려준다.\n",
    "add = lambda a, b: a + b\n",
    "result = add(3, 4)\n",
    "print(result)"
   ]
  },
  {
   "cell_type": "markdown",
   "id": "37ed94d9",
   "metadata": {},
   "source": [
    "#### ================================\n",
    "### 되새김 문제\n",
    "#### ================================"
   ]
  },
  {
   "cell_type": "code",
   "execution_count": null,
   "id": "ba624c0a",
   "metadata": {},
   "outputs": [],
   "source": [
    "'''\n",
    "Q1. 홀수, 짝수 판별하기\n",
    "주어진 자연수가 홀수인지 짝수인지 판별해 주는 함수(is_odd)를 작성해 보자.\n",
    "'''\n",
    "def is_odd(num):\n",
    "    if #your code here:\n",
    "        print(f\"{num} is even number\")\n",
    "    else:\n",
    "        print(f\"{num} is odd number\")"
   ]
  },
  {
   "cell_type": "code",
   "execution_count": null,
   "id": "1eacb406",
   "metadata": {},
   "outputs": [],
   "source": [
    "'''\n",
    "Q2. 모든 입력의 평균값 구하기\n",
    "입력으로 들어오는 모든 수의 평균값을 계산해 주는 함수를 작성해 보자. 단, 입력으로 들어오는 수의 개수는 정해져 있지 않다.\n",
    "※ 평균 값을 구할 때 len 함수를 사용해 보자.\n",
    "'''\n",
    "\n",
    "def avg_numbers(#your code here):\n",
    "    result = 0\n",
    "    for i in args:\n",
    "        result += i\n",
    "    return #your code here\n",
    "\n",
    " \n",
    "print(avg_numbers(1, 2))\n",
    "print(avg_numbers(1,2,3,4,5))"
   ]
  },
  {
   "cell_type": "code",
   "execution_count": 42,
   "id": "39ff89c2",
   "metadata": {},
   "outputs": [
    {
     "name": "stdout",
     "output_type": "stream",
     "text": [
      "첫 번째 숫자를 입력하세요:3\n",
      "두 번째 숫자를 입력하세요:6\n",
      "두 수의 합은 9입니다\n"
     ]
    }
   ],
   "source": [
    "'''\n",
    "Q3. 프로그램 오류 수정하기 1\n",
    "다음은 두 개의 숫자를 입력받아 더하여 돌려주는 프로그램이다. \n",
    "input1 = input(\"첫 번째 숫자를 입력하세요:\") \n",
    "input2 = input(\"두 번째 숫자를 입력하세요:\") \n",
    "\n",
    "total = input1 + input2 \n",
    "print(\"두 수의 합은 %s 입니다\" % total) \n",
    "\n",
    "\n",
    "이 프로그램을 수행해 보자. \n",
    "\n",
    "첫번째 숫자를 입력하세요:3 \n",
    "두번째 숫자를 입력하세요:6 \n",
    "두 수의 합은 36입니다\n",
    "3과 6을 입력했을 때 9가 아닌 36이라는 결괏값을 돌려주었다. 이 프로그램의 오류를 수정해 보자. \n",
    "\n",
    "※ int 함수를 사용해 보자. \n",
    "''' "
   ]
  },
  {
   "cell_type": "code",
   "execution_count": 46,
   "id": "51a72275",
   "metadata": {},
   "outputs": [
    {
     "name": "stdout",
     "output_type": "stream",
     "text": [
      "youneedpython\n"
     ]
    }
   ],
   "source": [
    "'''\n",
    "Q4. 출력 결과가 다른 것은?\n",
    "다음 중 출력 결과가 다른 것 한 개를 골라 보자. \n",
    "1. print(\"you\" \"need\" \"python\") \n",
    "2. print(\"you\"+\"need\"+\"python\") \n",
    "3. print(\"you\", \"need\", \"python\") \n",
    "4. print(\"\".join([\"you\", \"need\", \"python\"])) \n",
    "'''"
   ]
  }
 ],
 "metadata": {
  "kernelspec": {
   "display_name": "Python 3 (ipykernel)",
   "language": "python",
   "name": "python3"
  },
  "language_info": {
   "codemirror_mode": {
    "name": "ipython",
    "version": 3
   },
   "file_extension": ".py",
   "mimetype": "text/x-python",
   "name": "python",
   "nbconvert_exporter": "python",
   "pygments_lexer": "ipython3",
   "version": "3.9.7"
  }
 },
 "nbformat": 4,
 "nbformat_minor": 5
}
