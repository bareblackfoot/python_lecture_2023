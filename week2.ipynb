{
 "cells": [
  {
   "attachments": {},
   "cell_type": "markdown",
   "id": "837b6dfa",
   "metadata": {},
   "source": [
    "# 2주차: 데이터 구조, 제어구조 및 함수"
   ]
  },
  {
   "attachments": {},
   "cell_type": "markdown",
   "id": "13d1394a",
   "metadata": {},
   "source": [
    "### * 오늘의 커리큘럼 *\n",
    "\n",
    "#### 수업: 데이터 구조\n",
    "- 숫자\n",
    "- 문자열\n",
    "- 리스트  \n",
    "- 튜플  \n",
    "- 세트  \n",
    "- 딕셔너리\n",
    "- 집합\n",
    "- 불"
   ]
  },
  {
   "attachments": {},
   "cell_type": "markdown",
   "id": "cce8b65b",
   "metadata": {},
   "source": [
    "### =================================\n"
   ]
  },
  {
   "attachments": {},
   "cell_type": "markdown",
   "id": "db8d7a62",
   "metadata": {},
   "source": [
    "### 수업: 데이터 구조\n",
    "\n",
    "교재 46페이지\n",
    "\n",
    "혹은 https://wikidocs.net/11"
   ]
  },
  {
   "attachments": {},
   "cell_type": "markdown",
   "id": "911ffbc7",
   "metadata": {},
   "source": [
    "#### 숫자 (Numbers)"
   ]
  },
  {
   "attachments": {},
   "cell_type": "markdown",
   "id": "9698268b",
   "metadata": {},
   "source": [
    "Integers and floats work as you would expect from other languages:"
   ]
  },
  {
   "cell_type": "code",
   "execution_count": 3,
   "id": "94c5a4a5",
   "metadata": {},
   "outputs": [
    {
     "name": "stdout",
     "output_type": "stream",
     "text": [
      "3 <class 'int'>\n"
     ]
    }
   ],
   "source": [
    "x = 3\n",
    "print(x, type(x))"
   ]
  },
  {
   "cell_type": "code",
   "execution_count": 41,
   "id": "2043932b",
   "metadata": {},
   "outputs": [
    {
     "name": "stdout",
     "output_type": "stream",
     "text": [
      "2\n",
      "0\n",
      "2\n",
      "1\n",
      "0.5\n"
     ]
    }
   ],
   "source": [
    "print(x + 1)   # Addition;\n",
    "print(x - 1)   # Subtraction;\n",
    "print(x * 2)  # Multiplication;\n",
    "print(x ** 2)  # Exponentiation;\n",
    "print(x / 2)  # Devision;"
   ]
  },
  {
   "cell_type": "code",
   "execution_count": 65,
   "id": "2a3f58fe",
   "metadata": {},
   "outputs": [],
   "source": [
    "# 정수형\n",
    "a = 123\n",
    "a = -178\n",
    "a = 0"
   ]
  },
  {
   "cell_type": "code",
   "execution_count": 66,
   "id": "1e213157",
   "metadata": {},
   "outputs": [],
   "source": [
    "# 실수형\n",
    "a = 1.2\n",
    "a = -3.45\n",
    "a = 4.24E10\n",
    "a = 4.24e-10"
   ]
  },
  {
   "cell_type": "code",
   "execution_count": 67,
   "id": "85693e27",
   "metadata": {},
   "outputs": [],
   "source": [
    "# 8진수\n",
    "a = 0o177\n",
    "\n",
    "# 16진수\n",
    "a = 0x8ff\n",
    "a = 0xABC"
   ]
  },
  {
   "cell_type": "code",
   "execution_count": 68,
   "id": "52840d4d",
   "metadata": {},
   "outputs": [
    {
     "data": {
      "text/plain": [
       "2.23606797749979"
      ]
     },
     "execution_count": 68,
     "metadata": {},
     "output_type": "execute_result"
    }
   ],
   "source": [
    "# 복소수\n",
    "a = 1 + 2j\n",
    "b = 3 - 4J\n",
    "\n",
    "a.real # 1.0\n",
    "a.imag # 2.0\n",
    "a.conjugate() # (1 - 2j) 켤레 복소수 리턴\n",
    "abs(a) # 2.2360679664997898 복소수의 절댓값 리턴"
   ]
  },
  {
   "cell_type": "code",
   "execution_count": 69,
   "id": "3df159d8",
   "metadata": {},
   "outputs": [
    {
     "data": {
      "text/plain": [
       "0.75"
      ]
     },
     "execution_count": 69,
     "metadata": {},
     "output_type": "execute_result"
    }
   ],
   "source": [
    "# 사칙 연산\n",
    "a = 3\n",
    "b = 4\n",
    "a + b # 7\n",
    "a * b # 12\n",
    "a / b # 0.75"
   ]
  },
  {
   "cell_type": "code",
   "execution_count": 70,
   "id": "29a24f55",
   "metadata": {},
   "outputs": [
    {
     "data": {
      "text/plain": [
       "81"
      ]
     },
     "execution_count": 70,
     "metadata": {},
     "output_type": "execute_result"
    }
   ],
   "source": [
    "# x의 y제곱을 나타내는 ** 연산자\n",
    "a = 3\n",
    "b = 4\n",
    "a ** b # 81"
   ]
  },
  {
   "cell_type": "code",
   "execution_count": 71,
   "id": "b3c32a6b",
   "metadata": {},
   "outputs": [
    {
     "data": {
      "text/plain": [
       "3"
      ]
     },
     "execution_count": 71,
     "metadata": {},
     "output_type": "execute_result"
    }
   ],
   "source": [
    "# 나눗셈후 나머지를 반환하는 % 연산\n",
    "7 % 3 # 1\n",
    "3 % 7 # 3"
   ]
  },
  {
   "cell_type": "code",
   "execution_count": 72,
   "id": "17323b13",
   "metadata": {},
   "outputs": [
    {
     "data": {
      "text/plain": [
       "1"
      ]
     },
     "execution_count": 72,
     "metadata": {},
     "output_type": "execute_result"
    }
   ],
   "source": [
    "# 나눗셈 후 소수점 아랫자리를 버리는 // 연산자\n",
    "7 / 4 # 1.75\n",
    "7 // 4 # 1"
   ]
  },
  {
   "attachments": {},
   "cell_type": "markdown",
   "id": "95df2eb1",
   "metadata": {},
   "source": [
    "Note that unlike many languages, Python does not have unary increment (x++) or decrement (x--) operators.\n",
    "\n",
    "Python also has built-in types for long integers and complex numbers; you can find all of the details in the [documentation](https://docs.python.org/2/library/stdtypes.html#numeric-types-int-float-long-complex)."
   ]
  },
  {
   "attachments": {},
   "cell_type": "markdown",
   "id": "71babfeb",
   "metadata": {},
   "source": [
    "#### 문자열 (Strings)"
   ]
  },
  {
   "attachments": {},
   "cell_type": "markdown",
   "id": "580f39c4",
   "metadata": {},
   "source": []
  },
  {
   "cell_type": "code",
   "execution_count": 2,
   "id": "320d45c3",
   "metadata": {},
   "outputs": [
    {
     "name": "stdout",
     "output_type": "stream",
     "text": [
      "hello world\n"
     ]
    }
   ],
   "source": [
    "hello = 'hello'   # String literals can use single quotes\n",
    "world = \" world\"   # or double quotes; it does not matter.\n",
    "print(hello + world)\n",
    "# print(hello, len(hello))"
   ]
  },
  {
   "cell_type": "code",
   "execution_count": 3,
   "id": "b3b2b259",
   "metadata": {},
   "outputs": [
    {
     "data": {
      "text/plain": [
       "5"
      ]
     },
     "execution_count": 3,
     "metadata": {},
     "output_type": "execute_result"
    }
   ],
   "source": [
    "len(hello)"
   ]
  },
  {
   "attachments": {},
   "cell_type": "markdown",
   "id": "1731c897",
   "metadata": {},
   "source": [
    "String objects have a bunch of useful methods; for example:"
   ]
  },
  {
   "attachments": {},
   "cell_type": "markdown",
   "id": "c3cad46e",
   "metadata": {},
   "source": [
    "You can find a list of all string methods in the [documentation](https://docs.python.org/2/library/stdtypes.html#string-methods)."
   ]
  },
  {
   "cell_type": "code",
   "execution_count": null,
   "id": "09fcc545",
   "metadata": {},
   "outputs": [],
   "source": [
    "# 문자열\n",
    "\"Life is too short, You need Python\"\n",
    "\"a\"\n",
    "\"123\"\n",
    "\n",
    "# 큰따옴표(\")로 양쪽 둘러싸기\n",
    "\"Hello World\"\n",
    "\n",
    "# 작은따옴표(')로 양쪽 둘러싸기\n",
    "'Python is fun'\n",
    "\n",
    "# 큰따옴표 3개를 연속(\"\"\")으로 써서 양쪽 둘러싸기\n",
    "\"\"\"Life is too short, You need python\"\"\"\n",
    "\n",
    "# 작은따옴표 3개를 연속(''')으로 써서 양쪽 둘러싸기\n",
    "'''Life is too short, You need python'''"
   ]
  },
  {
   "cell_type": "code",
   "execution_count": null,
   "id": "e85e58e4",
   "metadata": {},
   "outputs": [],
   "source": [
    "# 문자열에 작은따옴표(')포함시키기\n",
    "food = \"Python's favorite food is perl\"\n",
    "\n",
    "# 문자열에 큰따옴표(\")포함시키기\n",
    "say = '\"Python is very easy.\" he says.'\n",
    "\n",
    "# \\(백슬래시)를 이용해서 작은따옴표(')와 큰따옴표(\")를 문자열에 포함시키기\n",
    "food = 'Python\\'s favorite food is perl'\n",
    "say = \"\\\"Python is very easy.\\\"he says.\""
   ]
  },
  {
   "cell_type": "code",
   "execution_count": null,
   "id": "51d75d62",
   "metadata": {},
   "outputs": [],
   "source": [
    "# 여러 줄인 문자열을 변수에 대입하고 싶을 때\n",
    "# 줄을 바꾸기 위한 이스케이프 코드 '\\n' 삽입하기\n",
    "multiline = \"Life is too short\\nYou need python\"\n",
    "\n",
    "# 연속된 작은 따옴표 3개(''') 또는 큰따옴표 3개(\"\"\")이용\n",
    "multiline = '''\n",
    "Life is too short\n",
    "You need python\n",
    "'''\n",
    "\n",
    "multiline = \"\"\"\n",
    "Life is too short\n",
    "You need python\n",
    "\"\"\"\n",
    "\n",
    "print(multiline)"
   ]
  },
  {
   "cell_type": "code",
   "execution_count": null,
   "id": "ecc6aac2",
   "metadata": {},
   "outputs": [],
   "source": [
    "# 문자열 더해서 연결하기\n",
    "head = \"Python\"\n",
    "tail = \"is fun!\"\n",
    "head + tail"
   ]
  },
  {
   "cell_type": "code",
   "execution_count": null,
   "id": "6750d5aa",
   "metadata": {},
   "outputs": [],
   "source": [
    "# 문자열 곱하기\n",
    "a = \"python\"\n",
    "a * 2\n",
    "\n",
    "# multistring.py\n",
    "print(\"=\" * 50)\n",
    "print(\"My Program\")\n",
    "print(\"=\" * 50)"
   ]
  },
  {
   "cell_type": "code",
   "execution_count": null,
   "id": "e156a5b1",
   "metadata": {},
   "outputs": [],
   "source": [
    "# 문자열 인덱싱\n",
    "a = \"Life is too short, You need Python\"\n",
    "a[3] # 'e'\n",
    "a[0] # 'L'\n",
    "a[12] # 's'\n",
    "a[-1] # 'n'\n",
    "a[-0] # 'L' a[0]와 같다\n",
    "a[-2] # 'o' 뒤에서 두 번째 문자\n",
    "a[-5] # 'y' 뒤에서 다섯 번째 문자\n",
    "\n",
    "# 문자열 슬라이싱\n",
    "a = \"Life is too short, You need Python\"\n",
    "b = a[0] + a[1] + a[2] + a[3] # 'Life'\n",
    "a[0:4] # 'Life'\n",
    "a[0:3] # 'Lif'\n",
    "a[0:5] # 'Life '\n",
    "a[0:2] # 'Li'\n",
    "a[5:7] # 'is'\n",
    "a[12:17] # 'short'\n",
    "a[19:] # 'You need Python'\n",
    "a[:17] # 'Life is too short'\n",
    "a[:] # 'Life is too short, You need Python'\n",
    "a[19:-7] # 'You need'\n",
    "\n",
    "a = \"20010331Rainy\"\n",
    "data = a[:8] # 20010331\n",
    "weather = a[8:] # Rainy\n",
    "year = a[:4] # 2001\n",
    "day = a[4:8] # 0331\n",
    "weather = a[8:] # Rainy"
   ]
  },
  {
   "cell_type": "code",
   "execution_count": null,
   "id": "e5778e41",
   "metadata": {},
   "outputs": [],
   "source": [
    "# 문자열 포매팅\n",
    "# 숫자 바로 대입\n",
    "\"I eat %d apples.\" % 3 # 'I eat 3 apples.'\n",
    "\n",
    "# 문자열 바로 대입\n",
    "\"I eat %s apples.\" % \"five\" # 'I eat five apples.'\n",
    "\n",
    "# 숫자 값을 나타내는 변수로 대입\n",
    "number = 3\n",
    "\"I eat %d apples.\" % number # 'I eat 3 apples.'\n",
    "\n",
    "# 2개 이상의 값 넣기\n",
    "number = 10\n",
    "day = \"three\"\n",
    "\"I ate %d apples, so I was sick for %s days.\" % (number, day)\n",
    "# 'I ate 10 apples, so I was sick for three days.'\n",
    "\n",
    "# 어떤 형태의 값이든 변환해 넣을 수 있는 %s 포맷 코드\n",
    "\"I have %s apples\" % 3 # 'I have 3 apples'\n",
    "\"rate is %s\" % 3.234 # 'rate is 3.234'\n",
    "\n",
    "# 포맷 코드와 숫자 함께 사용하기\n",
    "# 정렬과 공백\n",
    "\"%10s\" % \"hi\" # '        hi'\n",
    "\"%-10sjane\" % \"hi\" # hi        jane\n",
    "\n",
    "# 소수점 표현하기\n",
    "\"%0.4f\" % 3.42134234 # '3.4213'\n",
    "\"%10.4f\" % 3.42134234 # '    3.4213'"
   ]
  },
  {
   "cell_type": "code",
   "execution_count": null,
   "id": "b38fdad1",
   "metadata": {},
   "outputs": [],
   "source": [
    "# 문자 개수 세기\n",
    "a = \"hobby\"\n",
    "a.count('b') # 2\n",
    "\n",
    "# 위치 알려주기 1\n",
    "a = \"Python is best choice\"\n",
    "a.find('b') # 10\n",
    "a.find('k') # -1\n",
    "\n",
    "# 위치 알려주기 2\n",
    "a = \"Life is too short\"\n",
    "a.index('t') # 8\n",
    "# a.index('k')\n",
    "\n",
    "# 문자열 삽입\n",
    "a = \",\"\n",
    "a.join('abcd') # 'a,b,c,d'"
   ]
  },
  {
   "cell_type": "code",
   "execution_count": null,
   "id": "953e1937",
   "metadata": {},
   "outputs": [],
   "source": [
    "# 소문자를 대문자로 바꾸기\n",
    "a = \"hi\"\n",
    "a.upper() # 'HI'\n",
    "\n",
    "# 대문자를 소문자로 바꾸기\n",
    "a = \"HI\"\n",
    "a.lower() # 'hi'\n",
    "\n",
    "# 왼쪽 공백 지우기\n",
    "a = \" hi \"\n",
    "a.lstrip() # 'hi '\n",
    "\n",
    "# 오른쪽 공백 지우기\n",
    "a = \" hi \"\n",
    "a.rstrip() # ' hi'\n",
    "\n",
    "# 양쪽 공백 지우기\n",
    "a = \" hi \"\n",
    "a.strip() # 'hi'\n",
    "\n",
    "# 문자열 바꾸기\n",
    "a = \"Life is too short\"\n",
    "a.replace(\"Life\", \"Your leg\") # 'Your leg is too short'\n",
    "\n",
    "# 문자열 나누기\n",
    "a = \"Life is too short\"\n",
    "a.split() # ['Life', 'is', 'too', 'short']\n",
    "a = \"a:b:c:d\"\n",
    "a.split(':') # ['a', 'b', 'c', 'd']"
   ]
  },
  {
   "cell_type": "code",
   "execution_count": null,
   "id": "f05f3660",
   "metadata": {},
   "outputs": [],
   "source": [
    "# 'Pithon'이라는 문자열을 'Python'으로 바꾸기\n",
    "a = \"Pithon\"\n",
    "a[1] = 'i'\n",
    "a[1] = 'y'\n",
    "\n",
    "a = \"Pithon\"\n",
    "a[:1] # 'P'\n",
    "a[2:] # 'thon'\n",
    "a[:1] + 'y' + a[2:] # 'Python'\n",
    "\n",
    "# \"Error is %d%\" % 98\n",
    "\"Error is %d%%.\" % 98 # 'Error is 98%.'"
   ]
  },
  {
   "cell_type": "code",
   "execution_count": null,
   "id": "67750055",
   "metadata": {},
   "outputs": [],
   "source": [
    "# 고급 문자열 포매팅\n",
    "# 숫자 바로 대입하기\n",
    "\"I eat {0} apples\".format(3) # 'I eat 3 apples'\n",
    "\n",
    "# 문자열 바로 대입하기\n",
    "\"I eat {0} apples\".format(\"five\") # 'I eat five apples'\n",
    "\n",
    "# 숫자 값을 가진 변수를 대입하기\n",
    "number =3\n",
    "\"I eat {0} apples\".format(number) # 'I eat 3 apples'\n",
    "\n",
    "# 2개 이상의 값 넣기\n",
    "number = 10\n",
    "day = \"three\"\n",
    "\"I ate {0} apples. so I was sick for {1} days.\".format(number, day)\n",
    "# 'I ate 10 apples. so I was for three days.'\n",
    "\n",
    "# 이름으로 넣기\n",
    "\"I ate {number} apples. so I was sick for {day} days.\".format(number = 10, day = 3)\n",
    "# 'I ate 10 apples. so I was for three days.'.\n",
    "\n",
    "# 인덱스와 이름을 혼용해서 넣기\n",
    "\"I ate {0} apples. so I was sick for {day} days.\".format(10, day = 3)\n",
    "# 'I ate 10 apples. so I was for three days.'"
   ]
  },
  {
   "attachments": {},
   "cell_type": "markdown",
   "id": "85b3869a",
   "metadata": {},
   "source": [
    "#### 리스트 (Lists)"
   ]
  },
  {
   "attachments": {},
   "cell_type": "markdown",
   "id": "ee83e69a",
   "metadata": {},
   "source": [
    "A list is the Python equivalent of an array, but is resizeable and can contain elements of different types. You can find all details about lists in the [documentation](https://docs.python.org/3.11/tutorial/datastructures.html#more-on-lists)."
   ]
  },
  {
   "cell_type": "code",
   "execution_count": null,
   "id": "8ce9851e",
   "metadata": {},
   "outputs": [],
   "source": [
    "# 리스트\n",
    "# 여러 가지 리스트의 표현\n",
    "odd = [1, 3, 5, 7, 9]\n",
    "a =[] # 비어있는 리스트\n",
    "b = [1, 2, 3]\n",
    "c = ['Life', 'is', 'too', 'short']\n",
    "d = [1, 2, 'Life', 'is']\n",
    "e = [1, 2, ['Life', 'is']]"
   ]
  },
  {
   "cell_type": "code",
   "execution_count": null,
   "id": "960fb22e",
   "metadata": {},
   "outputs": [],
   "source": [
    "# 리스트 인덱싱\n",
    "a = [1, 2, 3]\n",
    "a # [1, 2, 3]\n",
    "a[0] # 1\n",
    "a[0] + a[2] # 4\n",
    "a[-1] # 3\n",
    "a = [1, 2, 3, ['a', 'b', 'c']]\n",
    "a[0] # 1\n",
    "a[-1] # ['a', 'b', 'c']\n",
    "a[3] # ['a', 'b', 'c']\n",
    "a[-1][0] # 'a'\n",
    "a[-1][1] # 'b'\n",
    "a[-1][2] # 'c'\n",
    "\n",
    "# 삼중 리스트에서 인덱싱하기\n",
    "a = [1, 2, ['a', 'b', ['Life', 'is']]]\n",
    "a[2][2][0] # 'Life'\n"
   ]
  },
  {
   "cell_type": "code",
   "execution_count": null,
   "id": "9363074c",
   "metadata": {},
   "outputs": [],
   "source": [
    "# 리스트의 슬라이싱\n",
    "a = [1, 2, 3, 4, 5]\n",
    "a[0:2] # [1, 2]\n",
    "a = \"12345\"\n",
    "a[0:2] # '12'\n",
    "# 문자열에서 사용하는 슬라이싱 방법과 동일하다.\n",
    "\n",
    "a = [1, 2, 3, 4, 5]\n",
    "b = a[:2]\n",
    "c = a[2:]\n",
    "b # [1, 2]\n",
    "c # [3, 4, 5]\n",
    "\n",
    "# 중첩된 리스트에서 슬라이싱하기\n",
    "a = [1, 2, 3, ['a', 'b', 'c'], 4, 5]\n",
    "a[2:5] # [3, ['a', 'b', 'c'], 4]\n",
    "a[3][:2] # ['a', 'b']"
   ]
  },
  {
   "cell_type": "code",
   "execution_count": null,
   "id": "cea90e68",
   "metadata": {},
   "outputs": [],
   "source": [
    "# 리스트 더하기(+)\n",
    "a = [1, 2, 3]\n",
    "b = [4, 5, 6]\n",
    "a + b # [1, 2, 3, 4, 5, 6]\n",
    "\n",
    "# 리스트 반복하기(*)\n",
    "a = [1, 2, 3]\n",
    "a * 3 # [1, 2, 3, 1, 2, 3, 1, 2, 3]\n",
    "\n",
    "# 초보자가 범하기 쉬운 리스트 연산 오류\n",
    "a = [1, 2, 3]\n",
    "# a[2] + \"hi\" Error\n",
    "str(a[2]) + \"hi\"\n"
   ]
  },
  {
   "cell_type": "code",
   "execution_count": null,
   "id": "e34fe861",
   "metadata": {},
   "outputs": [],
   "source": [
    "# 리스트에서 하나의 값 수정하기\n",
    "a = [1, 2, 3]\n",
    "a[2] = 4\n",
    "a # [1, 2, 4]\n",
    "\n",
    "# 리스트에서 연속된 범위의 값 수정하기\n",
    "a = [1, 2, 4]\n",
    "a[1:2] # [2]\n",
    "a[1:2] = ['a', 'b', 'c']\n",
    "a # [1, 'a', 'b', 'c', 4]\n",
    "\n",
    "# [] 사용해 리스트 요소 삭제하기\n",
    "a[1:3] = []\n",
    "a # [1, 'c', 4]\n",
    "\n",
    "# del 함수 사용해 리스트 요소 삭제하기\n",
    "a = [1, 'c', 4]\n",
    "a # [1, 'c', 4]\n",
    "del a[1]\n",
    "a # [1,4]\n",
    "\n",
    "# 리스트에 요소 추가\n",
    "a = [1, 2, 3]\n",
    "a.append(4)\n",
    "a # [1, 2, 3, 4]\n",
    "a.append([5, 6])\n",
    "a # [1, 2, 3, 4, [5, 6]]"
   ]
  },
  {
   "cell_type": "code",
   "execution_count": null,
   "id": "e7907618",
   "metadata": {},
   "outputs": [],
   "source": [
    "# 리스트 정렬\n",
    "a = [1, 4, 3, 2]\n",
    "a.sort()\n",
    "a # [1, 2, 3, 4]\n",
    "a = ['a', 'c', 'b']\n",
    "a.sort()\n",
    "a # ['a', 'b', 'c']\n",
    "\n",
    "# 리스트 뒤집기\n",
    "a = ['a', 'c', 'b']\n",
    "a.reverse()\n",
    "a # ['b', 'c', 'a']\n",
    "\n",
    "# 위치 반환\n",
    "a = [1, 2, 3]\n",
    "a.index(3) # 2\n",
    "a.index(1) # 0\n",
    "# a.indxe(0) Error\n",
    "\n",
    "# 리스트에 요소 삽입\n",
    "a = [1, 2, 3]\n",
    "a.insert(0, 4) # [4, 1, 2, 3]\n",
    "a.insert(3, 5) # [4, 1, 2, 5, 3]\n",
    "\n",
    "# 리스트 요소 제거\n",
    "a = [1, 2, 3, 1, 2, 3]\n",
    "a.remove(3) # [1, 2, 1, 2, 3]\n",
    "a.remove(3) # [1, 2, 1, 2]\n",
    "\n",
    "# 리스트 요소 끄집어내기\n",
    "a = [1, 2, 3]\n",
    "a.pop() # 3\n",
    "a # [1, 2]\n",
    "a = [1, 2, 3]\n",
    "a.pop(1) # 2\n",
    "a # [1, 3]\n",
    "\n",
    "# 리스트에 포함된 요소 x의 개수 세기\n",
    "a = [1, 2, 3, 1]\n",
    "a.count(1) # 2\n",
    "\n",
    "# 리스트 확장\n",
    "a = [1, 2, 3]\n",
    "a.extend([4, 5])\n",
    "a # [1, 2, 3, 4, 5]\n",
    "b = [6, 7]\n",
    "a.extend(b)\n",
    "a # [1, 2, 3, 4, 5, 6, 7]"
   ]
  },
  {
   "attachments": {},
   "cell_type": "markdown",
   "id": "8b8323a7",
   "metadata": {},
   "source": [
    "#### 튜플 (Tuples)"
   ]
  },
  {
   "attachments": {},
   "cell_type": "markdown",
   "id": "92325374",
   "metadata": {},
   "source": [
    "A tuple is an (immutable) ordered list of values. A tuple is in many ways similar to a list; one of the most important differences is that tuples can be used as keys in dictionaries and as elements of sets, while lists cannot. Here is a trivial example:"
   ]
  },
  {
   "cell_type": "code",
   "execution_count": 36,
   "id": "c57b0cd9",
   "metadata": {},
   "outputs": [
    {
     "name": "stdout",
     "output_type": "stream",
     "text": [
      "{(0, 1): 0, (1, 2): 1, (2, 3): 2, (3, 4): 3, (4, 5): 4, (5, 6): 5, (6, 7): 6, (7, 8): 7, (8, 9): 8, (9, 10): 9}\n",
      "<class 'tuple'>\n",
      "5\n",
      "1\n"
     ]
    }
   ],
   "source": [
    "d = {(x, x + 1): x for x in range(10)}  # Create a dictionary with tuple keys\n",
    "print(d)\n",
    "t = (5, 6)       # Create a tuple\n",
    "print(type(t))\n",
    "print(d[t])       \n",
    "print(d[(1, 2)])"
   ]
  },
  {
   "cell_type": "code",
   "execution_count": 37,
   "id": "0f30b73f",
   "metadata": {
    "scrolled": true
   },
   "outputs": [
    {
     "ename": "TypeError",
     "evalue": "'tuple' object does not support item assignment",
     "output_type": "error",
     "traceback": [
      "\u001b[0;31m---------------------------------------------------------------------------\u001b[0m",
      "\u001b[0;31mTypeError\u001b[0m                                 Traceback (most recent call last)",
      "\u001b[0;32m/tmp/ipykernel_2793807/1253691622.py\u001b[0m in \u001b[0;36m<module>\u001b[0;34m\u001b[0m\n\u001b[0;32m----> 1\u001b[0;31m \u001b[0mt\u001b[0m\u001b[0;34m[\u001b[0m\u001b[0;36m0\u001b[0m\u001b[0;34m]\u001b[0m \u001b[0;34m=\u001b[0m \u001b[0;36m1\u001b[0m\u001b[0;34m\u001b[0m\u001b[0;34m\u001b[0m\u001b[0m\n\u001b[0m",
      "\u001b[0;31mTypeError\u001b[0m: 'tuple' object does not support item assignment"
     ]
    }
   ],
   "source": [
    "t[0] = 1"
   ]
  },
  {
   "cell_type": "code",
   "execution_count": null,
   "id": "2ce6839f",
   "metadata": {},
   "outputs": [],
   "source": [
    "# 튜플\n",
    "# 튜플의 표현\n",
    "t1 = ()\n",
    "t2 = (1,)\n",
    "t3 = (1,2, 3)\n",
    "t4 = 1, 2, 3\n",
    "t5 = ('a', 'b', ('ab', 'cd'))\n",
    "\n",
    "# 튜플 요소 값 삭제 시 오류\n",
    "t1 = (1, 2, 'a', 'b')\n",
    "# def t1[0] Error\n",
    "\n",
    "# 튜플 요소 값 변경 시 오류\n",
    "t1 = (1, 2, 'a', 'b')\n",
    "# t1[0] = 'c' Error\n",
    "\n",
    "# 튜플 인덱싱\n",
    "t1 = (1, 2, 'a', 'b')\n",
    "t1[0] # 1\n",
    "t1[3] # 'b'\n",
    "\n",
    "# 튜플 슬라이싱\n",
    "t1 = (1, 2, 'a', 'b')\n",
    "t1[1:] # (2, 'a', 'b')\n",
    "\n",
    "# 튜플 더하기\n",
    "t2 = (3, 4)\n",
    "t1 + t2 # (1, 2, 'a', 'b', 3, 4)\n",
    "\n",
    "# 튜플 곱하기\n",
    "t2 * 3 # (3, 4, 3, 4, 3, 4)"
   ]
  },
  {
   "attachments": {},
   "cell_type": "markdown",
   "id": "61683466",
   "metadata": {},
   "source": [
    "#### 딕셔너리 (Dictionaries)"
   ]
  },
  {
   "attachments": {},
   "cell_type": "markdown",
   "id": "9a8e919d",
   "metadata": {},
   "source": [
    "A dictionary stores (key, value) pairs, similar to a `Map` in Java or an object in Javascript. You can use it like this:"
   ]
  },
  {
   "cell_type": "code",
   "execution_count": 23,
   "id": "135fff9e",
   "metadata": {},
   "outputs": [
    {
     "name": "stdout",
     "output_type": "stream",
     "text": [
      "cute\n",
      "True\n"
     ]
    }
   ],
   "source": [
    "d = {'cat': 'cute', 'dog': 'furry'}  # Create a new dictionary with some data\n",
    "print(d['cat'])      # Get an entry from a dictionary; prints \"cute\"\n",
    "print('cat' in d)     # Check if a dictionary has a given key; prints \"True\""
   ]
  },
  {
   "cell_type": "code",
   "execution_count": 24,
   "id": "c0379983",
   "metadata": {},
   "outputs": [
    {
     "name": "stdout",
     "output_type": "stream",
     "text": [
      "wet\n"
     ]
    }
   ],
   "source": [
    "d['fish'] = 'wet'    # Set an entry in a dictionary\n",
    "print(d['fish'])     # Prints \"wet\""
   ]
  },
  {
   "cell_type": "code",
   "execution_count": 25,
   "id": "d4c895ad",
   "metadata": {},
   "outputs": [
    {
     "ename": "KeyError",
     "evalue": "'monkey'",
     "output_type": "error",
     "traceback": [
      "\u001b[0;31m---------------------------------------------------------------------------\u001b[0m",
      "\u001b[0;31mKeyError\u001b[0m                                  Traceback (most recent call last)",
      "\u001b[0;32m/tmp/ipykernel_2793807/3521650589.py\u001b[0m in \u001b[0;36m<module>\u001b[0;34m\u001b[0m\n\u001b[0;32m----> 1\u001b[0;31m \u001b[0mprint\u001b[0m\u001b[0;34m(\u001b[0m\u001b[0md\u001b[0m\u001b[0;34m[\u001b[0m\u001b[0;34m'monkey'\u001b[0m\u001b[0;34m]\u001b[0m\u001b[0;34m)\u001b[0m  \u001b[0;31m# KeyError: 'monkey' not a key of d\u001b[0m\u001b[0;34m\u001b[0m\u001b[0;34m\u001b[0m\u001b[0m\n\u001b[0m",
      "\u001b[0;31mKeyError\u001b[0m: 'monkey'"
     ]
    }
   ],
   "source": [
    "print(d['monkey'])  # KeyError: 'monkey' not a key of d"
   ]
  },
  {
   "cell_type": "code",
   "execution_count": 26,
   "id": "e93e6c26",
   "metadata": {},
   "outputs": [
    {
     "name": "stdout",
     "output_type": "stream",
     "text": [
      "N/A\n",
      "wet\n"
     ]
    }
   ],
   "source": [
    "print(d.get('monkey', 'N/A'))  # Get an element with a default; prints \"N/A\"\n",
    "print(d.get('fish', 'N/A'))    # Get an element with a default; prints \"wet\""
   ]
  },
  {
   "cell_type": "code",
   "execution_count": 27,
   "id": "712a635a",
   "metadata": {},
   "outputs": [
    {
     "name": "stdout",
     "output_type": "stream",
     "text": [
      "N/A\n"
     ]
    }
   ],
   "source": [
    "del d['fish']        # Remove an element from a dictionary\n",
    "print(d.get('fish', 'N/A')) # \"fish\" is no longer a key; prints \"N/A\""
   ]
  },
  {
   "attachments": {},
   "cell_type": "markdown",
   "id": "303ae9b2",
   "metadata": {},
   "source": [
    "You can find all you need to know about dictionaries in the [documentation](https://docs.python.org/2/library/stdtypes.html#dict)."
   ]
  },
  {
   "cell_type": "code",
   "execution_count": 9,
   "id": "8e02a99f",
   "metadata": {},
   "outputs": [
    {
     "name": "stdout",
     "output_type": "stream",
     "text": [
      "name\n",
      "phone\n",
      "birth\n"
     ]
    },
    {
     "data": {
      "text/plain": [
       "False"
      ]
     },
     "execution_count": 9,
     "metadata": {},
     "output_type": "execute_result"
    }
   ],
   "source": [
    "# 딕셔녀리의 표현\n",
    "dic = { 'name' : 'pey', 'phone' : '0119993323', 'birth' : '1118' }\n",
    "'''\n",
    "Key     Value\n",
    "name    pey\n",
    "phone   0119993323\n",
    "birth   1118\n",
    "'''\n",
    "\n",
    "a = { 1 : 'hi' } # Key : 1, Value : 'hi'\n",
    "a = { 'a' : [1, 2, 3] } # Key : 'a', Value : [1, 2, 3]\n",
    "\n",
    "# 딕셔너리 쌍 추가하기\n",
    "a = { 1 : 'a' }\n",
    "a[2] = 'b'\n",
    "a # { 2 : 'b', 1 : 'a' }\n",
    "a['name'] = 'pey'\n",
    "a # { 'name' : 'pey', 2 : 'b', 1 : 'a' }\n",
    "a[3] = [1, 2, 3]\n",
    "a # { 'name' : 'pey', 3 : [1, 2, 3], 2 : 'b', 1 : 'a' }\n",
    "\n",
    "# 딕셔너리 요소 삭제하기\n",
    "del a[1]\n",
    "a # { 'name' : 'pey', 3 : [1, 2, 3], 2 : 'b' }\n",
    "\n",
    "# 딕셔너리에서 Key 사용해 Value 얻기\n",
    "grade = { 'pey' : 10, 'julliet' : 99 }\n",
    "grade['pey'] # 10\n",
    "grade['julliet'] # 99\n",
    "a = { 1 : 'a', 2 : 'b' }\n",
    "a[1] # 'a'\n",
    "a[2] # 'b'\n",
    "a = { 'a' : 1, 'b' : 2 }\n",
    "a['a'] # 1\n",
    "a['b'] # 2\n",
    "dic = { 'name' : 'pey', 'phone' : '0119993323', 'birth' : '1118' }\n",
    "dic['name'] # 'pey'\n",
    "dic['phone'] # '0119993323'\n",
    "dic['birth'] # '1118'\n",
    "\n",
    "\n",
    "# 딕셔너리 만들 때 주의할 사항\n",
    "a = { 1 : 'a', 1 : 'b' }\n",
    "a # { 1 : 'b' } 동일한 Key는 사용할 수 없음\n",
    "# a = { [1, 2] : 'hi' } 변하는 값은 Key로 사용할 수 없음\n",
    "\n",
    "# Key 리스트 만들기\n",
    "a = { 'name' : 'pey', 'phone' : '0119993323', 'birth' : '1118' }\n",
    "a.keys() # dic_keys(['name', 'phone', 'birth'])\n",
    "for k in a.keys() :\n",
    "    print(k)\n",
    "'''\n",
    "name\n",
    "phone\n",
    "birth\n",
    "'''\n",
    "\n",
    "# dict_keys 객체를 리스트로 반환\n",
    "list(a.keys()) # ['phone', 'birth', 'name']\n",
    "\n",
    "# Value 리스트 만들기\n",
    "a.values() # dic_values(['pey', '0119993323', '1118'])\n",
    "\n",
    "# Key, Value 쌍 얻기\n",
    "a.items() # dict_items([('name', 'pey'), ('phone', '0119993323'), ('birth', '1118')])\n",
    "\n",
    "# Key, Value 쌍 모두 지우기\n",
    "a.clear()\n",
    "a # ()\n",
    "\n",
    "# Key로 Value 얻기\n",
    "a = { 'name' : 'pey', 'phone' : '0119993323', 'birth' : '1118' }\n",
    "a.get('name') # 'pey'\n",
    "a.get('phone') # '0119993323'\n",
    "a.get('nokey') # None\n",
    "# a['nokey'] Error\n",
    "a.get('foo', 'bar') # default값인 'bar' 반환\n",
    "\n",
    "# Key가 딕셔너리 안에 있는지 조사하기\n",
    "a = { 'name' : 'pey', 'phone' : '0119993323', 'birth' : '1118' }\n",
    "'name' in a # True\n",
    "'email' in a # False"
   ]
  },
  {
   "attachments": {},
   "cell_type": "markdown",
   "id": "7abd3db0",
   "metadata": {},
   "source": [
    "#### 세트 (Sets)"
   ]
  },
  {
   "attachments": {},
   "cell_type": "markdown",
   "id": "60b59189",
   "metadata": {},
   "source": [
    "A set is an unordered collection of distinct elements. As a simple example, consider the following:"
   ]
  },
  {
   "cell_type": "code",
   "execution_count": 31,
   "id": "2b8f2581",
   "metadata": {},
   "outputs": [
    {
     "name": "stdout",
     "output_type": "stream",
     "text": [
      "True\n",
      "False\n"
     ]
    }
   ],
   "source": [
    "animals = {'cat', 'dog'}\n",
    "print('cat' in animals)  # Check if an element is in a set; prints \"True\"\n",
    "print('fish' in animals) # prints \"False\""
   ]
  },
  {
   "cell_type": "code",
   "execution_count": 32,
   "id": "8c673dad",
   "metadata": {},
   "outputs": [
    {
     "name": "stdout",
     "output_type": "stream",
     "text": [
      "True\n",
      "3\n"
     ]
    }
   ],
   "source": [
    "animals.add('fish')      # Add an element to a set\n",
    "print('fish' in animals)\n",
    "print(len(animals))       # Number of elements in a set;"
   ]
  },
  {
   "cell_type": "code",
   "execution_count": 33,
   "id": "f930f996",
   "metadata": {},
   "outputs": [
    {
     "name": "stdout",
     "output_type": "stream",
     "text": [
      "3\n",
      "2\n"
     ]
    }
   ],
   "source": [
    "animals.add('cat')       # Adding an element that is already in the set does nothing\n",
    "print(len(animals))       \n",
    "animals.remove('cat')    # Remove an element from a set\n",
    "print(len(animals))       "
   ]
  },
  {
   "cell_type": "code",
   "execution_count": 10,
   "id": "7036eace",
   "metadata": {
    "scrolled": true
   },
   "outputs": [
    {
     "data": {
      "text/plain": [
       "{1, 3}"
      ]
     },
     "execution_count": 10,
     "metadata": {},
     "output_type": "execute_result"
    }
   ],
   "source": [
    "# 집합의 표현\n",
    "s1 = set([1, 2, 3])\n",
    "s1 # {1, 2, 3}\n",
    "s2 = set('Hello')\n",
    "s2 # { 'e', 'l', 'o', 'H' }\n",
    "\n",
    "# 집합의 값을 인덱싱으로 접근\n",
    "s1 = set([1, 2, 3])\n",
    "l1 = list(s1) # [1, 2, 3]\n",
    "l1[0] # 1\n",
    "l1 = tuple(s1)\n",
    "l1 # (1, 2, 3)\n",
    "l1[0] # 1\n",
    "\n",
    "# 집합 자료형의 활용\n",
    "s1 = set([1, 2, 3, 4, 5, 6])\n",
    "s2 = set([4, 5, 6, 7, 8, 9])\n",
    "\n",
    "# 교집합\n",
    "s1 & s2 # { 4, 5, 6 }\n",
    "s1.intersection(s2) # { 4, 5, 6 }\n",
    "\n",
    "# 합집합\n",
    "s1 | s2 # { 1, 2, 3, 4, 5, 6, 7, 8, 9 }\n",
    "s1.union(s2) # { 1, 2, 3, 4, 5, 6, 7, 8, 9 }\n",
    "\n",
    "# 차집합\n",
    "s1 - s2 # { 1, 2, 3 }\n",
    "s2 - s1 # { 8, 9, 7 }\n",
    "s1.difference(s2) # { 1, 2, 3 }\n",
    "s2.difference(s1) # { 8, 9, 7 }\n",
    "\n",
    "# 값 1개 추가하기\n",
    "s1 = set([1, 2, 3])\n",
    "s1.add(4)\n",
    "s1 # { 1, 2, 3, 4 }\n",
    "\n",
    "# 값 여러 개 추가하기\n",
    "s1 = set([1, 2, 3])\n",
    "s1.update([4, 5, 6])\n",
    "s1 # { 1, 2, 3, 4, 5, 6 }\n",
    "\n",
    "# 특정 값 제거하기\n",
    "s1 = set([1, 2, 3])\n",
    "s1.remove(2)\n",
    "s1 # { 1, 3 }"
   ]
  },
  {
   "attachments": {},
   "cell_type": "markdown",
   "id": "02d01674",
   "metadata": {},
   "source": [
    "#### 불 (Booleans)"
   ]
  },
  {
   "attachments": {},
   "cell_type": "markdown",
   "id": "58e8c5cf",
   "metadata": {},
   "source": [
    "Python implements all of the usual operators for Boolean logic, but uses English words rather than symbols (`&&`, `||`, etc.):"
   ]
  },
  {
   "cell_type": "code",
   "execution_count": 11,
   "id": "dd30cbc0",
   "metadata": {},
   "outputs": [
    {
     "name": "stdout",
     "output_type": "stream",
     "text": [
      "<class 'bool'>\n"
     ]
    }
   ],
   "source": [
    "t, f = True, False\n",
    "print(type(t)) # Prints \"<type 'bool'>\""
   ]
  },
  {
   "attachments": {},
   "cell_type": "markdown",
   "id": "a3572f49",
   "metadata": {},
   "source": [
    "Now we let's look at the operations:"
   ]
  },
  {
   "cell_type": "code",
   "execution_count": 8,
   "id": "5d1ce9be",
   "metadata": {
    "scrolled": true
   },
   "outputs": [
    {
     "name": "stdout",
     "output_type": "stream",
     "text": [
      "False\n",
      "True\n",
      "False\n",
      "True\n"
     ]
    }
   ],
   "source": [
    "print(t and f) # Logical AND;\n",
    "print(t or f)  # Logical OR;\n",
    "print(not t)   # Logical NOT;\n",
    "print(t != f)  # Logical XOR;"
   ]
  },
  {
   "attachments": {},
   "cell_type": "markdown",
   "id": "3bf3e874",
   "metadata": {},
   "source": [
    "#### 변수"
   ]
  },
  {
   "cell_type": "code",
   "execution_count": null,
   "id": "daf9e1fe",
   "metadata": {},
   "outputs": [],
   "source": [
    "# 변수\n",
    "a = 1\n",
    "b = \"python\"\n",
    "c = [1, 2, 3]\n",
    "\n",
    "a = 3\n",
    "type(3) # <class 'int'>\n",
    "\n",
    "a = 3\n",
    "b = 3\n",
    "a is b # True\n",
    "\n",
    "# a, b, c는 정말 같은 객체를 가리키는 걸까?\n",
    "import sys\n",
    "sys.getrefcount(3) # 30\n",
    "a = 3\n",
    "sys.getrefcount(3) # 31\n",
    "b = 3\n",
    "sys.getrefcount(3) # 32\n",
    "c = 3\n",
    "sys.getrefcount(3) # 33\n",
    "\n",
    "# 변수를 만드는 여러 가지 방법\n",
    "a, b = ('python', 'life')\n",
    "(a, b) = 'python', 'life'\n",
    "[a, b] = ['python', 'life']\n",
    "a = b = 'python'\n",
    "\n",
    "a = 3\n",
    "b = 5\n",
    "a, b = b, a\n",
    "a # 5\n",
    "b # 3\n",
    "\n",
    "# 메모리에 생성된 변수 없애기\n",
    "a = 3\n",
    "b = 3\n",
    "del(a)\n",
    "del(b)\n",
    "\n",
    "# 리스트를 변수에 넣고 복사하고자 할 때\n",
    "a = [1, 2, 3]\n",
    "b = a\n",
    "a[1] = 4\n",
    "a # [1, 4, 3]\n",
    "b # [1, 4, 3]\n",
    "\n",
    "# 1. [:] 이용\n",
    "a = [1, 2, 3]\n",
    "b = a[:]\n",
    "a[1] = 4\n",
    "a # [1, 4, 3]\n",
    "b # [1, 2, 3]\n",
    "\n",
    "# 2. copy 모듈 이용\n",
    "from copy import copy\n",
    "b = copy(a)\n",
    "b is a # False"
   ]
  },
  {
   "attachments": {},
   "cell_type": "markdown",
   "id": "7323c0a6",
   "metadata": {},
   "source": [
    "#### Loops"
   ]
  },
  {
   "attachments": {},
   "cell_type": "markdown",
   "id": "3fd4eaa9",
   "metadata": {},
   "source": [
    "You can loop over the elements of a list like this:"
   ]
  },
  {
   "cell_type": "code",
   "execution_count": 18,
   "id": "25466d4b",
   "metadata": {},
   "outputs": [
    {
     "name": "stdout",
     "output_type": "stream",
     "text": [
      "cat\n",
      "dog\n",
      "monkey\n"
     ]
    }
   ],
   "source": [
    "animals = ['cat', 'dog', 'monkey']\n",
    "for animal in animals:\n",
    "    print(animal)"
   ]
  },
  {
   "attachments": {},
   "cell_type": "markdown",
   "id": "3f4de5c2",
   "metadata": {},
   "source": [
    "If you want access to the index of each element within the body of a loop, use the built-in `enumerate` function:"
   ]
  },
  {
   "cell_type": "code",
   "execution_count": 19,
   "id": "72cd19e7",
   "metadata": {},
   "outputs": [
    {
     "name": "stdout",
     "output_type": "stream",
     "text": [
      "#1: cat\n",
      "#2: dog\n",
      "#3: monkey\n"
     ]
    }
   ],
   "source": [
    "animals = ['cat', 'dog', 'monkey']\n",
    "for idx, animal in enumerate(animals):\n",
    "    print('#%d: %s' % (idx + 1, animal))"
   ]
  },
  {
   "attachments": {},
   "cell_type": "markdown",
   "id": "56725734",
   "metadata": {},
   "source": [
    "#### List comprehensions:"
   ]
  },
  {
   "attachments": {},
   "cell_type": "markdown",
   "id": "786a8aa7",
   "metadata": {},
   "source": [
    "When programming, frequently we want to transform one type of data into another. As a simple example, consider the following code that computes square numbers:"
   ]
  },
  {
   "cell_type": "code",
   "execution_count": 20,
   "id": "41054645",
   "metadata": {},
   "outputs": [
    {
     "name": "stdout",
     "output_type": "stream",
     "text": [
      "[0, 1, 4, 9, 16]\n"
     ]
    }
   ],
   "source": [
    "nums = [0, 1, 2, 3, 4]\n",
    "squares = []\n",
    "for x in nums:\n",
    "    squares.append(x ** 2)\n",
    "print(squares)"
   ]
  },
  {
   "attachments": {},
   "cell_type": "markdown",
   "id": "9dfe56f5",
   "metadata": {},
   "source": [
    "You can make this code simpler using a list comprehension:"
   ]
  },
  {
   "cell_type": "code",
   "execution_count": null,
   "id": "aad8b701",
   "metadata": {},
   "outputs": [],
   "source": [
    "a.sort()\n",
    "print()"
   ]
  },
  {
   "cell_type": "code",
   "execution_count": 21,
   "id": "fe0644be",
   "metadata": {},
   "outputs": [
    {
     "name": "stdout",
     "output_type": "stream",
     "text": [
      "[0, 1, 4, 9, 16]\n"
     ]
    }
   ],
   "source": [
    "nums = [0, 1, 2, 3, 4]\n",
    "squares = [x ** 2 for x in nums]\n",
    "print(squares)"
   ]
  },
  {
   "attachments": {},
   "cell_type": "markdown",
   "id": "1809a01c",
   "metadata": {},
   "source": [
    "List comprehensions can also contain conditions:"
   ]
  },
  {
   "cell_type": "code",
   "execution_count": 22,
   "id": "1ec4d9b9",
   "metadata": {},
   "outputs": [
    {
     "name": "stdout",
     "output_type": "stream",
     "text": [
      "[0, 4, 16]\n"
     ]
    }
   ],
   "source": [
    "nums = [0, 1, 2, 3, 4]\n",
    "even_squares = [x ** 2 for x in nums if x % 2 == 0]\n",
    "print(even_squares)"
   ]
  },
  {
   "attachments": {},
   "cell_type": "markdown",
   "id": "dbae7283",
   "metadata": {},
   "source": [
    "It is easy to iterate over the keys in a dictionary:"
   ]
  },
  {
   "cell_type": "code",
   "execution_count": 28,
   "id": "15e19062",
   "metadata": {},
   "outputs": [
    {
     "name": "stdout",
     "output_type": "stream",
     "text": [
      "A person has 2 legs\n",
      "A cat has 4 legs\n",
      "A spider has 8 legs\n"
     ]
    }
   ],
   "source": [
    "d = {'person': 2, 'cat': 4, 'spider': 8}\n",
    "for animal in d:\n",
    "    legs = d[animal]\n",
    "    print('A %s has %d legs' % (animal, legs))"
   ]
  },
  {
   "attachments": {},
   "cell_type": "markdown",
   "id": "c3c04db5",
   "metadata": {},
   "source": [
    "If you want access to keys and their corresponding values, use the iteritems method:"
   ]
  },
  {
   "cell_type": "code",
   "execution_count": 29,
   "id": "e3068f54",
   "metadata": {},
   "outputs": [
    {
     "name": "stdout",
     "output_type": "stream",
     "text": [
      "A person has 2 legs\n",
      "A cat has 4 legs\n",
      "A spider has 8 legs\n"
     ]
    }
   ],
   "source": [
    "d = {'person': 2, 'cat': 4, 'spider': 8}\n",
    "for animal, legs in d.items():\n",
    "    print('A %s has %d legs' % (animal, legs))"
   ]
  },
  {
   "attachments": {},
   "cell_type": "markdown",
   "id": "124fa98e",
   "metadata": {},
   "source": [
    "Dictionary comprehensions: These are similar to list comprehensions, but allow you to easily construct dictionaries. For example:"
   ]
  },
  {
   "cell_type": "code",
   "execution_count": 30,
   "id": "7cc86547",
   "metadata": {},
   "outputs": [
    {
     "name": "stdout",
     "output_type": "stream",
     "text": [
      "{0: 0, 2: 4, 4: 16}\n"
     ]
    }
   ],
   "source": [
    "nums = [0, 1, 2, 3, 4]\n",
    "even_num_to_square = {x: x ** 2 for x in nums if x % 2 == 0}\n",
    "print(even_num_to_square)"
   ]
  },
  {
   "attachments": {},
   "cell_type": "markdown",
   "id": "98d89b26",
   "metadata": {},
   "source": [
    "_Loops_: Iterating over a set has the same syntax as iterating over a list; however since sets are unordered, you cannot make assumptions about the order in which you visit the elements of the set:"
   ]
  },
  {
   "cell_type": "code",
   "execution_count": 34,
   "id": "b9c028d5",
   "metadata": {},
   "outputs": [
    {
     "name": "stdout",
     "output_type": "stream",
     "text": [
      "#1: cat\n",
      "#2: fish\n",
      "#3: dog\n"
     ]
    }
   ],
   "source": [
    "animals = {'cat', 'dog', 'fish'}\n",
    "for idx, animal in enumerate(animals):\n",
    "    print('#%d: %s' % (idx + 1, animal))\n",
    "# Prints \"#1: fish\", \"#2: dog\", \"#3: cat\""
   ]
  },
  {
   "attachments": {},
   "cell_type": "markdown",
   "id": "9be1c896",
   "metadata": {},
   "source": [
    "Set comprehensions: Like lists and dictionaries, we can easily construct sets using set comprehensions:"
   ]
  },
  {
   "cell_type": "code",
   "execution_count": 35,
   "id": "c02599e4",
   "metadata": {
    "scrolled": true
   },
   "outputs": [
    {
     "name": "stdout",
     "output_type": "stream",
     "text": [
      "{0, 1, 2, 3, 4, 5}\n"
     ]
    }
   ],
   "source": [
    "from math import sqrt\n",
    "print({int(sqrt(x)) for x in range(30)})"
   ]
  },
  {
   "attachments": {},
   "cell_type": "markdown",
   "id": "c0dd5ff6",
   "metadata": {},
   "source": [
    "#### ================================\n",
    "### 되새김 문제\n",
    "#### ================================"
   ]
  },
  {
   "cell_type": "code",
   "execution_count": 9,
   "id": "8915f7eb",
   "metadata": {},
   "outputs": [
    {
     "data": {
      "text/plain": [
       "77.5"
      ]
     },
     "execution_count": 9,
     "metadata": {},
     "output_type": "execute_result"
    }
   ],
   "source": [
    "'''\n",
    "홍길동씨의 과목별 점수는 다음과 같다. 홍길동 씨의 평균 점수를 구해보자.\n",
    "국어 80점\n",
    "영어 75점\n",
    "수학 55점\n",
    "'''\n",
    "dict_a = {\"국어\": 80, \"영어\": 75, \"수학\": 55}\n",
    "sum(dict_a.values())/len(dict_a)\n",
    "a = [80, 75, 55, 100]\n",
    "sum(a) / len(a)"
   ]
  },
  {
   "cell_type": "code",
   "execution_count": 10,
   "id": "c46020b4",
   "metadata": {},
   "outputs": [
    {
     "name": "stdout",
     "output_type": "stream",
     "text": [
      "홀수\n"
     ]
    }
   ],
   "source": [
    "'''\n",
    "자연수 13이 홀수인지, 짝수인지 판별할 수 있는 방법에 대해 말해보자\n",
    "'''\n",
    "a = 13\n",
    "if (a % 2 == 1): # 나머지가 1이면 홀수\n",
    "    print(\"홀수\")\n",
    "else:# 나머지가 0이면 짝수\n",
    "    print(\"짝수\")\n",
    "    "
   ]
  },
  {
   "cell_type": "code",
   "execution_count": 13,
   "id": "22562bc3",
   "metadata": {},
   "outputs": [
    {
     "name": "stdout",
     "output_type": "stream",
     "text": [
      "881120\n",
      "1068234\n",
      "881120\n",
      "1068234\n"
     ]
    }
   ],
   "source": [
    "'''\n",
    "홍길동 씨의 주민등록번호는 881120-1068234이다.\n",
    "홍길동씨의 주민번호를 연월일(YYYYMMDD) 부분과\n",
    "그 뒤의 숫자 부분으로 나누어 출력해 보자.\n",
    "'''\n",
    "# 힌트 : \"-\"를 이용하기, 개수를 이용하기, 내장함수 이용하기 등등... split index \n",
    "pin = '881120-1068234'\n",
    "yyyymmdd = pin.split(\"-\")[0]\n",
    "num = pin.split(\"-\")[1]\n",
    "print(yyyymmdd) # 881120\n",
    "print(num) # 1068234\n",
    "\n",
    "index_ = pin.index(\"-\")\n",
    "yyyymmdd = pin[:index_]\n",
    "num = pin[index_+1:]\n",
    "print(yyyymmdd) # 881120\n",
    "print(num) # 1068234"
   ]
  },
  {
   "cell_type": "code",
   "execution_count": null,
   "id": "9843fb0f",
   "metadata": {},
   "outputs": [],
   "source": [
    "str(aa)"
   ]
  },
  {
   "cell_type": "code",
   "execution_count": 6,
   "id": "122b10d8",
   "metadata": {},
   "outputs": [
    {
     "name": "stdout",
     "output_type": "stream",
     "text": [
      "\n"
     ]
    }
   ],
   "source": [
    "'''\n",
    "주민등록번호 뒷자리의 맨 첫 번째 숫자는 성별을 나타낸다.\n",
    "주민등록번호에서 성별을 나타내는 숫자를 출력해보자.\n",
    "'''\n",
    "\n",
    "pin = '881120-1068234'\n",
    "print()"
   ]
  },
  {
   "cell_type": "code",
   "execution_count": 12,
   "id": "2b3b4b1c",
   "metadata": {},
   "outputs": [
    {
     "name": "stdout",
     "output_type": "stream",
     "text": [
      "a#b#c#d\n"
     ]
    }
   ],
   "source": [
    "'''\n",
    "다음과 같은 문자열 a:b:c:d 가 있다. 문자열의 replace 함수를 사용하여 a#b#c#d로 바꿔 출력해 보자. \n",
    "'''\n",
    "a = \"a:b:c:d\"\n",
    "b = \n",
    "print(b)"
   ]
  },
  {
   "cell_type": "code",
   "execution_count": 15,
   "id": "700d16f2",
   "metadata": {},
   "outputs": [
    {
     "name": "stdout",
     "output_type": "stream",
     "text": [
      "[5, 4, 3, 2, 1]\n"
     ]
    }
   ],
   "source": [
    "'''\n",
    "[1, 3, 5, 4, 2]라는 리스트를 [5, 4, 3, 2, 1]로 만들어보자.\n",
    "'''\n",
    "\n",
    "a = [1, 3, 5, 4, 2]\n",
    "a.\n",
    "a.\n",
    "print()"
   ]
  },
  {
   "cell_type": "code",
   "execution_count": null,
   "id": "44bc60ae",
   "metadata": {},
   "outputs": [],
   "source": [
    "'''\n",
    "Q7. 리스트를 문자열로 만들기\n",
    "['Life', 'is', 'too', 'short'] 리스트를 Life is too short 문자열로 만들어 출력해보자.\n",
    "\n",
    "'''\n",
    " \n",
    "\n",
    "a = ['Life', 'is', 'too', 'short']\n",
    "result = \n",
    "print(result)"
   ]
  },
  {
   "cell_type": "code",
   "execution_count": null,
   "id": "67b876ca",
   "metadata": {},
   "outputs": [],
   "source": [
    "'''\n",
    "Q8. 튜플 더하기\n",
    "(1,2,3) 튜플에 값 4를 추가하여 (1,2,3,4)를 만들어 출력해보자.\n",
    "\n",
    "'''\n",
    "\n",
    "a = (1,2,3)\n",
    "a = \n",
    "print(a)"
   ]
  },
  {
   "cell_type": "code",
   "execution_count": 16,
   "id": "6b92ce7e",
   "metadata": {},
   "outputs": [
    {
     "data": {
      "text/plain": [
       "\"\\nQ9. 딕셔너리의 키\\n다음과 같은 딕셔너리 a가 있다.\\n>>> a = dict()\\n>>> a\\n{}\\n\\n다음 중 오류가 발생하는 경우를 고르고, 그 이유를 설명해보자.\\na['name'] = 'python'\\na[('a',)] = 'python'\\na[[1]] = 'python'\\na[250] = 'python'\\n\""
      ]
     },
     "execution_count": 16,
     "metadata": {},
     "output_type": "execute_result"
    }
   ],
   "source": [
    "'''\n",
    "Q9. 딕셔너리의 키\n",
    "다음과 같은 딕셔너리 a가 있다.\n",
    ">>> a = dict()\n",
    ">>> a\n",
    "{}\n",
    "\n",
    "다음 중 오류가 발생하는 경우를 고르고, 그 이유를 설명해보자.\n",
    "a['name'] = 'python'\n",
    "a[('a',)] = 'python'\n",
    "a[[1]] = 'python'\n",
    "a[250] = 'python'\n",
    "'''"
   ]
  },
  {
   "cell_type": "code",
   "execution_count": null,
   "id": "68a71e87",
   "metadata": {},
   "outputs": [],
   "source": [
    "'''\n",
    "Q10. 딕셔너리 값 추출하기\n",
    "딕셔너리 a에서 'B'에 해당하는 값을 추출해 보자. \n",
    "'''\n",
    "\n",
    "a = {'A': 90, 'B': 80, 'C': 70}\n",
    "result = \n",
    "print(a)\n",
    "print(result)"
   ]
  },
  {
   "cell_type": "code",
   "execution_count": 18,
   "id": "9455579e",
   "metadata": {},
   "outputs": [
    {
     "ename": "SyntaxError",
     "evalue": "invalid syntax (570580459.py, line 7)",
     "output_type": "error",
     "traceback": [
      "\u001b[0;36m  File \u001b[0;32m\"/tmp/ipykernel_3483882/570580459.py\"\u001b[0;36m, line \u001b[0;32m7\u001b[0m\n\u001b[0;31m    aSet =\u001b[0m\n\u001b[0m          ^\u001b[0m\n\u001b[0;31mSyntaxError\u001b[0m\u001b[0;31m:\u001b[0m invalid syntax\n"
     ]
    }
   ],
   "source": [
    "'''\n",
    "Q11. 리스트에서 중복 제거하기\n",
    "리스트에서 중복 숫자를 제거해보자.\n",
    "'''\n",
    "\n",
    "a = [1,1,1,2,2,3,3,3,4,4,5]\n",
    "aSet =\n",
    "b = \n",
    "print(b)"
   ]
  },
  {
   "cell_type": "code",
   "execution_count": 21,
   "id": "984a20a6",
   "metadata": {},
   "outputs": [
    {
     "name": "stdout",
     "output_type": "stream",
     "text": [
      "[1, 4, 3]\n"
     ]
    }
   ],
   "source": [
    "'''\n",
    "Q12. 파이썬 변수\n",
    "파이썬은 다음처럼 동일한 값에 여러 개의 변수를 선언할 수 있다. \n",
    "다음과 같이 a,b 변수를 선언한 후 a의 두번째 요솟값을 변경하면 b 값은 어떻게 될까? \n",
    "그리고 이런 결과가 나오는 이유에 대해 설명해보자.\n",
    "'''\n",
    "\n",
    "a=b=[1,2,3] \n",
    "a[1] = 4 \n",
    "print(b)"
   ]
  },
  {
   "cell_type": "code",
   "execution_count": 27,
   "id": "a64b97d8",
   "metadata": {
    "scrolled": false
   },
   "outputs": [
    {
     "data": {
      "text/plain": [
       "139686381999120"
      ]
     },
     "execution_count": 27,
     "metadata": {},
     "output_type": "execute_result"
    }
   ],
   "source": [
    "id(a)"
   ]
  },
  {
   "cell_type": "code",
   "execution_count": 29,
   "id": "9042af89",
   "metadata": {},
   "outputs": [
    {
     "data": {
      "text/plain": [
       "139686381999120"
      ]
     },
     "execution_count": 29,
     "metadata": {},
     "output_type": "execute_result"
    }
   ],
   "source": [
    "id(b)"
   ]
  },
  {
   "cell_type": "code",
   "execution_count": 33,
   "id": "7db1a0c0",
   "metadata": {},
   "outputs": [
    {
     "name": "stdout",
     "output_type": "stream",
     "text": [
      "[1, 4, 3] [1, 2, 3]\n"
     ]
    }
   ],
   "source": [
    "a=[1,2,3] \n",
    "b=[1,2,3]\n",
    "a[1] = 4 \n",
    "print(a,b)"
   ]
  },
  {
   "cell_type": "code",
   "execution_count": 34,
   "id": "f0850938",
   "metadata": {
    "scrolled": true
   },
   "outputs": [
    {
     "data": {
      "text/plain": [
       "139686382059920"
      ]
     },
     "execution_count": 34,
     "metadata": {},
     "output_type": "execute_result"
    }
   ],
   "source": [
    "id(a)"
   ]
  },
  {
   "cell_type": "code",
   "execution_count": 35,
   "id": "c40e1bf6",
   "metadata": {},
   "outputs": [
    {
     "data": {
      "text/plain": [
       "139686382060080"
      ]
     },
     "execution_count": 35,
     "metadata": {},
     "output_type": "execute_result"
    }
   ],
   "source": [
    "id(b)"
   ]
  },
  {
   "cell_type": "code",
   "execution_count": 30,
   "id": "270bc77a",
   "metadata": {},
   "outputs": [
    {
     "name": "stdout",
     "output_type": "stream",
     "text": [
      "2\n"
     ]
    }
   ],
   "source": [
    "a=b=2\n",
    "a += 2 \n",
    "print(b)"
   ]
  },
  {
   "cell_type": "code",
   "execution_count": 31,
   "id": "0499387b",
   "metadata": {},
   "outputs": [
    {
     "data": {
      "text/plain": [
       "94323159753760"
      ]
     },
     "execution_count": 31,
     "metadata": {},
     "output_type": "execute_result"
    }
   ],
   "source": [
    "id(a)"
   ]
  },
  {
   "cell_type": "code",
   "execution_count": 32,
   "id": "386cb354",
   "metadata": {},
   "outputs": [
    {
     "data": {
      "text/plain": [
       "94323159753696"
      ]
     },
     "execution_count": 32,
     "metadata": {},
     "output_type": "execute_result"
    }
   ],
   "source": [
    "id(b)"
   ]
  },
  {
   "cell_type": "code",
   "execution_count": 38,
   "id": "34fdaf58",
   "metadata": {
    "scrolled": true
   },
   "outputs": [
    {
     "name": "stdout",
     "output_type": "stream",
     "text": [
      "0\n",
      "1\n",
      "1\n",
      "2\n",
      "2\n",
      "3\n"
     ]
    }
   ],
   "source": [
    "import numpy as np\n",
    "a = 0\n",
    "for i in range(3):\n",
    "    prev_a = a;\n",
    "    a += 1\n",
    "    print(prev_a)\n",
    "    print(a)"
   ]
  },
  {
   "cell_type": "code",
   "execution_count": 40,
   "id": "fd8cca47",
   "metadata": {},
   "outputs": [
    {
     "name": "stdout",
     "output_type": "stream",
     "text": [
      "[0]\n",
      "[0, 0]\n",
      "[0, 0]\n",
      "[0, 0, 1]\n",
      "[0, 0, 1]\n",
      "[0, 0, 1, 2]\n"
     ]
    }
   ],
   "source": [
    "import numpy as np\n",
    "a = [0]\n",
    "for i in range(3):\n",
    "    prev_a = a;\n",
    "    a += [i]\n",
    "    print(prev_a)\n",
    "    print(a)"
   ]
  }
 ],
 "metadata": {
  "kernelspec": {
   "display_name": "Python 3 (ipykernel)",
   "language": "python",
   "name": "python3"
  },
  "language_info": {
   "codemirror_mode": {
    "name": "ipython",
    "version": 3
   },
   "file_extension": ".py",
   "mimetype": "text/x-python",
   "name": "python",
   "nbconvert_exporter": "python",
   "pygments_lexer": "ipython3",
   "version": "3.9.7"
  }
 },
 "nbformat": 4,
 "nbformat_minor": 5
}
