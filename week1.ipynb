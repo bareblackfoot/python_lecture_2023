{
 "cells": [
  {
   "attachments": {},
   "cell_type": "markdown",
   "id": "23d34826",
   "metadata": {},
   "source": [
    "# 1주차: 파이썬소개 및 환경설정 \n"
   ]
  },
  {
   "attachments": {},
   "cell_type": "markdown",
   "id": "c8203478",
   "metadata": {},
   "source": [
    "### * 오늘의 커리큘럼 *\n",
    "\n",
    "#### 수업1: 파이썬 소개 \n",
    "- 파이썬이란 무엇이며 왜 중요한가? \n",
    "- 파이썬의 응용분야 이해하기 \n",
    "\n",
    "#### 수업2: 파이썬 설치 및 환경설정 \n",
    "- 파이썬 설치 및 통합 개발환경 설정하기  \n",
    "- 파이썬셸 이해하기 \n",
    "\n",
    "#### 수업3: 파이썬 기본개념 \n",
    "- 파이썬 구문  \n",
    "- 변수와 데이터유형"
   ]
  },
  {
   "attachments": {},
   "cell_type": "markdown",
   "id": "8128a224",
   "metadata": {},
   "source": [
    "### ================================="
   ]
  },
  {
   "attachments": {},
   "cell_type": "markdown",
   "id": "e0308cbe",
   "metadata": {},
   "source": [
    "### 강사소개 [김누리](https://bareblackfoot.github.io/)"
   ]
  },
  {
   "attachments": {},
   "cell_type": "markdown",
   "id": "c592e605",
   "metadata": {},
   "source": [
    "Nuri is a research scientist at Samsung Advanced Institute of Technology. <br>\n",
    "She received her Ph.D. degree in the Department of Electrical and Computer Engineering at Seoul National University, South Korea.<br>\n",
    "Her research interests include Vision-based Navigation, Object Detection, and Machine Learning.<br>\n",
    "Especially, she is interested in enabling a robot to understand semantic information, such as visual input and object relationships. <br>\n",
    "She received a B.S. degree (with great honors) in the Department of Electrical Engineering from Korea University, South Korea in 2016."
   ]
  },
  {
   "attachments": {},
   "cell_type": "markdown",
   "id": "cce8b65b",
   "metadata": {},
   "source": [
    "### =================================\n"
   ]
  },
  {
   "attachments": {},
   "cell_type": "markdown",
   "id": "c5d995f5",
   "metadata": {},
   "source": [
    "교재: Do it! 점프 투 파이썬 <br>\n",
    "수업은 책 저자가 올려둔 온라인 교재로 진행하고, 받으실 책은 연습문제 풀때만 사용하도록 하겠습니다 :)<br>\n",
    "\n",
    "파이썬 설치를 같이 진행하겠지만, 혹시 어려우신 분들은 [google colab](https://colab.google)을 이용하시면 되겠습니다.<br>\n",
    "수업 자료는 수업 후에 제 개인 Github에 업로드 될 예정입니다"
   ]
  },
  {
   "attachments": {},
   "cell_type": "markdown",
   "id": "db8d7a62",
   "metadata": {},
   "source": [
    "### 수업1: 파이썬 소개\n",
    "\n",
    "교재 19페이지\n",
    "\n",
    "혹은 https://wikidocs.net/4307"
   ]
  },
  {
   "attachments": {},
   "cell_type": "markdown",
   "id": "613044f9",
   "metadata": {},
   "source": [
    "### 알고리즘 (Algorithm)\n",
    " \n",
    "\n",
    "1. 알고리즘이란?\n",
    "    - 문제를 해결하기 위한 단계적 절차\n",
    "    - 특정 작업을 수행하는 유한한 명령어들의 집합\n",
    "\n",
    "\n",
    "2. 알고리즘의 조건\n",
    "    * 입력 : 0개 이상의 입력이 존재해야 함\n",
    "    * 출력 : 1개 이상의 출력이 존재해야 함\n",
    "    * 명백성 : 명령어의 의미는 모호하지 않고 명확해야 함\n",
    "    * 유한성 : 한정된 수의 단계 후 종료되어야 함\n",
    "    * 유효성 : 각 명령어들은 실행가능한 연산이어야 함\n",
    "\n",
    "3. 알고리즘의 기술 방법\n",
    "    * 자연어\n",
    "    * 흐름도\n",
    "    * 유사 코드 (Pseudo-code)\n",
    "    * 프로그래밍 언어"
   ]
  },
  {
   "attachments": {},
   "cell_type": "markdown",
   "id": "c146149b",
   "metadata": {},
   "source": [
    "1) 자연어로 표기\n",
    " * 자연어: 영어, 한국어 등\n",
    " * 인간이 읽기 쉽다\n",
    " * 단어들을 정확하게 정의하지 않을 시, 의미전달이 모호\n",
    "\n"
   ]
  },
  {
   "attachments": {},
   "cell_type": "markdown",
   "id": "571da99f",
   "metadata": {},
   "source": [
    "(예시) 자연어로 프로그램을 잘못했을 경우.."
   ]
  },
  {
   "attachments": {},
   "cell_type": "markdown",
   "id": "aaba5794",
   "metadata": {},
   "source": [
    "어느 아내가 프로그래머 남편에게 <br>\n",
    "아내 : 우유 하나 사와. 아, 달걀 있으면 6개 사와\n",
    "\n",
    "남편은 우유를 6개 사왔다.\n",
    "아내는 물었다.\n",
    "\n",
    "아내 : 왜 우유를 6개나 사왔어!\n",
    "남편 : 달걀이 있길래 6개 사왔지"
   ]
  },
  {
   "attachments": {},
   "cell_type": "markdown",
   "id": "89324567",
   "metadata": {},
   "source": [
    "#### 자연어로 표기된 알고리즘"
   ]
  },
  {
   "attachments": {},
   "cell_type": "markdown",
   "id": "abdfe640",
   "metadata": {},
   "source": [
    "![](https://img1.daumcdn.net/thumb/R1280x0/?scode=mtistory2&fname=https%3A%2F%2Fblog.kakaocdn.net%2Fdn%2FmvCzS%2FbtrwwrFdr1Z%2FO4f41mRMMlAn0ZMizKH5eK%2Fimg.png)"
   ]
  },
  {
   "attachments": {},
   "cell_type": "markdown",
   "id": "389d72af",
   "metadata": {},
   "source": [
    " \n",
    "\n",
    "2) 흐름도 표기\n",
    " * 직관적, 이해 쉬운 알고리즘 기술 방법\n",
    " * 복잡한 알고리즘의 경우 상당히 복잡해짐\n",
    " * 예) 배열에서 최대값 찾기 알고리즘\n",
    "\n",
    "\n",
    "\n",
    "#### 흐름도로 표기된 알고리즘\n"
   ]
  },
  {
   "attachments": {},
   "cell_type": "markdown",
   "id": "c764d9ca",
   "metadata": {},
   "source": [
    "![alternatvie text](../imgs/flowchart.png)"
   ]
  },
  {
   "attachments": {},
   "cell_type": "markdown",
   "id": "c5b8d92d",
   "metadata": {},
   "source": [
    " \n",
    "\n",
    "3) 유사 코드 (Pseudo-code)\n",
    " * 알고리즘의 고수준 기술 방법\n",
    " * 자연어보다 더 구조적 표현 방법\n",
    " * 프로그래밍 언어보다는 덜 구체적\n",
    "   (자연어 < 유사코드 < 프로그래밍 언어)\n",
    " * 알고리즘 기술에 가장 많이 사용\n",
    " * 알고리즘의 핵심적 내용에만 집중 가능 (구현 시의 제약조건 덜 표기)\n",
    "\n",
    "\n",
    "유사코드로 기술된 알고리즘\n"
   ]
  },
  {
   "attachments": {},
   "cell_type": "markdown",
   "id": "45583184",
   "metadata": {},
   "source": [
    "![](https://img1.daumcdn.net/thumb/R1280x0/?scode=mtistory2&fname=https%3A%2F%2Fblog.kakaocdn.net%2Fdn%2FwvwCd%2Fbtrwpu4tgB4%2FvpVEKKVjWTpPfO3pkXgz0K%2Fimg.png)"
   ]
  },
  {
   "attachments": {},
   "cell_type": "markdown",
   "id": "7cdfe424",
   "metadata": {},
   "source": [
    " \n",
    "\n",
    "4) 프로그래밍 언어\n",
    "* 프로그래밍 언어: C, C++, Java, Python 등\n",
    "* 알고리즘을 가장 정확하게 기술 가능\n",
    "* 실제 구현 시의 구체적 사항들이 핵심적 내용에 대한 이해를 방해 가능"
   ]
  },
  {
   "attachments": {},
   "cell_type": "markdown",
   "id": "e5353b2a",
   "metadata": {},
   "source": [
    "![](https://img1.daumcdn.net/thumb/R1280x0/?scode=mtistory2&fname=https%3A%2F%2Fblog.kakaocdn.net%2Fdn%2Fnwbjj%2FbtrwrGXslJF%2F2CHieaAiDQenId5cOepAV1%2Fimg.png)"
   ]
  },
  {
   "attachments": {},
   "cell_type": "markdown",
   "id": "2c4586b6",
   "metadata": {},
   "source": [
    "### ================================="
   ]
  },
  {
   "attachments": {},
   "cell_type": "markdown",
   "id": "13c0eb35",
   "metadata": {},
   "source": [
    "#### 알고리즘을 배우는 이유?"
   ]
  },
  {
   "attachments": {},
   "cell_type": "markdown",
   "id": "850e8c85",
   "metadata": {},
   "source": [
    "알고리즘을 배우는 이유는 학교에서 수학을 배우는 이유와 비슷합니다. <br>\n",
    "우리가 학교에서 수학을 배우면 모두가 수학자가 되나요? 그렇지 않죠. <br>\n",
    "꼭 수학자가 되기 위해 수학을 배우는 게 아니듯, 코딩도 개발자가 되고 싶을 때만 배우는 것이 아닙니다. <br>\n",
    "수학을 배우는 이유는 수학적 사고력을 기르기 위함이 가장 클 것입니다.<br>\n",
    "\n",
    "수학을 배워 수학적 사고력을 기를 수 있듯이 코딩을 배우면 사고의 논리력과 문제해결능력 등을 기를 수 있습니다."
   ]
  },
  {
   "attachments": {},
   "cell_type": "markdown",
   "id": "27272089",
   "metadata": {},
   "source": [
    "### 수업2: 파이썬 설치 및 환경설정\n",
    "\n",
    "교재 27페이지\n",
    "\n",
    "혹은 https://wikidocs.net/8"
   ]
  },
  {
   "attachments": {},
   "cell_type": "markdown",
   "id": "b0c421b4",
   "metadata": {},
   "source": [
    "### Python versions"
   ]
  },
  {
   "attachments": {},
   "cell_type": "markdown",
   "id": "75ab38e2",
   "metadata": {},
   "source": [
    "For this class all code will use **Python 3.9**\n",
    "\n",
    "You can check your Python version at the command line by running `python --version`."
   ]
  },
  {
   "attachments": {},
   "cell_type": "markdown",
   "id": "fdb82388",
   "metadata": {},
   "source": [
    "### ================================="
   ]
  },
  {
   "attachments": {},
   "cell_type": "markdown",
   "id": "57b87266",
   "metadata": {},
   "source": [
    "### 수업3: 파이썬 기본개념\n",
    "\n",
    "교재 29페이지\n",
    "\n",
    "혹은 https://wikidocs.net/9"
   ]
  },
  {
   "attachments": {},
   "cell_type": "markdown",
   "id": "43c64de9",
   "metadata": {},
   "source": []
  },
  {
   "cell_type": "code",
   "execution_count": 16,
   "id": "629da6a2",
   "metadata": {
    "vscode": {
     "languageId": "python"
    }
   },
   "outputs": [
    {
     "data": {
      "text/plain": [
       "float"
      ]
     },
     "execution_count": 16,
     "metadata": {},
     "output_type": "execute_result"
    }
   ],
   "source": [
    "2*3\n",
    "2/3\n",
    "2+3\n",
    "2-3\n",
    "a = 2.2**3\n",
    "type(a)"
   ]
  },
  {
   "cell_type": "code",
   "execution_count": 21,
   "id": "7e49cefb",
   "metadata": {
    "vscode": {
     "languageId": "python"
    }
   },
   "outputs": [
    {
     "name": "stdout",
     "output_type": "stream",
     "text": [
      "cc\n"
     ]
    }
   ],
   "source": [
    "a = 70\n",
    "if a <50:\n",
    "    print(\"aa\")\n",
    "elif a < 100:\n",
    "    print(\"cc\")\n",
    "else:\n",
    "    print(\"bb\")"
   ]
  },
  {
   "cell_type": "code",
   "execution_count": 23,
   "id": "0828120e",
   "metadata": {
    "vscode": {
     "languageId": "python"
    }
   },
   "outputs": [
    {
     "name": "stdout",
     "output_type": "stream",
     "text": [
      "5\n",
      "2\n",
      "3\n"
     ]
    }
   ],
   "source": [
    "for a in [5,2,3]:\n",
    "    print(a)"
   ]
  },
  {
   "cell_type": "code",
   "execution_count": 28,
   "id": "e4355261",
   "metadata": {
    "vscode": {
     "languageId": "python"
    }
   },
   "outputs": [
    {
     "name": "stdout",
     "output_type": "stream",
     "text": [
      "1\n",
      "2\n",
      "3\n"
     ]
    }
   ],
   "source": [
    "i = 0\n",
    "while i < 3:\n",
    "    i += 1\n",
    "    print(i)"
   ]
  },
  {
   "cell_type": "code",
   "execution_count": 29,
   "id": "cd02e4f3",
   "metadata": {
    "vscode": {
     "languageId": "python"
    }
   },
   "outputs": [],
   "source": [
    "def add(a, b):\n",
    "    return a + b\n",
    "\n",
    " "
   ]
  },
  {
   "cell_type": "code",
   "execution_count": 30,
   "id": "d2ee466f",
   "metadata": {
    "vscode": {
     "languageId": "python"
    }
   },
   "outputs": [
    {
     "data": {
      "text/plain": [
       "3"
      ]
     },
     "execution_count": 30,
     "metadata": {},
     "output_type": "execute_result"
    }
   ],
   "source": [
    "add(1,2)"
   ]
  },
  {
   "cell_type": "code",
   "execution_count": 31,
   "id": "2f1f9b76",
   "metadata": {
    "vscode": {
     "languageId": "python"
    }
   },
   "outputs": [
    {
     "data": {
      "text/plain": [
       "101"
      ]
     },
     "execution_count": 31,
     "metadata": {},
     "output_type": "execute_result"
    }
   ],
   "source": [
    "add(1,100)"
   ]
  },
  {
   "cell_type": "code",
   "execution_count": 43,
   "id": "8cdfa270",
   "metadata": {
    "vscode": {
     "languageId": "python"
    }
   },
   "outputs": [],
   "source": [
    "def sub(a, b):\n",
    "    a = a ** 2\n",
    "    result = a - b\n",
    "    return result"
   ]
  },
  {
   "cell_type": "code",
   "execution_count": 44,
   "id": "9f600263",
   "metadata": {
    "vscode": {
     "languageId": "python"
    }
   },
   "outputs": [
    {
     "data": {
      "text/plain": [
       "14"
      ]
     },
     "execution_count": 44,
     "metadata": {},
     "output_type": "execute_result"
    }
   ],
   "source": [
    "cc = sub(3, 2)\n",
    "cc+cc"
   ]
  }
 ],
 "metadata": {
  "kernelspec": {
   "display_name": "Python 3 (ipykernel)",
   "language": "python",
   "name": "python3"
  }
 },
 "nbformat": 4,
 "nbformat_minor": 5
}
