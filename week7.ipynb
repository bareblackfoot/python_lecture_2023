{
 "cells": [
  {
   "attachments": {},
   "cell_type": "markdown",
   "id": "23d34826",
   "metadata": {},
   "source": [
    "# 7주차: 라이브러리 소개"
   ]
  },
  {
   "attachments": {},
   "cell_type": "markdown",
   "id": "c8203478",
   "metadata": {},
   "source": [
    "### * 오늘의 커리큘럼 *\n",
    "\n",
    "#### 수업1: NumPy\n",
    "- NumPy 소개\n",
    "- 예제\n",
    "\n",
    "#### 수업2: Matplotlib\n",
    "- Matplotlib 소개\n",
    "- 예제"
   ]
  },
  {
   "attachments": {},
   "cell_type": "markdown",
   "id": "8128a224",
   "metadata": {},
   "source": [
    "### ================================="
   ]
  },
  {
   "attachments": {},
   "cell_type": "markdown",
   "id": "db8d7a62",
   "metadata": {},
   "source": [
    "### 수업1: Numpy"
   ]
  },
  {
   "attachments": {},
   "cell_type": "markdown",
   "id": "bb9d8aba",
   "metadata": {},
   "source": [
    "Numpy는 파이썬의 과학 컴퓨팅을 위한 핵심 라이브러리입니다. 고성능 다차원 배열 객체와 이러한 배열로 작업할 수 있는 도구를 제공합니다. MATLAB에 이미 익숙하다면 이 [튜토리얼](http://wiki.scipy.org/NumPy_for_Matlab_Users)이 Numpy를 시작하는 데 유용할 수 있습니다."
   ]
  },
  {
   "attachments": {},
   "cell_type": "markdown",
   "id": "d517fcd4",
   "metadata": {},
   "source": [
    "Numpy를 사용하려면 먼저 `numpy` 패키지를 임포트해야 합니다:"
   ]
  },
  {
   "cell_type": "code",
   "execution_count": 1,
   "id": "4a8e43f3",
   "metadata": {},
   "outputs": [],
   "source": [
    "import numpy as np"
   ]
  },
  {
   "attachments": {},
   "cell_type": "markdown",
   "id": "296e3175",
   "metadata": {},
   "source": [
    "### Arrays"
   ]
  },
  {
   "attachments": {},
   "cell_type": "markdown",
   "id": "4cecfcad",
   "metadata": {},
   "source": [
    "배열은 모두 같은 유형의 값 그리드이며 음수가 아닌 정수의 튜플로 인덱싱됩니다. 차원 수는 배열의 순위를 나타내며, 배열의 모양은 각 차원에 따른 배열의 크기를 나타내는 정수 튜플입니다."
   ]
  },
  {
   "attachments": {},
   "cell_type": "markdown",
   "id": "9c642922",
   "metadata": {},
   "source": [
    "중첩된 파이썬 목록에서 널 배열을 초기화하고 대괄호를 사용하여 요소에 액세스할 수 있습니다:"
   ]
  },
  {
   "cell_type": "code",
   "execution_count": 2,
   "id": "e6688e96",
   "metadata": {},
   "outputs": [
    {
     "name": "stdout",
     "output_type": "stream",
     "text": [
      "<class 'numpy.ndarray'> (3,) 1 2 3\n",
      "[5 2 3]\n"
     ]
    }
   ],
   "source": [
    "a = np.array([1, 2, 3])  # Create a rank 1 array\n",
    "print(type(a), a.shape, a[0], a[1], a[2])\n",
    "a[0] = 5                 # Change an element of the array\n",
    "print(a)                  "
   ]
  },
  {
   "cell_type": "code",
   "execution_count": 7,
   "id": "6c42a2e5",
   "metadata": {},
   "outputs": [
    {
     "name": "stdout",
     "output_type": "stream",
     "text": [
      "[[1 2 3]\n",
      " [4 5 6]]\n",
      "2\n"
     ]
    }
   ],
   "source": [
    "b = np.array([[1,2,3],[4,5,6]])   # Create a rank 2 array\n",
    "print(b)\n",
    "print(b[0][1]) # 32 * 3 * 256 * 256"
   ]
  },
  {
   "cell_type": "code",
   "execution_count": 8,
   "id": "e4335458",
   "metadata": {},
   "outputs": [
    {
     "name": "stdout",
     "output_type": "stream",
     "text": [
      "(2, 3)\n",
      "1 2 4\n"
     ]
    }
   ],
   "source": [
    "print(b.shape)                   \n",
    "print(b[0, 0], b[0, 1], b[1, 0])"
   ]
  },
  {
   "attachments": {},
   "cell_type": "markdown",
   "id": "1232abaf",
   "metadata": {},
   "source": [
    "Numpy는 배열을 생성하는 다양한 함수도 제공합니다:"
   ]
  },
  {
   "cell_type": "code",
   "execution_count": 9,
   "id": "56afd90b",
   "metadata": {},
   "outputs": [
    {
     "name": "stdout",
     "output_type": "stream",
     "text": [
      "[[0. 0.]\n",
      " [0. 0.]]\n"
     ]
    }
   ],
   "source": [
    "a = np.zeros((2,2))  # Create an array of all zeros\n",
    "print(a)"
   ]
  },
  {
   "cell_type": "code",
   "execution_count": 16,
   "id": "9dd06baa",
   "metadata": {},
   "outputs": [
    {
     "name": "stdout",
     "output_type": "stream",
     "text": [
      "[[7 7]\n",
      " [7 7]]\n"
     ]
    }
   ],
   "source": [
    "b = np.ones((2,2)).astype(np.int32) *7# Create an array of all ones\n",
    "print(b)"
   ]
  },
  {
   "cell_type": "code",
   "execution_count": 11,
   "id": "093f4cbb",
   "metadata": {},
   "outputs": [
    {
     "name": "stdout",
     "output_type": "stream",
     "text": [
      "[[7 7]\n",
      " [7 7]]\n"
     ]
    }
   ],
   "source": [
    "c = np.full((2,2), 7) # Create a constant array\n",
    "print(c)"
   ]
  },
  {
   "cell_type": "code",
   "execution_count": 2,
   "id": "5e266ce4",
   "metadata": {},
   "outputs": [
    {
     "data": {
      "text/plain": [
       "array([[1., 0., 0., 0., 0., 0., 0., 0., 0., 0.],\n",
       "       [0., 1., 0., 0., 0., 0., 0., 0., 0., 0.],\n",
       "       [0., 0., 1., 0., 0., 0., 0., 0., 0., 0.],\n",
       "       [0., 0., 0., 1., 0., 0., 0., 0., 0., 0.],\n",
       "       [0., 0., 0., 0., 1., 0., 0., 0., 0., 0.],\n",
       "       [0., 0., 0., 0., 0., 1., 0., 0., 0., 0.],\n",
       "       [0., 0., 0., 0., 0., 0., 1., 0., 0., 0.],\n",
       "       [0., 0., 0., 0., 0., 0., 0., 1., 0., 0.],\n",
       "       [0., 0., 0., 0., 0., 0., 0., 0., 1., 0.],\n",
       "       [0., 0., 0., 0., 0., 0., 0., 0., 0., 1.]])"
      ]
     },
     "execution_count": 2,
     "metadata": {},
     "output_type": "execute_result"
    }
   ],
   "source": [
    "np.eye(10)"
   ]
  },
  {
   "cell_type": "code",
   "execution_count": 31,
   "id": "d4bd7757",
   "metadata": {
    "scrolled": true
   },
   "outputs": [
    {
     "name": "stdout",
     "output_type": "stream",
     "text": [
      "[[0. 0. 0. 1. 0. 0. 0. 0. 0. 0.]\n",
      " [0. 0. 0. 0. 1. 0. 0. 0. 0. 0.]\n",
      " [0. 0. 0. 0. 0. 0. 0. 0. 0. 1.]]\n"
     ]
    }
   ],
   "source": [
    "d = np.eye(10)[np.array([3,4,9])]        # Create a 2x2 identity matrix\n",
    "print(d)"
   ]
  },
  {
   "cell_type": "code",
   "execution_count": 3,
   "id": "37dcc5bf",
   "metadata": {},
   "outputs": [
    {
     "name": "stdout",
     "output_type": "stream",
     "text": [
      "[[0.8112865  0.0090009 ]\n",
      " [0.87414347 0.88316391]]\n"
     ]
    }
   ],
   "source": [
    "e = np.random.random((2,2)) # Create an array filled with random values\n",
    "print(e)"
   ]
  },
  {
   "attachments": {},
   "cell_type": "markdown",
   "id": "bbcd82cd",
   "metadata": {},
   "source": [
    "### Array indexing"
   ]
  },
  {
   "attachments": {},
   "cell_type": "markdown",
   "id": "244d5a6e",
   "metadata": {},
   "source": [
    "Numpy는 배열로 인덱싱하는 여러 가지 방법을 제공합니다. \n",
    "\n",
    "슬라이싱: 파이썬 리스트와 유사하게, numpy 배열도 슬라이스할 수 있습니다. 배열은 다차원일 수 있으므로 배열의 각 차원에 대해 슬라이스를 지정해야 합니다:"
   ]
  },
  {
   "cell_type": "code",
   "execution_count": 33,
   "id": "23e01f62",
   "metadata": {},
   "outputs": [
    {
     "name": "stdout",
     "output_type": "stream",
     "text": [
      "[[2 3]\n",
      " [6 7]]\n"
     ]
    }
   ],
   "source": [
    "import numpy as np\n",
    "\n",
    "# Create the following rank 2 array with shape (3, 4)\n",
    "# [[ 1  2  3  4]\n",
    "#  [ 5  6  7  8]\n",
    "#  [ 9 10 11 12]]\n",
    "a = np.array([[1,2,3,4], [5,6,7,8], [9,10,11,12]])\n",
    "\n",
    "# Use slicing to pull out the sub-array consisting of the first 2 rows\n",
    "# and columns 1 and 2; b is the following array of shape (2, 2):\n",
    "# [[2 3]\n",
    "#  [6 7]]\n",
    "b = a[:2, 1:3]\n",
    "print(b)"
   ]
  },
  {
   "attachments": {},
   "cell_type": "markdown",
   "id": "7df9ad72",
   "metadata": {},
   "source": [
    "배열의 슬라이스는 동일한 데이터에 대한 보기이므로 이를 수정하면 원래 배열이 수정됩니다."
   ]
  },
  {
   "cell_type": "code",
   "execution_count": 34,
   "id": "eb1970cf",
   "metadata": {},
   "outputs": [
    {
     "name": "stdout",
     "output_type": "stream",
     "text": [
      "2\n",
      "77\n"
     ]
    }
   ],
   "source": [
    "print(a[0, 1])\n",
    "b[0, 0] = 77    # b[0, 0] is the same piece of data as a[0, 1]\n",
    "print(a[0, 1])"
   ]
  },
  {
   "cell_type": "code",
   "execution_count": 35,
   "id": "85075656",
   "metadata": {},
   "outputs": [
    {
     "name": "stdout",
     "output_type": "stream",
     "text": [
      "77\n",
      "77\n"
     ]
    }
   ],
   "source": [
    "print(a[0, 1])  \n",
    "b = a[:2, 1:3].copy()\n",
    "b[0, 0] = 90 \n",
    "print(a[0, 1]) "
   ]
  },
  {
   "attachments": {},
   "cell_type": "markdown",
   "id": "c7cf59bf",
   "metadata": {},
   "source": [
    "정수 인덱싱과 슬라이스 인덱싱을 혼합할 수도 있습니다. 그러나 이렇게 하면 원래 배열보다 낮은 순위의 배열이 생성됩니다. 이는 MATLAB에서 배열 슬라이싱을 처리하는 방식과는 상당히 다르다는 점에 유의하세요:"
   ]
  },
  {
   "cell_type": "code",
   "execution_count": 36,
   "id": "8329fd6f",
   "metadata": {},
   "outputs": [
    {
     "name": "stdout",
     "output_type": "stream",
     "text": [
      "[[ 1  2  3  4]\n",
      " [ 5  6  7  8]\n",
      " [ 9 10 11 12]]\n"
     ]
    }
   ],
   "source": [
    "# Create the following rank 2 array with shape (3, 4)\n",
    "a = np.array([[1,2,3,4], [5,6,7,8], [9,10,11,12]])\n",
    "print(a)"
   ]
  },
  {
   "attachments": {},
   "cell_type": "markdown",
   "id": "30746ab5",
   "metadata": {},
   "source": [
    "배열의 중간 행에 있는 데이터에 액세스하는 두 가지 방법이 있습니다.\n",
    "정수 인덱싱과 슬라이스를 혼합하면 더 낮은 순위의 배열이 생성됩니다,\n",
    "슬라이스만 사용하면 원래 배열과 동일한 순위의 배열이 생성됩니다.\n",
    "배열이 생성됩니다:"
   ]
  },
  {
   "cell_type": "code",
   "execution_count": 37,
   "id": "7396223b",
   "metadata": {},
   "outputs": [
    {
     "name": "stdout",
     "output_type": "stream",
     "text": [
      "[5 6 7 8] (4,)\n",
      "[[5 6 7 8]] (1, 4)\n",
      "[[5 6 7 8]] (1, 4)\n"
     ]
    }
   ],
   "source": [
    "row_r1 = a[1, :]    # Rank 1 view of the second row of a  \n",
    "row_r2 = a[1:2, :]  # Rank 2 view of the second row of a\n",
    "row_r3 = a[[1], :]  # Rank 2 view of the second row of a\n",
    "print(row_r1, row_r1.shape) \n",
    "print(row_r2, row_r2.shape)\n",
    "print(row_r3, row_r3.shape)"
   ]
  },
  {
   "cell_type": "code",
   "execution_count": 38,
   "id": "a67ad8d1",
   "metadata": {},
   "outputs": [
    {
     "name": "stdout",
     "output_type": "stream",
     "text": [
      "[ 2  6 10] (3,)\n",
      "\n",
      "[[ 2]\n",
      " [ 6]\n",
      " [10]] (3, 1)\n"
     ]
    }
   ],
   "source": [
    "# We can make the same distinction when accessing columns of an array:\n",
    "col_r1 = a[:, 1]\n",
    "col_r2 = a[:, 1:2]\n",
    "print(col_r1, col_r1.shape)\n",
    "print()\n",
    "print(col_r2, col_r2.shape)"
   ]
  },
  {
   "attachments": {},
   "cell_type": "markdown",
   "id": "e54abfd5",
   "metadata": {},
   "source": [
    "정수 배열 인덱싱: 슬라이싱을 사용하여 정수 배열로 인덱싱하면 결과 배열 보기는 항상 원래 배열의 하위 배열이 됩니다. 이와 대조적으로 정수 배열 인덱싱을 사용하면 다른 배열의 데이터를 사용하여 임의의 배열을 구성할 수 있습니다. 다음은 예시입니다:"
   ]
  },
  {
   "cell_type": "code",
   "execution_count": 39,
   "id": "d53a2cbb",
   "metadata": {},
   "outputs": [
    {
     "name": "stdout",
     "output_type": "stream",
     "text": [
      "[1 4 5]\n",
      "[1 4 5]\n"
     ]
    }
   ],
   "source": [
    "a = np.array([[1,2], [3, 4], [5, 6]])\n",
    "# An example of integer array indexing.\n",
    "# The returned array will have shape (3,) and \n",
    "print(a[[0, 1, 2], \n",
    "        [0, 1, 0]])\n",
    "# The above example of integer array indexing is equivalent to this:\n",
    "print(np.array([a[0, 0], a[1, 1], a[2, 0]]))"
   ]
  },
  {
   "cell_type": "code",
   "execution_count": 40,
   "id": "e20a153f",
   "metadata": {},
   "outputs": [
    {
     "name": "stdout",
     "output_type": "stream",
     "text": [
      "[2 2]\n",
      "[2 2]\n"
     ]
    }
   ],
   "source": [
    "# When using integer array indexing, you can reuse the same\n",
    "# element from the source array:\n",
    "print(a[[0, 0], [1, 1]])\n",
    "\n",
    "# Equivalent to the previous integer array indexing example\n",
    "print(np.array([a[0, 1], a[0, 1]]))"
   ]
  },
  {
   "attachments": {},
   "cell_type": "markdown",
   "id": "221b5f6a",
   "metadata": {},
   "source": [
    "정수 배열 인덱싱의 유용한 트릭 중 하나는 행렬의 각 행에서 하나의 요소를 선택하거나 변경하는 것입니다:"
   ]
  },
  {
   "cell_type": "code",
   "execution_count": 41,
   "id": "e0796565",
   "metadata": {},
   "outputs": [
    {
     "name": "stdout",
     "output_type": "stream",
     "text": [
      "[[ 1  2  3]\n",
      " [ 4  5  6]\n",
      " [ 7  8  9]\n",
      " [10 11 12]]\n"
     ]
    }
   ],
   "source": [
    "# Create a new array from which we will select elements\n",
    "a = np.array([[1,2,3], \n",
    "              [4,5,6], \n",
    "              [7,8,9], \n",
    "              [10, 11, 12]])\n",
    "print(a)"
   ]
  },
  {
   "cell_type": "code",
   "execution_count": 42,
   "id": "9f18bc16",
   "metadata": {},
   "outputs": [
    {
     "name": "stdout",
     "output_type": "stream",
     "text": [
      "[ 1  6  7 11]\n"
     ]
    }
   ],
   "source": [
    "# Create an array of indices\n",
    "b = np.array([0, 2, 0, 1])\n",
    "\n",
    "# Select one element from each row of a using the indices in b\n",
    "print(a[np.arange(4), b])  # Prints \"[ 1  6  7 11]\""
   ]
  },
  {
   "cell_type": "code",
   "execution_count": 43,
   "id": "7b161c2e",
   "metadata": {},
   "outputs": [
    {
     "name": "stdout",
     "output_type": "stream",
     "text": [
      "[[11  2  3]\n",
      " [ 4  5 16]\n",
      " [17  8  9]\n",
      " [10 21 12]]\n"
     ]
    }
   ],
   "source": [
    "# Mutate one element from each row of a using the indices in b\n",
    "a[np.arange(4), b] += 10\n",
    "print(a)"
   ]
  },
  {
   "attachments": {},
   "cell_type": "markdown",
   "id": "1c98d7f4",
   "metadata": {},
   "source": [
    "bool 배열 인덱싱: 부울 배열 인덱싱을 사용하면 배열의 임의의 요소를 선택할 수 있습니다. 이러한 유형의 인덱싱은 특정 조건을 만족하는 배열의 요소를 선택하는 데 자주 사용됩니다. 다음은 그 예입니다:"
   ]
  },
  {
   "cell_type": "code",
   "execution_count": 44,
   "id": "ac468d60",
   "metadata": {},
   "outputs": [
    {
     "name": "stdout",
     "output_type": "stream",
     "text": [
      "[[False False]\n",
      " [ True  True]\n",
      " [ True  True]]\n"
     ]
    }
   ],
   "source": [
    "import numpy as np\n",
    "\n",
    "a = np.array([[1,2], [3, 4], [5, 6]])\n",
    "\n",
    "bool_idx = (a > 2)  # Find the elements of a that are bigger than 2;\n",
    "                    # this returns a numpy array of Booleans of the same\n",
    "                    # shape as a, where each slot of bool_idx tells\n",
    "                    # whether that element of a is > 2.\n",
    "\n",
    "print(bool_idx)"
   ]
  },
  {
   "cell_type": "code",
   "execution_count": 45,
   "id": "db08fc6f",
   "metadata": {},
   "outputs": [
    {
     "name": "stdout",
     "output_type": "stream",
     "text": [
      "[3 4 5 6]\n",
      "[3 4 5 6]\n"
     ]
    }
   ],
   "source": [
    "# We use boolean array indexing to construct a rank 1 array\n",
    "# consisting of the elements of a corresponding to the True values\n",
    "# of bool_idx\n",
    "print(a[bool_idx])\n",
    "\n",
    "# We can do all of the above in a single concise statement:\n",
    "print(a[a > 2])"
   ]
  },
  {
   "attachments": {},
   "cell_type": "markdown",
   "id": "4770d66a",
   "metadata": {},
   "source": [
    "배열 인덱싱에 대한 자세한 내용은 생략했으며, 자세한 내용을 알고 싶으시면 문서를 읽어보시기 바랍니다."
   ]
  },
  {
   "attachments": {},
   "cell_type": "markdown",
   "id": "40bc4025",
   "metadata": {},
   "source": [
    "### Datatypes"
   ]
  },
  {
   "attachments": {},
   "cell_type": "markdown",
   "id": "b5a961c7",
   "metadata": {},
   "source": [
    "모든 배열은 같은 유형의 요소로 구성된 그리드입니다. Numpy는 배열을 구성하는 데 사용할 수 있는 대규모 숫자 데이터 타입 집합을 제공합니다. Numpy는 배열을 만들 때 데이터형을 추측하려고 시도하지만, 배열을 만드는 함수에는 일반적으로 데이터형을 명시적으로 지정하는 선택적 인수가 포함됩니다. 다음은 그 예입니다:"
   ]
  },
  {
   "cell_type": "code",
   "execution_count": 46,
   "id": "c530e903",
   "metadata": {},
   "outputs": [
    {
     "name": "stdout",
     "output_type": "stream",
     "text": [
      "int64 float64 int64\n"
     ]
    }
   ],
   "source": [
    "x = np.array([1, 2])  # Let numpy choose the datatype\n",
    "y = np.array([1.0, 2.0])  # Let numpy choose the datatype\n",
    "z = np.array([1, 2], dtype=np.int64)  # Force a particular datatype\n",
    "\n",
    "print(x.dtype, y.dtype, z.dtype)"
   ]
  },
  {
   "attachments": {},
   "cell_type": "markdown",
   "id": "7ae0e085",
   "metadata": {},
   "source": [
    "널파이 데이터 유형에 대한 자세한 내용은 [문서](http://docs.scipy.org/doc/numpy/reference/arrays.dtypes.html)에서 확인할 수 있습니다."
   ]
  },
  {
   "attachments": {},
   "cell_type": "markdown",
   "id": "59701af8",
   "metadata": {},
   "source": [
    "### Array math"
   ]
  },
  {
   "attachments": {},
   "cell_type": "markdown",
   "id": "c2e5667a",
   "metadata": {},
   "source": [
    "기본 수학 함수는 배열에서 요소 단위로 작동하며 연산자 오버로드와 널파이 모듈의 함수로 모두 사용할 수 있습니다:"
   ]
  },
  {
   "cell_type": "code",
   "execution_count": 47,
   "id": "0f96b478",
   "metadata": {},
   "outputs": [
    {
     "name": "stdout",
     "output_type": "stream",
     "text": [
      "[[ 6.  8.]\n",
      " [10. 12.]]\n",
      "[[ 6.  8.]\n",
      " [10. 12.]]\n"
     ]
    }
   ],
   "source": [
    "x = np.array([[1,2],[3,4]], dtype=np.float64)\n",
    "y = np.array([[5,6],[7,8]], dtype=np.float64)\n",
    "\n",
    "# Elementwise sum; both produce the array\n",
    "print(x + y)\n",
    "print(np.add(x, y))"
   ]
  },
  {
   "cell_type": "code",
   "execution_count": 48,
   "id": "a8868638",
   "metadata": {},
   "outputs": [
    {
     "name": "stdout",
     "output_type": "stream",
     "text": [
      "[[-4. -4.]\n",
      " [-4. -4.]]\n",
      "[[-4. -4.]\n",
      " [-4. -4.]]\n"
     ]
    }
   ],
   "source": [
    "# Elementwise difference; both produce the array\n",
    "print(x - y)\n",
    "print(np.subtract(x, y))"
   ]
  },
  {
   "cell_type": "code",
   "execution_count": 57,
   "id": "d1fa9ea2",
   "metadata": {},
   "outputs": [
    {
     "name": "stdout",
     "output_type": "stream",
     "text": [
      "[[ 5. 12.]\n",
      " [21. 32.]]\n",
      "0.0002677440643310547\n",
      "[[ 5. 12.]\n",
      " [21. 32.]]\n",
      "0.000179290771484375\n"
     ]
    }
   ],
   "source": [
    "# Elementwise product; both produce the array\n",
    "import time\n",
    "a = time.time()\n",
    "print(x * y)\n",
    "b = time.time()\n",
    "print(b-a)\n",
    "c = time.time()\n",
    "print(np.multiply(x, y))\n",
    "d = time.time()\n",
    "print(d-c)"
   ]
  },
  {
   "cell_type": "code",
   "execution_count": 58,
   "id": "9e1cf7da",
   "metadata": {},
   "outputs": [
    {
     "name": "stdout",
     "output_type": "stream",
     "text": [
      "[[0.2        0.33333333]\n",
      " [0.42857143 0.5       ]]\n",
      "[[0.2        0.33333333]\n",
      " [0.42857143 0.5       ]]\n"
     ]
    }
   ],
   "source": [
    "# Elementwise division; both produce the array\n",
    "# [[ 0.2         0.33333333]\n",
    "#  [ 0.42857143  0.5       ]]\n",
    "print(x / y)\n",
    "print(np.divide(x, y))"
   ]
  },
  {
   "cell_type": "code",
   "execution_count": 62,
   "id": "31541d15",
   "metadata": {},
   "outputs": [
    {
     "name": "stdout",
     "output_type": "stream",
     "text": [
      "[[1.         1.41421356]\n",
      " [1.73205081 2.        ]]\n",
      "[[1.         1.41421356]\n",
      " [1.73205081 2.        ]]\n"
     ]
    }
   ],
   "source": [
    "# Elementwise square root; produces the array\n",
    "# [[ 1.          1.41421356]\n",
    "#  [ 1.73205081  2.        ]]\n",
    "print(np.sqrt(x))\n",
    "print(np.power(x, 0.5))\n",
    "x**2"
   ]
  },
  {
   "attachments": {},
   "cell_type": "markdown",
   "id": "f5f96e9e",
   "metadata": {},
   "source": [
    "MATLAB과 달리 `*`는 행렬 곱셈이 아닌 요소 곱셈이라는 점에 유의하세요. 대신 점 함수를 사용하여 벡터의 내적 곱을 계산하고, 벡터에 행렬을 곱하고, 행렬을 곱합니다. 점 함수는 numpy 모듈의 함수와 배열 객체의 인스턴스 메서드로 모두 사용할 수 있습니다:"
   ]
  },
  {
   "cell_type": "code",
   "execution_count": 81,
   "id": "1d7cbc4d",
   "metadata": {},
   "outputs": [
    {
     "name": "stdout",
     "output_type": "stream",
     "text": [
      "219\n",
      "219\n"
     ]
    },
    {
     "data": {
      "text/plain": [
       "219"
      ]
     },
     "execution_count": 81,
     "metadata": {},
     "output_type": "execute_result"
    }
   ],
   "source": [
    "x = np.array([[1,2],[3,4]])\n",
    "y = np.array([[5,6],[7,8]])\n",
    "\n",
    "v = np.array([9,10])\n",
    "w = np.array([11, 12])\n",
    "a = w.T\n",
    "b = np.dot(v, a)\n",
    "v @ a\n",
    "# Inner product of vectors; both produce 219\n",
    "print(v.dot(w))\n",
    "print(np.dot(v, w))\n",
    "np.sum(v * w.T) # (1,2) * (2,1)"
   ]
  },
  {
   "cell_type": "code",
   "execution_count": 71,
   "id": "5dd019e7",
   "metadata": {},
   "outputs": [
    {
     "name": "stdout",
     "output_type": "stream",
     "text": [
      "[29 67]\n",
      "[29 67]\n"
     ]
    }
   ],
   "source": [
    "# Matrix / vector product; both produce the rank 1 array [29 67]\n",
    "print(x.dot(v))\n",
    "print(np.dot(x, v))\n",
    "# 1 * 9 + 2 * 10 , 3 * 9 + 4 * 10"
   ]
  },
  {
   "cell_type": "code",
   "execution_count": 85,
   "id": "ea48646b",
   "metadata": {},
   "outputs": [
    {
     "name": "stdout",
     "output_type": "stream",
     "text": [
      "[[19 22]\n",
      " [43 50]]\n",
      "[[19 22]\n",
      " [43 50]]\n"
     ]
    },
    {
     "data": {
      "text/plain": [
       "array([[19, 22],\n",
       "       [43, 50]])"
      ]
     },
     "execution_count": 85,
     "metadata": {},
     "output_type": "execute_result"
    }
   ],
   "source": [
    "# Matrix / matrix product; both produce the rank 2 array\n",
    "# [[19 22]\n",
    "#  [43 50]]\n",
    "print(x.dot(y))\n",
    "print(np.dot(x, y))\n",
    "np.matmul(x,y)"
   ]
  },
  {
   "attachments": {},
   "cell_type": "markdown",
   "id": "bec0e5b1",
   "metadata": {},
   "source": [
    "Numpy는 배열에서 연산을 수행하는 데 유용한 함수를 많이 제공하는데, 가장 유용한 함수 중 하나는 `sum`입니다:"
   ]
  },
  {
   "cell_type": "code",
   "execution_count": 86,
   "id": "b507eada",
   "metadata": {},
   "outputs": [
    {
     "name": "stdout",
     "output_type": "stream",
     "text": [
      "10\n",
      "[4 6]\n",
      "[3 7]\n"
     ]
    }
   ],
   "source": [
    "x = np.array([[1,2],\n",
    "              [3,4]])\n",
    "\n",
    "print(np.sum(x))  # Compute sum of all elements; prints \"10\"\n",
    "print(np.sum(x, axis=0))  # Compute sum of each column; prints \"[4 6]\"\n",
    "print(np.sum(x, axis=1))  # Compute sum of each row; prints \"[3 7]\""
   ]
  },
  {
   "attachments": {},
   "cell_type": "markdown",
   "id": "9974329f",
   "metadata": {},
   "source": [
    "[문서](http://docs.scipy.org/doc/numpy/reference/routines.math.html)에서 numpy가 제공하는 수학 함수의 전체 목록을 확인할 수 있습니다.\n",
    "\n",
    "배열을 사용해 수학 함수를 계산하는 것 외에도 배열의 데이터를 재구성하거나 다른 방식으로 조작해야 하는 경우가 종종 있습니다. 이러한 유형의 연산의 가장 간단한 예는 행렬을 바꾸는 것입니다. 행렬을 바꾸려면 배열 객체의 T 속성을 사용하기만 하면 됩니다:"
   ]
  },
  {
   "cell_type": "code",
   "execution_count": 87,
   "id": "df0e8900",
   "metadata": {
    "scrolled": true
   },
   "outputs": [
    {
     "name": "stdout",
     "output_type": "stream",
     "text": [
      "[[1 2]\n",
      " [3 4]]\n",
      "[[1 3]\n",
      " [2 4]]\n"
     ]
    }
   ],
   "source": [
    "print(x)\n",
    "print(x.T)"
   ]
  },
  {
   "cell_type": "code",
   "execution_count": 100,
   "id": "235ab0e8",
   "metadata": {},
   "outputs": [
    {
     "name": "stdout",
     "output_type": "stream",
     "text": [
      "(2, 3)\n",
      "[[1 2 3]\n",
      " [4 5 6]]\n",
      "[[1 4]\n",
      " [2 5]\n",
      " [3 6]]\n"
     ]
    }
   ],
   "source": [
    "v = np.array([1,2,3,4,5,6]).reshape(3, -1)\n",
    "v = np.array([1,2,3,4,5,6]).reshape(2,-1)\n",
    "print(v.shape)\n",
    "print(v) \n",
    "print(v.T)"
   ]
  },
  {
   "attachments": {},
   "cell_type": "markdown",
   "id": "110e4a8b",
   "metadata": {},
   "source": [
    "### Broadcasting"
   ]
  },
  {
   "attachments": {},
   "cell_type": "markdown",
   "id": "1f070285",
   "metadata": {},
   "source": [
    "브로드캐스팅은 산술 연산을 수행할 때 서로 다른 모양의 배열로 작업할 수 있는 강력한 메커니즘입니다. 작은 배열과 큰 배열이 있는 경우, 작은 배열을 여러 번 사용해 큰 배열에서 어떤 연산을 수행하고자 하는 경우가 종종 있습니다.\n",
    "\n",
    "예를 들어 행렬의 각 행에 상수 벡터를 추가하고 싶다고 가정해 보겠습니다. 다음과 같이 할 수 있습니다:"
   ]
  },
  {
   "cell_type": "code",
   "execution_count": 101,
   "id": "33bb91d7",
   "metadata": {},
   "outputs": [
    {
     "name": "stdout",
     "output_type": "stream",
     "text": [
      "(4, 3)\n",
      "(3,)\n",
      "(4, 3)\n",
      "[[ 2  2  4]\n",
      " [ 5  5  7]\n",
      " [ 8  8 10]\n",
      " [11 11 13]]\n"
     ]
    }
   ],
   "source": [
    "# We will add the vector v to each row of the matrix x,\n",
    "# storing the result in the matrix y\n",
    "x = np.array([[1,2,3], [4,5,6], [7,8,9], [10, 11, 12]])\n",
    "print(x.shape)\n",
    "\n",
    "v = np.array([1, 0, 1])\n",
    "print(v.shape)\n",
    "\n",
    "y = np.empty_like(x)   # Create an empty matrix with the same shape as x\n",
    "print(y.shape)\n",
    "\n",
    "# Add the vector v to each row of the matrix x with an explicit loop\n",
    "for i in range(4):\n",
    "    y[i, :] = x[i, :] + v\n",
    "\n",
    "print(y)"
   ]
  },
  {
   "attachments": {},
   "cell_type": "markdown",
   "id": "7e7fbce3",
   "metadata": {},
   "source": [
    "이 방법은 작동하지만 행렬 `x`가 매우 큰 경우 파이썬에서 명시적 루프를 계산하는 속도가 느려질 수 있습니다. 행렬 `x`의 각 행에 벡터 v를 추가하는 것은 `v`의 여러 복사본을 수직으로 쌓아 행렬 `vv`를 형성한 다음 `x`와 `vv`의 요소별 합계를 수행하는 것과 같습니다. 이 접근 방식을 다음과 같이 구현할 수 있습니다:"
   ]
  },
  {
   "cell_type": "code",
   "execution_count": 102,
   "id": "b6186666",
   "metadata": {},
   "outputs": [
    {
     "name": "stdout",
     "output_type": "stream",
     "text": [
      "[[1 0 1]\n",
      " [1 0 1]\n",
      " [1 0 1]\n",
      " [1 0 1]]\n",
      "(4, 3)\n"
     ]
    }
   ],
   "source": [
    "vv = np.tile(v, (4, 1))  # Stack 4 copies of v on top of each other\n",
    "print(vv)                # Prints \"[[1 0 1]\n",
    "print(vv.shape)          #          [1 0 1]\n",
    "                         #          [1 0 1]\n",
    "                         #          [1 0 1]]\""
   ]
  },
  {
   "cell_type": "code",
   "execution_count": 103,
   "id": "0af41c9c",
   "metadata": {},
   "outputs": [
    {
     "name": "stdout",
     "output_type": "stream",
     "text": [
      "[[ 2  2  4]\n",
      " [ 5  5  7]\n",
      " [ 8  8 10]\n",
      " [11 11 13]]\n"
     ]
    }
   ],
   "source": [
    "y = x + vv  # Add x and vv elementwise\n",
    "print(y)"
   ]
  },
  {
   "attachments": {},
   "cell_type": "markdown",
   "id": "0c460371",
   "metadata": {},
   "source": [
    "Numpy 브로드캐스팅을 사용하면 실제로 v의 복사본을 여러 개 만들지 않고도 이 계산을 수행할 수 있습니다."
   ]
  },
  {
   "cell_type": "code",
   "execution_count": 104,
   "id": "db68bf3b",
   "metadata": {},
   "outputs": [
    {
     "name": "stdout",
     "output_type": "stream",
     "text": [
      "[[ 2  2  4]\n",
      " [ 5  5  7]\n",
      " [ 8  8 10]\n",
      " [11 11 13]]\n"
     ]
    }
   ],
   "source": [
    "import numpy as np\n",
    "\n",
    "# We will add the vector v to each row of the matrix x,\n",
    "# storing the result in the matrix y\n",
    "x = np.array([[1,2,3], [4,5,6], [7,8,9], [10, 11, 12]])\n",
    "v = np.array([1, 0, 1])\n",
    "y = x + v  # Add v to each row of x using broadcasting\n",
    "print(y)"
   ]
  },
  {
   "attachments": {},
   "cell_type": "markdown",
   "id": "f5193384",
   "metadata": {},
   "source": [
    "방송으로 인해 `x`가 `(4, 3)`, `v`가 `(3,)` 모양을 가지더라도 `y = x + v`라는 선이 작동하는데, 이 선은 각 행이 `v`의 복사본이고 합이 요소 단위로 수행된 `v`가 실제로 `(4, 3)` 모양을 가진 것처럼 작동합니다.\n",
    "\n",
    "두 배열을 함께 브로드캐스트하는 것은 다음 규칙을 따릅니다:\n",
    "\n",
    "1. 배열의 순위가 같지 않으면 두 도형의 길이가 같아질 때까지 낮은 순위 배열의 도형에 1을 앞에 붙입니다.\n",
    "2. 두 배열이 차원 내에서 크기가 같거나 배열 중 하나가 해당 차원에서 크기가 1이면 두 배열이 차원 내에서 호환 가능하다고 합니다.\n",
    "3. 배열이 모든 차원에서 호환되는 경우 함께 브로드캐스트할 수 있습니다.\n",
    "4. 브로드캐스트 후 각 배열은 두 입력 배열의 요소별 최대 모양과 동일한 모양을 가진 것처럼 동작합니다.\n",
    "5. 한 배열의 크기가 1이고 다른 배열의 크기가 1보다 큰 모든 차원에서는 첫 번째 배열이 해당 차원을 따라 복사된 것처럼 동작합니다.\n",
    "\n",
    "이 설명이 이해가 되지 않는다면 [문서](http://docs.scipy.org/doc/numpy/user/basics.broadcasting.html) 또는 이 [설명](http://wiki.scipy.org/EricsBroadcastingDoc)에서 설명을 읽어보시기 바랍니다.\n",
    "\n",
    "방송을 지원하는 함수를 유니버설 함수라고 합니다. 유니버설 함수의 전체 목록은 [문서](http://docs.scipy.org/doc/numpy/reference/ufuncs.html#available-ufuncs)에서 확인할 수 있습니다.\n",
    "\n",
    "다음은 방송의 몇 가지 응용 프로그램입니다:"
   ]
  },
  {
   "cell_type": "code",
   "execution_count": 110,
   "id": "8f7ee26a",
   "metadata": {},
   "outputs": [
    {
     "name": "stdout",
     "output_type": "stream",
     "text": [
      "[[ 4  5]\n",
      " [ 8 10]\n",
      " [12 15]]\n",
      "[[ 4  5]\n",
      " [ 8 10]\n",
      " [12 15]]\n",
      "(3, 1)\n",
      "(1, 2)\n"
     ]
    }
   ],
   "source": [
    "# Compute outer product of vectors\n",
    "v = np.array([1,2,3])  # v has shape (3,)\n",
    "w = np.array([4,5])    # w has shape (2,)\n",
    "# To compute an outer product, we first reshape v to be a column\n",
    "# vector of shape (3, 1); we can then broadcast it against w to yield\n",
    "# an output of shape (3, 2), which is the outer product of v and w:\n",
    "\n",
    "# (3, 1) * (b, 2,)\n",
    "# (1, 3) * (a, 2,)\n",
    "print(np.reshape(v, (3, 1)) * w)\n",
    "# or...\n",
    "print(v[:,None]*w[None]) (3, 1) * (1, 2) ==> (3, 2)\n",
    "# see shapes\n",
    "print(v[:,None].shape)\n",
    "print(w[None].shape)"
   ]
  },
  {
   "cell_type": "code",
   "execution_count": 111,
   "id": "f56e0763",
   "metadata": {},
   "outputs": [
    {
     "name": "stdout",
     "output_type": "stream",
     "text": [
      "[[ 1  2  3]\n",
      " [ 4  5  6]\n",
      " [ 7  8  9]\n",
      " [10 11 12]]\n",
      "(4, 3)\n",
      "[1 2 3]\n",
      "(3,)\n",
      "[[2 4 6]\n",
      " [5 7 9]]\n"
     ]
    }
   ],
   "source": [
    "print(x)\n",
    "print(x.shape)\n",
    "print(v)\n",
    "print(v.shape)\n",
    "# Add a vector to each row of a matrix\n",
    "x = np.array([[1,2,3], [4,5,6]])\n",
    "# x has shape (2, 3) and v has shape (3,) so they broadcast to (2, 3),\n",
    "# giving the following matrix:\n",
    "\n",
    "print(x + v)"
   ]
  },
  {
   "cell_type": "code",
   "execution_count": null,
   "id": "ad4079d3",
   "metadata": {},
   "outputs": [],
   "source": [
    "print(x)\n",
    "print(x.shape)\n",
    "print(w)\n",
    "print(w.shape)\n",
    "\n",
    "# Add a vector to each column of a matrix\n",
    "# x has shape (2, 3) and w has shape (2,).\n",
    "# If we transpose x then it has shape (3, 2) and can be broadcast\n",
    "# against w to yield a result of shape (3, 2); transposing this result\n",
    "# yields the final result of shape (2, 3) which is the matrix x with\n",
    "# the vector w added to each column. Gives the following matrix:\n",
    "print((x.T + w).T)"
   ]
  },
  {
   "cell_type": "code",
   "execution_count": null,
   "id": "1ad7ff88",
   "metadata": {},
   "outputs": [],
   "source": [
    "# Another solution is to reshape w to be a row vector of shape (2, 1);\n",
    "# we can then broadcast it directly against x to produce the same\n",
    "# output.\n",
    "print(x + np.reshape(w, (2, 1)))"
   ]
  },
  {
   "cell_type": "code",
   "execution_count": null,
   "id": "fc430a13",
   "metadata": {},
   "outputs": [],
   "source": [
    "# Multiply a matrix by a constant:\n",
    "# x has shape (2, 3). Numpy treats scalars as arrays of shape ();\n",
    "# these can be broadcast together to shape (2, 3), producing the\n",
    "# following array:\n",
    "print(x * 2)"
   ]
  },
  {
   "attachments": {},
   "cell_type": "markdown",
   "id": "802ea70b",
   "metadata": {},
   "source": [
    "일반적으로 브로드캐스팅은 코드를 더 간결하고 빠르게 만들 수 있으므로 가능한 경우 브로드캐스팅을 사용하도록 노력해야 합니다.이 간략한 개요에서는 numpy에 대해 알아야 할 중요한 사항 중 많은 부분을 다루었지만 완전하지는 않습니다. numpy에 대해 더 자세히 알아보려면 [numpy 참조](http://docs.scipy.org/doc/numpy/reference/)를 확인하세요."
   ]
  },
  {
   "attachments": {},
   "cell_type": "markdown",
   "id": "67ecaa67",
   "metadata": {},
   "source": [
    "### 수업2: Matplotlib"
   ]
  },
  {
   "attachments": {},
   "cell_type": "markdown",
   "id": "f1e32169",
   "metadata": {},
   "source": [
    "Matplotlib은 플로팅 라이브러리입니다. 이 섹션에서는 MATLAB과 유사한 플로팅 시스템을 제공하는 `matplotlib.pyplot` 모듈에 대해 간략하게 소개합니다."
   ]
  },
  {
   "cell_type": "code",
   "execution_count": 112,
   "id": "1a607511",
   "metadata": {},
   "outputs": [],
   "source": [
    "import matplotlib.pyplot as plt"
   ]
  },
  {
   "attachments": {},
   "cell_type": "markdown",
   "id": "0f13a1f9",
   "metadata": {},
   "source": [
    "이 특별한 iPython 명령을 실행하면 플롯을 인라인으로 표시합니다:"
   ]
  },
  {
   "cell_type": "code",
   "execution_count": null,
   "id": "110d6d48",
   "metadata": {},
   "outputs": [],
   "source": [
    "%matplotlib inline"
   ]
  },
  {
   "attachments": {},
   "cell_type": "markdown",
   "id": "071ed5e3",
   "metadata": {},
   "source": [
    "### Plotting"
   ]
  },
  {
   "attachments": {},
   "cell_type": "markdown",
   "id": "896761a6",
   "metadata": {},
   "source": [
    "matplotlib`에서 가장 중요한 함수는 2D 데이터를 플롯할 수 있는 플롯(plot)입니다. 다음은 간단한 예제입니다:"
   ]
  },
  {
   "cell_type": "code",
   "execution_count": null,
   "id": "81d69355",
   "metadata": {},
   "outputs": [],
   "source": [
    "# Compute the x and y coordinates for points on a sine curve\n",
    "x = np.arange(0, 3 * np.pi, 0.1)\n",
    "y = np.sin(x)\n",
    "\n",
    "# Plot the points using matplotlib\n",
    "plt.plot(x, y)"
   ]
  },
  {
   "attachments": {},
   "cell_type": "markdown",
   "id": "acf41af6",
   "metadata": {},
   "source": [
    "약간의 추가 작업만으로 한 번에 여러 개의 선을 쉽게 그릴 수 있고 제목, 범례, 축 레이블을 추가할 수 있습니다:"
   ]
  },
  {
   "cell_type": "code",
   "execution_count": null,
   "id": "633ce11e",
   "metadata": {},
   "outputs": [],
   "source": [
    "y_sin = np.sin(x)\n",
    "y_cos = np.cos(x)\n",
    "\n",
    "# Plot the points using matplotlib\n",
    "plt.plot(x, y_sin)\n",
    "plt.plot(x, y_cos)\n",
    "plt.xlabel('x axis label')\n",
    "plt.ylabel('y axis label')\n",
    "plt.title('Sine and Cosine')\n",
    "plt.legend(['Sine', 'Cosine'])"
   ]
  },
  {
   "attachments": {},
   "cell_type": "markdown",
   "id": "d727eac8",
   "metadata": {},
   "source": [
    "### Subplots "
   ]
  },
  {
   "attachments": {},
   "cell_type": "markdown",
   "id": "b69be545",
   "metadata": {},
   "source": [
    "서브플롯 함수를 사용하여 같은 그림에 다른 것을 그릴 수 있습니다. 다음은 예시입니다:"
   ]
  },
  {
   "cell_type": "code",
   "execution_count": null,
   "id": "a4a0c1cc",
   "metadata": {},
   "outputs": [],
   "source": [
    "# Compute the x and y coordinates for points on sine and cosine curves\n",
    "x = np.arange(0, 3 * np.pi, 0.1)\n",
    "y_sin = np.sin(x)\n",
    "y_cos = np.cos(x)\n",
    "\n",
    "# Set up a subplot grid that has height 2 and width 1,\n",
    "# and set the first such subplot as active.\n",
    "plt.subplot(2, 1, 1)\n",
    "\n",
    "# Make the first plot\n",
    "plt.plot(x, y_sin)\n",
    "plt.title('Sine')\n",
    "\n",
    "# Set the second subplot as active, and make the second plot.\n",
    "plt.subplot(2, 1, 2)\n",
    "plt.plot(x, y_cos)\n",
    "plt.title('Cosine')\n",
    "\n",
    "# Show the figure.\n",
    "plt.show()"
   ]
  },
  {
   "attachments": {},
   "cell_type": "markdown",
   "id": "40823b05",
   "metadata": {},
   "source": [
    "서브플롯 함수에 대한 자세한 내용은 [문서](http://matplotlib.org/api/pyplot_api.html#matplotlib.pyplot.subplot)에서 확인할 수 있습니다."
   ]
  }
 ],
 "metadata": {
  "kernelspec": {
   "display_name": "Python 3 (ipykernel)",
   "language": "python",
   "name": "python3"
  }
 },
 "nbformat": 4,
 "nbformat_minor": 5
}
