{
 "cells": [
  {
   "attachments": {},
   "cell_type": "markdown",
   "id": "23d34826",
   "metadata": {},
   "source": [
    "# 6주차: 고급 파이썬 개념"
   ]
  },
  {
   "attachments": {},
   "cell_type": "markdown",
   "id": "c8203478",
   "metadata": {},
   "source": [
    "### * 오늘의 커리큘럼 *\n",
    "\n",
    "#### 수업1: 클로저와 제너레이터 \n",
    "- 데코레이터 이해하고 적용하기  \n",
    "\n",
    "#### 수업2: 이터레이터와 제너레이터 \n",
    "- 이터레이터 제너레이터 이해하기\n",
    "- 이터레이터 제너레이터 적용하기\n",
    "\n",
    "#### 수업3: 예외 처리 \n",
    "- 오류와 예외 이해하기  \n",
    "- try, except, else, finally 블록"
   ]
  },
  {
   "attachments": {},
   "cell_type": "markdown",
   "id": "8128a224",
   "metadata": {},
   "source": [
    "### ================================="
   ]
  },
  {
   "attachments": {},
   "cell_type": "markdown",
   "id": "57d270ae",
   "metadata": {},
   "source": [
    "### 수업1: 클로저와 데코레이터\n",
    "\n",
    "교재 332페이지\n",
    "\n",
    "혹은 https://wikidocs.net/184210\n"
   ]
  },
  {
   "cell_type": "code",
   "execution_count": 4,
   "id": "dc0342b1",
   "metadata": {},
   "outputs": [
    {
     "name": "stdout",
     "output_type": "stream",
     "text": [
      "30\n",
      "50\n"
     ]
    }
   ],
   "source": [
    "# closure.py\n",
    "class Mul:\n",
    "    def __init__(self, m):\n",
    "        self.m = m\n",
    "\n",
    "    def mul(self, n):\n",
    "        return self.m * n\n",
    "\n",
    "if __name__ == \"__main__\":\n",
    "    mul3 = Mul(3)\n",
    "    mul5 = Mul(5)\n",
    "\n",
    "    print(mul3.mul(10))  # 30 출력\n",
    "    print(mul5.mul(10))  # 50 출력"
   ]
  },
  {
   "cell_type": "code",
   "execution_count": null,
   "id": "7cda70a4",
   "metadata": {},
   "outputs": [],
   "source": [
    "import time\n",
    "\n",
    "def myfunc():\n",
    "    start = time.time()\n",
    "    print(\"함수가 실행됩니다.\")\n",
    "    end = time.time()\n",
    "    print(\"함수 수행시간: %f 초\" % (end-start))\n",
    "\n",
    "myfunc()"
   ]
  },
  {
   "cell_type": "code",
   "execution_count": null,
   "id": "53f61ed8",
   "metadata": {},
   "outputs": [],
   "source": [
    "# decorator.py\n",
    "import time\n",
    "\n",
    "def elapsed(original_func):   # 기존 함수를 인수로 받는다.\n",
    "    def wrapper():\n",
    "        start = time.time()\n",
    "        result = original_func()    # 기존 함수를 수행한다.\n",
    "        end = time.time()\n",
    "        print(\"함수 수행시간: %f 초\" % (end - start))  # 기존 함수의 수행시간을 출력한다.\n",
    "        return result  # 기존 함수의 수행 결과를 리턴한다.\n",
    "    return wrapper\n",
    "\n",
    "def myfunc():\n",
    "    print(\"함수가 실행됩니다.\")\n",
    "\n",
    "decorated_myfunc = elapsed(myfunc)\n",
    "decorated_myfunc()"
   ]
  },
  {
   "cell_type": "code",
   "execution_count": null,
   "id": "6751f211",
   "metadata": {},
   "outputs": [],
   "source": [
    "# decorator.py\n",
    "import time\n",
    "\n",
    "def elapsed(original_func):   # 기존 함수를 인수로 받는다.\n",
    "    def wrapper():\n",
    "        start = time.time()\n",
    "        result = original_func()    # 기존 함수를 수행한다.\n",
    "        end = time.time()\n",
    "        print(\"함수 수행시간: %f 초\" % (end - start))  # 기존 함수의 수행시간을 출력한다.\n",
    "        return result  # 기존 함수의 수행 결과를 리턴한다.\n",
    "    return wrapper\n",
    "\n",
    "@elapsed\n",
    "def myfunc():\n",
    "    print(\"함수가 실행됩니다.\")\n",
    "\n",
    "# decorated_myfunc = elapsed(myfunc)  # @elapsed 데코레이터로 인해 더이상 필요하지 않다.\n",
    "# decorated_myfunc()\n",
    "\n",
    "myfunc()"
   ]
  },
  {
   "cell_type": "code",
   "execution_count": null,
   "id": "f942c267",
   "metadata": {},
   "outputs": [],
   "source": [
    "# decorator2.py\n",
    "import time\n",
    "\n",
    "def elapsed(original_func):   # 기존 합수를 인수로 받는다.\n",
    "    def wrapper(*args, **kwargs):   # *args, **kwargs 매개변수 추가\n",
    "        start = time.time()\n",
    "        result = original_func(*args, **kwargs)  # 전달받은 *args, **kwargs를 입력파라미터로 기존함수 수행\n",
    "        end = time.time()\n",
    "        print(\"함수 수행시간: %f 초\" % (end - start))  # 수행시간을 출력한다.\n",
    "        return result  # 함수의 결과를 리턴한다.\n",
    "    return wrapper\n",
    "\n",
    "@elapsed\n",
    "def myfunc(msg):\n",
    "    \"\"\" 데코레이터 확인 함수 \"\"\"\n",
    "    print(\"'%s'을 출력합니다.\" % msg)\n",
    "\n",
    "myfunc(\"You need python\")"
   ]
  },
  {
   "attachments": {},
   "cell_type": "markdown",
   "id": "2a30e443",
   "metadata": {},
   "source": [
    "### 수업5: 이터레이터와 제너레이터\n",
    "\n",
    "교재 340페이지\n",
    "\n",
    "혹은 https://wikidocs.net/184211\n"
   ]
  },
  {
   "cell_type": "code",
   "execution_count": null,
   "id": "0626b505",
   "metadata": {},
   "outputs": [
    {
     "name": "stdout",
     "output_type": "stream",
     "text": [
      "1\n",
      "2\n",
      "3\n"
     ]
    }
   ],
   "source": [
    "# iterator.py\n",
    "class MyItertor:\n",
    "    def __init__(self, data):\n",
    "        self.data = data\n",
    "        self.position = 0\n",
    "\n",
    "    def __iter__(self):\n",
    "        return self\n",
    "\n",
    "    def __next__(self):\n",
    "        if self.position >= len(self.data):\n",
    "            raise StopIteration\n",
    "        result = self.data[self.position]\n",
    "        self.position += 1\n",
    "        return result\n",
    "\n",
    "if __name__ == \"__main__\":\n",
    "    i = MyItertor([1,2,3])\n",
    "    for item in i:\n",
    "        print(item)"
   ]
  },
  {
   "cell_type": "code",
   "execution_count": 6,
   "id": "8c680a69",
   "metadata": {},
   "outputs": [
    {
     "name": "stdout",
     "output_type": "stream",
     "text": [
      "1\n",
      "4\n",
      "9\n"
     ]
    }
   ],
   "source": [
    "# generator.py\n",
    "def mygen():\n",
    "    for i in range(1, 1000):\n",
    "        result = i * i\n",
    "        yield result\n",
    "\n",
    "gen = mygen()\n",
    "\n",
    "print(next(gen))\n",
    "print(next(gen))\n",
    "print(next(gen))"
   ]
  },
  {
   "attachments": {},
   "cell_type": "markdown",
   "id": "680e18cb",
   "metadata": {},
   "source": [
    "### 수업5: 예외 처리 \n",
    "\n",
    "교재 231페이지\n",
    "\n",
    "혹은 https://wikidocs.net/30"
   ]
  },
  {
   "cell_type": "code",
   "execution_count": null,
   "id": "bcde1069",
   "metadata": {},
   "outputs": [
    {
     "name": "stdout",
     "output_type": "stream",
     "text": [
      "division by zero\n",
      "a\n",
      "인덱싱할 수 없습니다.\n",
      "list index out of range\n",
      "list index out of range\n",
      "very fast\n",
      "천사\n",
      "허용되지 않는 별명입니다.\n",
      "천사\n",
      "허용되지 않는 별명입니다.\n"
     ]
    }
   ],
   "source": [
    "# 예외 처리\n",
    "# try ~ except\n",
    "\"\"\"\n",
    "try:\n",
    "    ...\n",
    "except [발생 오류[as 오류 메시지 변수]]:\n",
    "    ...\n",
    "\"\"\"\n",
    "\"\"\"\n",
    "except구문의 3가지 방법\n",
    "1. try, except만 쓰는 방법 : 오류 종류에 상관없이 오류가 발생하면 except블록을 수행 \n",
    "try:\n",
    "    ...\n",
    "except:\n",
    "    ...\n",
    "2. 발생 오류만 포함한 except문 : 오류가 발생했을 때 except문에 미리 정해 놓은 오류 이름과 일치할 때만 except블록을 수행\n",
    "try:\n",
    "    ...\n",
    "excecpt 발생오류:\n",
    "    ...\n",
    "3. 발생 오류와 오류 메시지 변수까지 포함한 except문 : 2번 경우에서 오류 메시지의 내용까지 알고 싶을 때 사용하는 방법\n",
    "try:\n",
    "    ...\n",
    "except 발생오류 as 오류 메시지 변수:\n",
    "    ...\n",
    "\"\"\"\n",
    "try:\n",
    "    4 / 0\n",
    "except ZeroDivisionError as e:\n",
    "    print(e)\n",
    "\n",
    "# try ~ finally : finally절은 try문 수행 도중 예외 발생 여부에 상관없이 항상 수행.\n",
    "# 보통 사용한 리소스를 close해야할 때 많이 사용됨.\n",
    "f = open('foo.txt', 'w')\n",
    "try:\n",
    "    # 무언가를 수행한다.\n",
    "    print('a')\n",
    "finally:\n",
    "    f.close()\n",
    "\n",
    "# 여러 개의 오류 처리하기 : 여러 개 중 가장 먼저 발생하는 에러에 대해 내용 출력\n",
    "\"\"\"\n",
    "try:\n",
    "    ...\n",
    "except 발생 오류1:\n",
    "    ...\n",
    "except 발생 오류2:\n",
    "    ...    \n",
    "\"\"\"\n",
    "# 하나씩\n",
    "try:\n",
    "    a = [1, 2]\n",
    "    print(a[3])\n",
    "    4 / 0\n",
    "except ZeroDivisionError:\n",
    "    print(\"0으로 나눌 수 없습니다.\")\n",
    "except IndexError:\n",
    "    print(\"인덱싱할 수 없습니다.\")\n",
    "# 에러문구를 e로\n",
    "try:\n",
    "    a = [1, 2]\n",
    "    print(a[3])\n",
    "    4 / 0\n",
    "except ZeroDivisionError as e:\n",
    "    print(e)\n",
    "except IndexError as e:\n",
    "    print(e)\n",
    "# 에러를 묶어서\n",
    "try:\n",
    "    a = [1, 2]\n",
    "    print(a[3])\n",
    "    4 / 0\n",
    "except (ZeroDivisionError, IndexError) as e:\n",
    "    print(e)\n",
    "\n",
    "# 오류 회피하기 :특정 오류가 발생할 경우 그냥 통과시켜야 할 때\n",
    "\"\"\"\n",
    "try:\n",
    "    f = open('나없는파일', 'r')\n",
    "except FileNotFoundError:\n",
    "    pass\n",
    "\"\"\"\n",
    "\n",
    "# 오류 일부러 발생시키기(raise)\n",
    "class Bird:\n",
    "    def fly(self):\n",
    "        raise NotImplementedError\n",
    "\n",
    "class Eagle(Bird):\n",
    "    # pass\n",
    "    def fly(self):\n",
    "        print('very fast')\n",
    "\n",
    "eagle = Eagle()\n",
    "eagle.fly()\n",
    "\n",
    "# 예외 만들기 : 프로그램 수행 도중 특수한 경우에만 예외 처리를 하기 위해서 종종 예외를 만들어서 사용.\n",
    "# 내장 클래스인 Exception클래스를 상속하여 만들 수 있다.\n",
    "class MyError(Exception):\n",
    "    def __str__(self): #__str__ : print(e)처럼 오류 메시지를 print문으로 출력할 경우에 호출되는 메서드이다.\n",
    "        return \"허용되지 않는 별명입니다.\"\n",
    "\n",
    "def say_nick(nick):\n",
    "    if nick == '바보':\n",
    "        raise MyError()\n",
    "    print(nick)\n",
    "\n",
    "try:\n",
    "    say_nick('천사')\n",
    "    say_nick('바보')\n",
    "except MyError:\n",
    "    print('허용되지 않는 별명입니다.')\n",
    "# as e\n",
    "try:\n",
    "    say_nick('천사')\n",
    "    say_nick('바보')\n",
    "except MyError as e:\n",
    "    print(e)"
   ]
  }
 ],
 "metadata": {
  "kernelspec": {
   "display_name": "Python 3 (ipykernel)",
   "language": "python",
   "name": "python3"
  }
 },
 "nbformat": 4,
 "nbformat_minor": 5
}
